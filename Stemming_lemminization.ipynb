{
  "cells": [
    {
      "cell_type": "code",
      "execution_count": null,
      "metadata": {
        "id": "jC1l1U0OoCF9"
      },
      "outputs": [],
      "source": [
        "import nltk\n",
        "\n",
        "#pip install nltk"
      ]
    },
    {
      "cell_type": "code",
      "execution_count": null,
      "metadata": {
        "id": "-npu4LoloCF_",
        "outputId": "3fde910b-e822-4776-b185-e8a1353bd357",
        "colab": {
          "base_uri": "https://localhost:8080/"
        }
      },
      "outputs": [
        {
          "output_type": "stream",
          "name": "stderr",
          "text": [
            "[nltk_data] Downloading package punkt to /root/nltk_data...\n",
            "[nltk_data]   Unzipping tokenizers/punkt.zip.\n"
          ]
        },
        {
          "output_type": "execute_result",
          "data": {
            "text/plain": [
              "True"
            ]
          },
          "metadata": {},
          "execution_count": 4
        }
      ],
      "source": [
        "nltk.download(\"punkt\")"
      ]
    },
    {
      "cell_type": "markdown",
      "metadata": {
        "id": "AYIDYEL-oCF_"
      },
      "source": [
        "###işletmek lazım, bu bir GUI başlatır.\n",
        "\n",
        "###GUI içinde mesela Models | punkt seçilir ve Install tıklanınca bu model indirilecektir."
      ]
    },
    {
      "cell_type": "code",
      "execution_count": null,
      "metadata": {
        "id": "h1nq8-maoCGA"
      },
      "outputs": [],
      "source": [
        "import nltk, string\n",
        "doc = '> Sayı 123 456 7 8 9  ve %,<<,&&, || gibi özel  karakterleri bulunan  bir metin yazıp sayıları çıkarınız. (e.q. regex) \\\n",
        "> html, &&, ||, % gibi özel karakterleri çıkaralım \\\n",
        "> Farklı dillerde metin yazabilrsiniz, sadece operatör değiştiirme değil \\\n",
        ">lemmization ile ön işleme yapabilirisiniz..'\n",
        "\n",
        "tokens = nltk.word_tokenize(doc.lower())\n"
      ]
    },
    {
      "cell_type": "markdown",
      "metadata": {
        "id": "51bPsnoZoCGA"
      },
      "source": [
        ">sonuç nedir??\n"
      ]
    },
    {
      "cell_type": "code",
      "execution_count": null,
      "metadata": {
        "id": "6inW8zXfoCGB",
        "outputId": "af72faed-b601-429f-8b0e-0b8b7c9f98ba",
        "colab": {
          "base_uri": "https://localhost:8080/"
        }
      },
      "outputs": [
        {
          "output_type": "stream",
          "name": "stdout",
          "text": [
            "['>', 'sayı', '123', '456', '7', '8', '9', 've', '%', ',', '<', '<', ',', '&', '&', ',', '||', 'gibi', 'özel', 'karakterleri', 'bulunan', 'bir', 'metin', 'yazıp', 'sayıları', 'çıkarınız', '.', '(', 'e.q', '.', 'regex', ')', '>', 'html', ',', '&', '&', ',', '||', ',', '%', 'gibi', 'özel', 'karakterleri', 'çıkaralım', '>', 'farklı', 'dillerde', 'metin', 'yazabilrsiniz', ',', 'sadece', 'operatör', 'değiştiirme', 'değil', '>', 'lemmization', 'ile', 'ön', 'işleme', 'yapabilirisiniz', '..']\n"
          ]
        }
      ],
      "source": [
        "print (tokens)"
      ]
    },
    {
      "cell_type": "markdown",
      "metadata": {
        "id": "8JEqPEmVoCGB"
      },
      "source": [
        " >bunu niye yazdık üstekinden farkı"
      ]
    },
    {
      "cell_type": "code",
      "execution_count": null,
      "metadata": {
        "id": "o3vbfJ6yoCGB"
      },
      "outputs": [],
      "source": [
        "tokens = [i for i in tokens if i not in string.punctuation]"
      ]
    },
    {
      "cell_type": "code",
      "execution_count": null,
      "metadata": {
        "id": "kDTqMijLoCGB",
        "outputId": "82961f59-3e6c-495d-b117-282af3e076b6",
        "colab": {
          "base_uri": "https://localhost:8080/"
        }
      },
      "outputs": [
        {
          "output_type": "stream",
          "name": "stdout",
          "text": [
            "['sayı', '123', '456', '7', '8', '9', 've', '||', 'gibi', 'özel', 'karakterleri', 'bulunan', 'bir', 'metin', 'yazıp', 'sayıları', 'çıkarınız', 'e.q', 'regex', 'html', '||', 'gibi', 'özel', 'karakterleri', 'çıkaralım', 'farklı', 'dillerde', 'metin', 'yazabilrsiniz', 'sadece', 'operatör', 'değiştiirme', 'değil', 'lemmization', 'ile', 'ön', 'işleme', 'yapabilirisiniz', '..']\n"
          ]
        }
      ],
      "source": [
        "print (tokens)"
      ]
    },
    {
      "cell_type": "code",
      "execution_count": null,
      "metadata": {
        "id": "MMuI-D0noCGB"
      },
      "outputs": [],
      "source": [
        "\n",
        "stemmer = nltk.stem.porter.PorterStemmer()\n",
        "def stem_tokens(tokens):\n",
        "               return [stemmer.stem(item)  for item in tokens]\n",
        "tokens = stem_tokens(tokens)\n"
      ]
    },
    {
      "cell_type": "markdown",
      "source": [
        "<img src= \"https://erraticcoder.files.wordpress.com/2021/12/stemming.png?w=1369\">\n",
        "\n",
        "<img src= \"https://miro.medium.com/v2/resize:fit:1400/0*6k_6zouDWBMWkehE\">\n"
      ],
      "metadata": {
        "id": "IAazxD6xqJw-"
      }
    },
    {
      "cell_type": "markdown",
      "metadata": {
        "id": "NYBlL4K7oCGB"
      },
      "source": [
        ">sonuç nedir??"
      ]
    },
    {
      "cell_type": "code",
      "execution_count": null,
      "metadata": {
        "id": "NWx4cXpuoCGC",
        "outputId": "c011bbde-f012-487f-ba95-7ac6aa54386e",
        "colab": {
          "base_uri": "https://localhost:8080/"
        }
      },
      "outputs": [
        {
          "output_type": "stream",
          "name": "stdout",
          "text": [
            "['sayı', '123', '456', '7', '8', '9', 've', '||', 'gibi', 'özel', 'karakterleri', 'bulunan', 'bir', 'metin', 'yazıp', 'sayıları', 'çıkarınız', 'e.q', 'regex', 'html', '||', 'gibi', 'özel', 'karakterleri', 'çıkaralım', 'farklı', 'dillerd', 'metin', 'yazabilrsiniz', 'sadec', 'operatör', 'değiştiirm', 'değil', 'lemmiz', 'ile', 'ön', 'işlem', 'yapabilirisiniz', '..']\n"
          ]
        }
      ],
      "source": [
        "print (tokens)"
      ]
    },
    {
      "cell_type": "markdown",
      "metadata": {
        "id": "2UYOuADXoCGC"
      },
      "source": [
        "#Kelime Çiftleri (Bigrams)\n",
        ">Bir dokümanda arka arkaya gelen ikili, üçlü, vs. kelime dizilerine bakmak o dokümanı anlamak için çok faydalı oluyor, mesela açık kelimesi var, yazılım kelimesi var, bu kelimeler ayrı ayrı pek  çok dokümanda geçiyor olabilirler, fakat 'açık yazılım' kelime çifti arka arkaya daha özel bir   anlam taşır. NLTK ile bu çiftleri üretmek için kod altta. Üretim ardından çiftlerin her biri   dokümanı temsil eden kelime çuvalında bir kolon haline gelir.\n"
      ]
    },
    {
      "cell_type": "code",
      "execution_count": null,
      "metadata": {
        "id": "rHgabDk6oCGC",
        "outputId": "9673ecec-f206-4364-90fe-7e97d78c2d0d",
        "colab": {
          "base_uri": "https://localhost:8080/"
        }
      },
      "outputs": [
        {
          "output_type": "stream",
          "name": "stdout",
          "text": [
            "('sayı', '123')\n",
            "('123', '456')\n",
            "('456', '7')\n",
            "('7', '8')\n",
            "('8', '9')\n",
            "('9', 've')\n",
            "('ve', '||')\n",
            "('||', 'gibi')\n",
            "('gibi', 'özel')\n",
            "('özel', 'karakterleri')\n",
            "('karakterleri', 'bulunan')\n",
            "('bulunan', 'bir')\n",
            "('bir', 'metin')\n",
            "('metin', 'yazıp')\n",
            "('yazıp', 'sayıları')\n",
            "('sayıları', 'çıkarınız')\n",
            "('çıkarınız', 'e.q')\n",
            "('e.q', 'regex')\n",
            "('regex', 'html')\n",
            "('html', '||')\n",
            "('||', 'gibi')\n",
            "('gibi', 'özel')\n",
            "('özel', 'karakterleri')\n",
            "('karakterleri', 'çıkaralım')\n",
            "('çıkaralım', 'farklı')\n",
            "('farklı', 'dillerd')\n",
            "('dillerd', 'metin')\n",
            "('metin', 'yazabilrsiniz')\n",
            "('yazabilrsiniz', 'sadec')\n",
            "('sadec', 'operatör')\n",
            "('operatör', 'değiştiirm')\n",
            "('değiştiirm', 'değil')\n",
            "('değil', 'lemmiz')\n",
            "('lemmiz', 'ile')\n",
            "('ile', 'ön')\n",
            "('ön', 'işlem')\n",
            "('işlem', 'yapabilirisiniz')\n",
            "('yapabilirisiniz', '..')\n"
          ]
        }
      ],
      "source": [
        "bigrams = nltk.bigrams(tokens)\n",
        "for x in bigrams:\n",
        "  print (x)"
      ]
    },
    {
      "cell_type": "code",
      "execution_count": null,
      "metadata": {
        "id": "fZ4hqcBdoCGC"
      },
      "outputs": [],
      "source": [
        "\"\"\"Kök bulmak (stemming) denen bir işlem mesela fiillerden çekimi çıkartır,\n",
        "böylece \"yüzmek (swimming)\" fiilinin tüm çekimleri aynı yüzme eylemine eşlenir. Bu çok faydalı bir özelliktir\n",
        "\"\"\""
      ]
    },
    {
      "cell_type": "markdown",
      "metadata": {
        "id": "ZVq60q_voCGC"
      },
      "source": [
        "#sıra sizde\n",
        "<pre>\n",
        "> Sayı ve \"%,<<,',&&, ||\" gibi özel  karakterleri bulunan  bir metin yazıp sayıları çıkarınız. (e.q. regex)\n",
        "> html, &&, ||, % gibi özel karakterleri çıkaralım\n",
        "> Farklı dillerde metin yazabilrsiniz, sadece operatör değiştiirme değil\n",
        ">lemmization ile ön işleme yapabilirisiniz\n",
        "\n",
        "</pre>"
      ]
    },
    {
      "source": [
        "!pip install snowballstemmer"
      ],
      "cell_type": "code",
      "metadata": {
        "id": "X5G9QyK4Oi_3",
        "outputId": "04de48c9-b472-4a57-911b-8f8f30140179",
        "colab": {
          "base_uri": "https://localhost:8080/"
        }
      },
      "execution_count": null,
      "outputs": [
        {
          "output_type": "stream",
          "name": "stdout",
          "text": [
            "Requirement already satisfied: snowballstemmer in /usr/local/lib/python3.10/dist-packages (2.2.0)\n"
          ]
        }
      ]
    },
    {
      "cell_type": "code",
      "execution_count": null,
      "metadata": {
        "id": "DGuIchuGoCGC"
      },
      "outputs": [],
      "source": [
        "#Gerekli Kütüphaneleri ekliyoruz.\n",
        "import nltk, string\n",
        "from nltk.corpus import stopwords\n",
        "from nltk.tokenize import word_tokenize\n",
        "from nltk.stem import LancasterStemmer, WordNetLemmatizer, SnowballStemmer\n"
      ]
    },
    {
      "cell_type": "code",
      "source": [
        "nltk.download(\"punkt\")"
      ],
      "metadata": {
        "id": "M92qeYf_P7A3",
        "outputId": "017e159f-9369-4d0a-f416-c75d3c8ef95b",
        "colab": {
          "base_uri": "https://localhost:8080/"
        }
      },
      "execution_count": null,
      "outputs": [
        {
          "output_type": "stream",
          "name": "stderr",
          "text": [
            "[nltk_data] Downloading package punkt to /root/nltk_data...\n",
            "[nltk_data]   Package punkt is already up-to-date!\n"
          ]
        },
        {
          "output_type": "execute_result",
          "data": {
            "text/plain": [
              "True"
            ]
          },
          "metadata": {},
          "execution_count": 25
        }
      ]
    },
    {
      "cell_type": "code",
      "source": [
        "#Gerekli metini buraya yazıyoruz.\n",
        "doc = 'Thanks to the INTERNET, the developments in communication technologies have brought people closer together in recent years.\\\n",
        "The slow communication process of the past, using letters and telegraph, has now become an instant communication with the help of the Internet.\\\n",
        "Thanks to the social media, which is one of the application software emerged in line with the smartphone technology,\\\n",
        "communication environment now allows people to come into contact with everyone. This affected all people and institutions.\\\n",
        "For example, sharing a place, such as a movie theater, a store or a cafe, or expressing a positive or negative opinion about them\\\n",
        "affects everyone and the whole society in every field. People consider the social media as the main environment for communication.\\\n",
        "People share events, sports, film, personal feelings and thoughts that affect them through social media. This has transformed social\\\n",
        "media platforms .   !()||-[]{};:\",<>./?@#$%^&*_~%1 2 3 456 78 90'"
      ],
      "metadata": {
        "id": "V-cKK7ryCOGC"
      },
      "execution_count": null,
      "outputs": []
    },
    {
      "cell_type": "code",
      "source": [
        "# Metni küçültelim.\n",
        "doc=doc.lower()\n",
        "print(doc)"
      ],
      "metadata": {
        "id": "kUeklUeDDpix",
        "outputId": "72ca3f28-148b-4b0f-faa4-e6b93eb8e69e",
        "colab": {
          "base_uri": "https://localhost:8080/"
        }
      },
      "execution_count": null,
      "outputs": [
        {
          "output_type": "stream",
          "name": "stdout",
          "text": [
            "thanks to the internet, the developments in communication technologies have brought people closer together in recent years.the slow communication process of the past, using letters and telegraph, has now become an instant communication with the help of the internet.thanks to the social media, which is one of the application software emerged in line with the smartphone technology,communication environment now allows people to come into contact with everyone. this affected all people and institutions.for example, sharing a place, such as a movie theater, a store or a cafe, or expressing a positive or negative opinion about themaffects everyone and the whole society in every field. people consider the social media as the main environment for communication.people share events, sports, film, personal feelings and thoughts that affect them through social media. this has transformed socialmedia platforms .   !()||-[]{};:\",<>./?@#$%^&*_~%1 2 3 456 78 90\n"
          ]
        }
      ]
    },
    {
      "cell_type": "code",
      "source": [
        "#Noktalama İşaretlerini ve Özel Karakterleri çıkarmak.\n",
        "noktalama_isaretleri = '''!()||-[]{};:'\",<>./?@#$%^&*_~%'''\n",
        "doc = ''.join(char for char in doc if char not in noktalama_isaretleri)\n",
        "print(doc)"
      ],
      "metadata": {
        "id": "vyZvhoehDzFQ",
        "outputId": "ef9602e0-0298-4cf7-f410-82598e92e683",
        "colab": {
          "base_uri": "https://localhost:8080/"
        }
      },
      "execution_count": null,
      "outputs": [
        {
          "output_type": "stream",
          "name": "stdout",
          "text": [
            "thanks to the internet the developments in communication technologies have brought people closer together in recent yearsthe slow communication process of the past using letters and telegraph has now become an instant communication with the help of the internetthanks to the social media which is one of the application software emerged in line with the smartphone technologycommunication environment now allows people to come into contact with everyone this affected all people and institutionsfor example sharing a place such as a movie theater a store or a cafe or expressing a positive or negative opinion about themaffects everyone and the whole society in every field people consider the social media as the main environment for communicationpeople share events sports film personal feelings and thoughts that affect them through social media this has transformed socialmedia platforms    1 2 3 456 78 90\n"
          ]
        }
      ]
    },
    {
      "cell_type": "code",
      "source": [
        "#Numaraları çıkarmak\n",
        "doc = ''.join(char for char in doc if not char.isdigit())\n",
        "print(doc)"
      ],
      "metadata": {
        "id": "9XGftLZcSyVS",
        "outputId": "cebfe988-5f32-458b-eb58-87a75ac011a5",
        "colab": {
          "base_uri": "https://localhost:8080/"
        }
      },
      "execution_count": null,
      "outputs": [
        {
          "output_type": "stream",
          "name": "stdout",
          "text": [
            "thanks to the internet the developments in communication technologies have brought people closer together in recent yearsthe slow communication process of the past using letters and telegraph has now become an instant communication with the help of the internetthanks to the social media which is one of the application software emerged in line with the smartphone technologycommunication environment now allows people to come into contact with everyone this affected all people and institutionsfor example sharing a place such as a movie theater a store or a cafe or expressing a positive or negative opinion about themaffects everyone and the whole society in every field people consider the social media as the main environment for communicationpeople share events sports film personal feelings and thoughts that affect them through social media this has transformed socialmedia platforms         \n"
          ]
        }
      ]
    },
    {
      "cell_type": "code",
      "source": [
        "# Gereksiz kelimelerin listesini yükleme (Stop words)\n",
        "nltk.download('stopwords')\n",
        "stop_words = set(stopwords.words('english'))\n"
      ],
      "metadata": {
        "id": "8nwdI0tFEpxx",
        "outputId": "fe77429d-5e8b-4cb6-e286-1b3701a52895",
        "colab": {
          "base_uri": "https://localhost:8080/"
        }
      },
      "execution_count": null,
      "outputs": [
        {
          "output_type": "stream",
          "name": "stderr",
          "text": [
            "[nltk_data] Downloading package stopwords to /root/nltk_data...\n",
            "[nltk_data]   Package stopwords is already up-to-date!\n"
          ]
        }
      ]
    },
    {
      "cell_type": "code",
      "source": [
        "# Kelimeleri köke indirme (Stemming) Porter Stemming türkçe desteklenmiyor.\n",
        "lancaster_stemmer = LancasterStemmer()\n",
        "snowball_stemmer = SnowballStemmer(\"english\")\n"
      ],
      "metadata": {
        "id": "-kRTQoDQE903"
      },
      "execution_count": null,
      "outputs": []
    },
    {
      "cell_type": "code",
      "source": [
        "# Kelimeleri köke indirme\n",
        "kok_doc_lancaster = [lancaster_stemmer.stem(word) for word in word_tokenize(doc) if word not in stop_words]\n",
        "kok_doc_snowball =  [snowball_stemmer.stem(word) for word in word_tokenize(doc) if word not in stop_words]\n",
        "\n",
        "print(\"Kelimeler köke indirildi (Lancaster):\", ' '.join(kok_doc_lancaster))\n",
        "print(\"Kelimeler köke indirildi (Snowball):\", ' '.join(kok_doc_snowball))"
      ],
      "metadata": {
        "id": "rcJJBWJOFUCv",
        "outputId": "efce9691-6d9f-436d-9678-1e3bad2d7b80",
        "colab": {
          "base_uri": "https://localhost:8080/"
        }
      },
      "execution_count": null,
      "outputs": [
        {
          "output_type": "stream",
          "name": "stdout",
          "text": [
            "Kelimeler köke indirildi (Lancaster): thank internet develop commun technolog brought peopl clos togeth rec yearsth slow commun process past us let telegraph becom inst commun help internetthank soc med on apply softw emerg lin smartphon technologycommun environ allow peopl com contact everyon affect peopl institutionsf exampl shar plac movy the stor caf express posit neg opin themaffect everyon whol socy every field peopl consid soc med main environ communicationpeopl shar ev sport film person feel thought affect soc med transform socialmed platform\n",
            "Kelimeler köke indirildi (Snowball): thank internet develop communic technolog brought peopl closer togeth recent yearsth slow communic process past use letter telegraph becom instant communic help internetthank social media one applic softwar emerg line smartphon technologycommun environ allow peopl come contact everyon affect peopl institutionsfor exampl share place movi theater store cafe express posit negat opinion themaffect everyon whole societi everi field peopl consid social media main environ communicationpeopl share event sport film person feel thought affect social media transform socialmedia platform\n"
          ]
        }
      ]
    },
    {
      "cell_type": "code",
      "source": [
        "# Lemmatization\n",
        "nltk.download('wordnet')\n",
        "lemmatizer = WordNetLemmatizer()\n",
        "lemmatized_words = [lemmatizer.lemmatize(word) for word in word_tokenize(doc) if word not in stop_words]\n",
        "print(\"Lemmatization:\", ' '.join(lemmatized_words))"
      ],
      "metadata": {
        "id": "Ax-tdiciFzM_",
        "outputId": "88a92018-bb8e-4034-9702-63c0231b7276",
        "colab": {
          "base_uri": "https://localhost:8080/"
        }
      },
      "execution_count": null,
      "outputs": [
        {
          "output_type": "stream",
          "name": "stderr",
          "text": [
            "[nltk_data] Downloading package wordnet to /root/nltk_data...\n"
          ]
        },
        {
          "output_type": "stream",
          "name": "stdout",
          "text": [
            "Lemmatization: thanks internet development communication technology brought people closer together recent yearsthe slow communication process past using letter telegraph become instant communication help internetthanks social medium one application software emerged line smartphone technologycommunication environment allows people come contact everyone affected people institutionsfor example sharing place movie theater store cafe expressing positive negative opinion themaffects everyone whole society every field people consider social medium main environment communicationpeople share event sport film personal feeling thought affect social medium transformed socialmedia platform\n"
          ]
        }
      ]
    }
  ],
  "metadata": {
    "language_info": {
      "name": "python"
    },
    "colab": {
      "provenance": []
    },
    "kernelspec": {
      "name": "python3",
      "display_name": "Python 3"
    }
  },
  "nbformat": 4,
  "nbformat_minor": 0
}