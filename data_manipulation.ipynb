{
  "cells": [
    {
      "cell_type": "markdown",
      "metadata": {
        "id": "-bSTvZB-kLiY"
      },
      "source": [
        "#### 1- Kütüphanelerin Yüklenmesi"
      ]
    },
    {
      "cell_type": "code",
      "execution_count": 1,
      "metadata": {
        "id": "FdAN2IlikLiZ"
      },
      "outputs": [],
      "source": [
        "import numpy as np ## numpy kütüphanesinin import edilmesi\n",
        "import pandas as pd ## pandas kütüphanesinin import edilmesi\n",
        "import seaborn as sns ## seaborn kütüphanesinin import edilmesi\n",
        "import matplotlib.pyplot as plt ## matplotlip kütüphanesinin import edilmesi\n",
        "import datetime as dt ## datetime kütüphanesinin import edilmesi\n",
        "pd.pandas.set_option('display.max_columns', None) ## dataframein tüm sutunlarının görülmesi için gereken kod"
      ]
    },
    {
      "cell_type": "markdown",
      "metadata": {
        "id": "c96sjPEfkLia"
      },
      "source": [
        "### 2- Verisetinin Yüklenmesi"
      ]
    },
    {
      "cell_type": "code",
      "source": [
        "from google.colab import drive\n",
        "drive.mount('/content/drive')     #colab ve drive dan veriyi çeip çalışcaklar kendi drive dosya yolu\n",
        "%cd /content/drive/My\\ Drive/Colab Notebooks/NLP/Lab4"
      ],
      "metadata": {
        "colab": {
          "base_uri": "https://localhost:8080/"
        },
        "id": "j2_lmWgek__V",
        "outputId": "71bb3bbb-0cd9-4daa-9683-e346f6be4b2d"
      },
      "execution_count": 2,
      "outputs": [
        {
          "output_type": "stream",
          "name": "stdout",
          "text": [
            "Mounted at /content/drive\n",
            "/content/drive/My Drive/Colab Notebooks/NLP/Lab4\n"
          ]
        }
      ]
    },
    {
      "cell_type": "code",
      "execution_count": 3,
      "metadata": {
        "id": "fAuVMUEokLia"
      },
      "outputs": [],
      "source": [
        "data = pd.read_excel(\"MarketSales.xlsx\")"
      ]
    },
    {
      "cell_type": "markdown",
      "metadata": {
        "id": "BSgm1__tkLib"
      },
      "source": [
        "### 3- Verisetinin Orjinalınde değişiklik gelmemesei için veriyi başka bir değişkene atayın"
      ]
    },
    {
      "cell_type": "code",
      "execution_count": 4,
      "metadata": {
        "id": "5iJOhHQ0kLib"
      },
      "outputs": [],
      "source": [
        "#data.copy()\n",
        "data2=data.copy()\n",
        "#data2=data\n"
      ]
    },
    {
      "cell_type": "markdown",
      "metadata": {
        "id": "1rjJjWcBkLib"
      },
      "source": [
        "### 4-Verisetinin Boyutlarına bulunuz"
      ]
    },
    {
      "cell_type": "code",
      "execution_count": 5,
      "metadata": {
        "colab": {
          "base_uri": "https://localhost:8080/"
        },
        "id": "1cGQODPDkLib",
        "outputId": "c1583939-9217-4c0b-d3fb-320161de31c4"
      },
      "outputs": [
        {
          "output_type": "execute_result",
          "data": {
            "text/plain": [
              "(611108, 26)"
            ]
          },
          "metadata": {},
          "execution_count": 5
        }
      ],
      "source": [
        "data2.shape"
      ]
    },
    {
      "cell_type": "markdown",
      "metadata": {
        "id": "N5rZoti6kLic"
      },
      "source": [
        "### 5-Verisetinin Sutunlarının İsimlerini Yazdırın"
      ]
    },
    {
      "cell_type": "code",
      "execution_count": 7,
      "metadata": {
        "colab": {
          "base_uri": "https://localhost:8080/"
        },
        "id": "TJ7k7BAwkLic",
        "outputId": "1ea979ae-426f-4972-fac2-7aafc4c60503"
      },
      "outputs": [
        {
          "output_type": "execute_result",
          "data": {
            "text/plain": [
              "Index(['ID', 'ITEMCODE', 'ITEMNAME', 'FICHENO', 'DATE_', 'AMOUNT', 'PRICE',\n",
              "       'LINENETTOTAL', 'LINENET', 'BRANCHNR', 'BRANCH', 'SALESMAN', 'CITY',\n",
              "       'REGION', 'LATITUDE', 'LONGITUDE', 'CLIENTCODE', 'CLIENTNAME',\n",
              "       'BRANDCODE', 'BRAND', 'CATEGORY_NAME1', 'CATEGORY_NAME2',\n",
              "       'CATEGORY_NAME3', 'STARTDATE', 'ENDDATE', 'GENDER'],\n",
              "      dtype='object')"
            ]
          },
          "metadata": {},
          "execution_count": 7
        }
      ],
      "source": [
        "data2.columns\n",
        "df.isnull().any()\n",
        ". sum()\n",
        "df[df'Break']\n",
        "df.grupby(\"REGİON\").agg(\"ŞUBEADI\") gibiii"
      ]
    },
    {
      "cell_type": "markdown",
      "metadata": {
        "id": "Vi4sqIA6kLic"
      },
      "source": [
        "### 6- Veri setinin bilgilerine ulaşılması"
      ]
    },
    {
      "cell_type": "code",
      "execution_count": 8,
      "metadata": {
        "id": "HQlpnyYSkLic",
        "colab": {
          "base_uri": "https://localhost:8080/"
        },
        "outputId": "51ca30b9-209c-40eb-c5d7-49efaf573410"
      },
      "outputs": [
        {
          "output_type": "stream",
          "name": "stdout",
          "text": [
            "<class 'pandas.core.frame.DataFrame'>\n",
            "RangeIndex: 611108 entries, 0 to 611107\n",
            "Data columns (total 26 columns):\n",
            " #   Column          Non-Null Count   Dtype         \n",
            "---  ------          --------------   -----         \n",
            " 0   ID              611107 non-null  float64       \n",
            " 1   ITEMCODE        603941 non-null  float64       \n",
            " 2   ITEMNAME        603941 non-null  object        \n",
            " 3   FICHENO         611108 non-null  int64         \n",
            " 4   DATE_           611107 non-null  datetime64[ns]\n",
            " 5   AMOUNT          611107 non-null  float64       \n",
            " 6   PRICE           611107 non-null  float64       \n",
            " 7   LINENETTOTAL    611107 non-null  float64       \n",
            " 8   LINENET         611107 non-null  float64       \n",
            " 9   BRANCHNR        611107 non-null  float64       \n",
            " 10  BRANCH          611107 non-null  object        \n",
            " 11  SALESMAN        611108 non-null  object        \n",
            " 12  CITY            611107 non-null  object        \n",
            " 13  REGION          611107 non-null  object        \n",
            " 14  LATITUDE        611107 non-null  float64       \n",
            " 15  LONGITUDE       611107 non-null  float64       \n",
            " 16  CLIENTCODE      592760 non-null  object        \n",
            " 17  CLIENTNAME      592743 non-null  object        \n",
            " 18  BRANDCODE       575551 non-null  object        \n",
            " 19  BRAND           575551 non-null  object        \n",
            " 20  CATEGORY_NAME1  603941 non-null  object        \n",
            " 21  CATEGORY_NAME2  583448 non-null  object        \n",
            " 22  CATEGORY_NAME3  401649 non-null  object        \n",
            " 23  STARTDATE       611108 non-null  datetime64[ns]\n",
            " 24  ENDDATE         611108 non-null  datetime64[ns]\n",
            " 25  GENDER          592743 non-null  object        \n",
            "dtypes: datetime64[ns](3), float64(9), int64(1), object(13)\n",
            "memory usage: 121.2+ MB\n"
          ]
        }
      ],
      "source": [
        "data.info()"
      ]
    },
    {
      "cell_type": "markdown",
      "metadata": {
        "id": "GkKMA-nPkLic"
      },
      "source": [
        "### 7- Veri Setinde Boş Değer Varmı sorgulanması"
      ]
    },
    {
      "cell_type": "code",
      "execution_count": 9,
      "metadata": {
        "id": "UvdBsSBpkLic",
        "colab": {
          "base_uri": "https://localhost:8080/"
        },
        "outputId": "0b5162b4-d65c-4d12-d49f-f04abcb1f718"
      },
      "outputs": [
        {
          "output_type": "stream",
          "name": "stdout",
          "text": [
            "Veri setinde boş değer var.\n"
          ]
        }
      ],
      "source": [
        "if data.isnull().values.any():\n",
        "    print(\"Veri setinde boş değer var.\")\n",
        "else:\n",
        "    print(\"Veri setinde boş değer yok.\")"
      ]
    },
    {
      "cell_type": "markdown",
      "metadata": {
        "id": "wPAAlMEdkLic"
      },
      "source": [
        "### 8- Verisetindeki Sutunlarda Toplam Kaç Adet Değer Var Bulunuz"
      ]
    },
    {
      "cell_type": "code",
      "execution_count": 11,
      "metadata": {
        "id": "9l-oFG5ykLid",
        "colab": {
          "base_uri": "https://localhost:8080/"
        },
        "outputId": "029e667f-ad35-49f2-8d02-b0f85aefd329"
      },
      "outputs": [
        {
          "output_type": "stream",
          "name": "stdout",
          "text": [
            "ID                611107\n",
            "ITEMCODE          603941\n",
            "ITEMNAME          603941\n",
            "FICHENO           611108\n",
            "DATE_             611107\n",
            "AMOUNT            611107\n",
            "PRICE             611107\n",
            "LINENETTOTAL      611107\n",
            "LINENET           611107\n",
            "BRANCHNR          611107\n",
            "BRANCH            611107\n",
            "SALESMAN          611108\n",
            "CITY              611107\n",
            "REGION            611107\n",
            "LATITUDE          611107\n",
            "LONGITUDE         611107\n",
            "CLIENTCODE        592760\n",
            "CLIENTNAME        592743\n",
            "BRANDCODE         575551\n",
            "BRAND             575551\n",
            "CATEGORY_NAME1    603941\n",
            "CATEGORY_NAME2    583448\n",
            "CATEGORY_NAME3    401649\n",
            "STARTDATE         611108\n",
            "ENDDATE           611108\n",
            "GENDER            592743\n",
            "dtype: int64\n"
          ]
        }
      ],
      "source": [
        "toplam_sutun_sayisi = data.count()\n",
        "print(toplam_sutun_sayisi)"
      ]
    },
    {
      "cell_type": "markdown",
      "metadata": {
        "id": "BQm3tafIkLid"
      },
      "source": [
        "### 9- Verisetinde Toplam Kaç Adet Değer Var Bulunuz"
      ]
    },
    {
      "cell_type": "code",
      "execution_count": 12,
      "metadata": {
        "id": "1LYZ2054kLid",
        "colab": {
          "base_uri": "https://localhost:8080/"
        },
        "outputId": "29dda832-51bd-4638-90b1-38e73d3fcda6"
      },
      "outputs": [
        {
          "output_type": "stream",
          "name": "stdout",
          "text": [
            "15888808\n"
          ]
        }
      ],
      "source": [
        "toplam_deger_sayisi = data.size\n",
        "print(toplam_deger_sayisi)"
      ]
    },
    {
      "cell_type": "markdown",
      "metadata": {
        "id": "lV2xqxH9kLid"
      },
      "source": [
        "### 10- Verisetinde Boş Değer Olan Sutunların İsimlerini yazdıralım"
      ]
    },
    {
      "cell_type": "code",
      "execution_count": 13,
      "metadata": {
        "id": "3v61dw90kLid"
      },
      "outputs": [],
      "source": [
        "bos_deger_sutunlari = []"
      ]
    },
    {
      "cell_type": "code",
      "execution_count": 14,
      "metadata": {
        "id": "XArWdKUpkLid"
      },
      "outputs": [],
      "source": [
        "# Her sütun için boş değer içerip içermediğini kontrol et\n",
        "for sutun in data.columns:\n",
        "    if data[sutun].isnull().any():\n",
        "        bos_deger_sutunlari.append(sutun)"
      ]
    },
    {
      "cell_type": "code",
      "execution_count": 15,
      "metadata": {
        "id": "YsSrnKFFkLid",
        "colab": {
          "base_uri": "https://localhost:8080/"
        },
        "outputId": "ff3f5729-1aa1-432c-87e5-c5f219a596e1"
      },
      "outputs": [
        {
          "output_type": "stream",
          "name": "stdout",
          "text": [
            "Boş değer içeren sütunlar:\n",
            "ID\n",
            "ITEMCODE\n",
            "ITEMNAME\n",
            "DATE_\n",
            "AMOUNT\n",
            "PRICE\n",
            "LINENETTOTAL\n",
            "LINENET\n",
            "BRANCHNR\n",
            "BRANCH\n",
            "CITY\n",
            "REGION\n",
            "LATITUDE\n",
            "LONGITUDE\n",
            "CLIENTCODE\n",
            "CLIENTNAME\n",
            "BRANDCODE\n",
            "BRAND\n",
            "CATEGORY_NAME1\n",
            "CATEGORY_NAME2\n",
            "CATEGORY_NAME3\n",
            "GENDER\n"
          ]
        }
      ],
      "source": [
        "# Boş değer içeren sütunların isimlerini yazdır\n",
        "print(\"Boş değer içeren sütunlar:\")\n",
        "for sutun in bos_deger_sutunlari:\n",
        "    print(sutun)"
      ]
    },
    {
      "cell_type": "markdown",
      "metadata": {
        "id": "cfX9pZB0kLid"
      },
      "source": [
        "### 11-Verisetinin Sutunlarında Kaç farklı Type var Onu Bulalım"
      ]
    },
    {
      "cell_type": "code",
      "execution_count": 16,
      "metadata": {
        "id": "RM5v9BSlkLid",
        "colab": {
          "base_uri": "https://localhost:8080/"
        },
        "outputId": "2d00eecb-763f-4061-8661-59151c2fd22a"
      },
      "outputs": [
        {
          "output_type": "stream",
          "name": "stdout",
          "text": [
            "Veri setindeki farklı veri tiplerinin sayısı: 4\n"
          ]
        }
      ],
      "source": [
        "farkli_tipler = set(data.dtypes)\n",
        "print(\"Veri setindeki farklı veri tiplerinin sayısı:\", len(farkli_tipler))"
      ]
    },
    {
      "cell_type": "markdown",
      "metadata": {
        "id": "YPZSIJjEkLie"
      },
      "source": [
        "### 12- Verisetinin Sutunlarındaki Eşsiz Type Nelerdir Onlara Bakalım"
      ]
    },
    {
      "cell_type": "code",
      "execution_count": 17,
      "metadata": {
        "id": "WSTODf7TkLie",
        "colab": {
          "base_uri": "https://localhost:8080/"
        },
        "outputId": "f46bf1fb-b5a2-491c-8282-abb803340b27"
      },
      "outputs": [
        {
          "output_type": "stream",
          "name": "stdout",
          "text": [
            "Veri setindeki eşsiz veri tipleri:\n",
            "float64\n",
            "object\n",
            "int64\n",
            "datetime64[ns]\n"
          ]
        }
      ],
      "source": [
        "# Her bir sütunun veri tipini al\n",
        "sutun_tipleri = data.dtypes\n",
        "\n",
        "# Eşsiz veri tiplerini bul\n",
        "essiz_tipler = sutun_tipleri.unique()\n",
        "\n",
        "# Eşsiz veri tiplerini yazdır\n",
        "print(\"Veri setindeki eşsiz veri tipleri:\")\n",
        "for tip in essiz_tipler:\n",
        "    print(tip)"
      ]
    },
    {
      "cell_type": "markdown",
      "metadata": {
        "id": "u9ko_jzNkLie"
      },
      "source": [
        "### 13-Verisetinin İlk 5 Satırını Yazdıralım"
      ]
    },
    {
      "cell_type": "code",
      "execution_count": 18,
      "metadata": {
        "id": "BEVkdYbYkLie",
        "colab": {
          "base_uri": "https://localhost:8080/"
        },
        "outputId": "ffbee1a8-b3b1-45db-d10c-facab1543b8d"
      },
      "outputs": [
        {
          "output_type": "stream",
          "name": "stdout",
          "text": [
            "        ID  ITEMCODE                         ITEMNAME  FICHENO      DATE_  \\\n",
            "0  11738.0    5863.0  SPRITE 1 LT LIMON AROMALI GAZOZ    18456 2017-01-07   \n",
            "1  10537.0       8.0                        TOZ SEKER    18105 2017-01-06   \n",
            "2  11335.0    5979.0             FALIM SAKIZ 5LI NANE    18350 2017-01-03   \n",
            "3  11336.0    5979.0             FALIM SAKIZ 5LI NANE    18350 2017-01-03   \n",
            "4  10115.0   12808.0            FALIM SAKIZ 5LI CILEK    18005 2017-01-05   \n",
            "\n",
            "   AMOUNT  PRICE  LINENETTOTAL  LINENET  BRANCHNR           BRANCH  \\\n",
            "0     1.0   2.00          2.00     1.85      52.0   Kocaeli Subesi   \n",
            "1     5.0   2.65         13.25    12.27       8.0   Antalya Subesi   \n",
            "2     1.0   0.40          0.40     0.37      40.0  İstanbul Subesi   \n",
            "3     1.0   0.40          0.40     0.37      40.0  İstanbul Subesi   \n",
            "4     1.0   0.40          0.40     0.37      41.0     İzmir Subesi   \n",
            "\n",
            "       SALESMAN      CITY   REGION  LATITUDE  LONGITUDE CLIENTCODE  \\\n",
            "0     Eyüp CİNE   Kocaeli  Marmara   40.8533    29.8815     467369   \n",
            "1  İlhan ÖRENLİ   Antalya  Akdeniz   36.8841    30.7056     131464   \n",
            "2  İsmet SARTIK  İstanbul  Marmara   41.0053    28.9770     656969   \n",
            "3  İsmet SARTIK  İstanbul  Marmara   41.0053    28.9770     656969   \n",
            "4  Gülten IŞLAK     İzmir      Ege   38.4189    27.1287     447336   \n",
            "\n",
            "       CLIENTNAME BRANDCODE   BRAND CATEGORY_NAME1   CATEGORY_NAME2  \\\n",
            "0  Sercan KIZILOK       156  SPRİTE         İÇECEK     GAZLI İÇECEK   \n",
            "1    İsmet ŞINGIR       NaN     NaN         İÇECEK        ÇAY KAHVE   \n",
            "2     Yağız KUBAL       300   FALIM           GIDA  SAKIZ SEKERLEME   \n",
            "3     Yağız KUBAL       300   FALIM           GIDA  SAKIZ SEKERLEME   \n",
            "4    Habibe AYSAN       300   FALIM           GIDA  SAKIZ SEKERLEME   \n",
            "\n",
            "       CATEGORY_NAME3           STARTDATE             ENDDATE GENDER  \n",
            "0               GAZOZ 2017-01-08 16:16:11 2017-01-08 16:17:13      E  \n",
            "1  SEKER TATLANDIRICI 2017-01-07 11:04:34 2017-01-07 11:05:37      E  \n",
            "2               SAKIZ 2017-01-04 14:00:03 2017-01-04 14:01:01      E  \n",
            "3               SAKIZ 2017-01-04 14:00:03 2017-01-04 14:01:01      E  \n",
            "4               SAKIZ 2017-01-06 14:00:30 2017-01-06 14:01:03      K  \n"
          ]
        }
      ],
      "source": [
        "print(data.head(5))"
      ]
    },
    {
      "cell_type": "markdown",
      "metadata": {
        "id": "68HW2NxukLie"
      },
      "source": [
        "### 14-Verisetinin son 7 Satırını Yazdıralım"
      ]
    },
    {
      "cell_type": "code",
      "execution_count": 19,
      "metadata": {
        "id": "jq640prykLie",
        "colab": {
          "base_uri": "https://localhost:8080/"
        },
        "outputId": "c4a39fe6-5747-48e9-8bcc-f61caeede236"
      },
      "outputs": [
        {
          "output_type": "stream",
          "name": "stdout",
          "text": [
            "              ID  ITEMCODE                  ITEMNAME  FICHENO      DATE_  \\\n",
            "611101  511342.0    6480.0  UNO KEPEKLI EKMEK 470GR.   134601 2017-03-18   \n",
            "611102  512198.0       7.0              EKMEK 250 GR   134742 2017-03-18   \n",
            "611103  511703.0       7.0              EKMEK 250 GR   134656 2017-03-18   \n",
            "611104  511496.0       7.0              EKMEK 250 GR   134630 2017-03-18   \n",
            "611105  492612.0       7.0              EKMEK 250 GR   130100 2017-03-15   \n",
            "611106  512343.0       7.0              EKMEK 250 GR   134762 2017-03-18   \n",
            "611107  512179.0    3942.0    ETI 80 GR KARAM BITTER   134738 2017-03-18   \n",
            "\n",
            "        AMOUNT  PRICE  LINENETTOTAL  LINENET  BRANCHNR           BRANCH  \\\n",
            "611101     1.0   3.25          3.25     3.22      73.0  Tekirdağ Subesi   \n",
            "611102     1.0   0.90          0.90     0.89      40.0  İstanbul Subesi   \n",
            "611103     1.0   0.90          0.90     0.89      66.0   Sakarya Subesi   \n",
            "611104     1.0   0.90          0.90     0.89       7.0    Ankara Subesi   \n",
            "611105     1.0   0.90          0.90     0.89      59.0     Muğla Subesi   \n",
            "611106     1.0   0.90          0.90     0.88      40.0  İstanbul Subesi   \n",
            "611107     1.0   1.90          1.90     1.76      74.0     Tokat Subesi   \n",
            "\n",
            "              SALESMAN      CITY      REGION  LATITUDE  LONGITUDE CLIENTCODE  \\\n",
            "611101  Aleyna ÇUKUREL  Tekirdağ     Marmara   40.9833    27.5167      16670   \n",
            "611102    İsmet SARTIK  İstanbul     Marmara   41.0053    28.9770     523722   \n",
            "611103  Beren BULGURCU   Sakarya     Marmara   40.6940    30.4358     374191   \n",
            "611104       Eda SINAV    Ankara  İç Anadolu   39.9208    32.8541     656248   \n",
            "611105  Nisa nur SAĞIM     Muğla         Ege   37.2153    28.3636      78643   \n",
            "611106     Arife DORAP  İstanbul     Marmara   41.0053    28.9770     926041   \n",
            "611107  Lütfiye DÖŞEME     Tokat   Karadeniz   40.3167    36.5500     241748   \n",
            "\n",
            "              CLIENTNAME BRANDCODE BRAND CATEGORY_NAME1 CATEGORY_NAME2  \\\n",
            "611101       Berat ÖGMEN       145   UNO           GIDA  UNLU MAMÜLLER   \n",
            "611102       Özcan PAPİR       NaN   NaN           GIDA  UNLU MAMÜLLER   \n",
            "611103   Mahmut BAYATGİL       NaN   NaN           GIDA  UNLU MAMÜLLER   \n",
            "611104       Gamze BOTUÇ       NaN   NaN           GIDA  UNLU MAMÜLLER   \n",
            "611105  Cengiz BEREKETÇİ       NaN   NaN           GIDA  UNLU MAMÜLLER   \n",
            "611106  Elifnur EGİNKAYA       NaN   NaN           GIDA  UNLU MAMÜLLER   \n",
            "611107    Hacer CANDEMİR        44   ETİ           GIDA  BÜSKİVİ ÇEREZ   \n",
            "\n",
            "       CATEGORY_NAME3           STARTDATE             ENDDATE GENDER  \n",
            "611101          EKMEK 2017-03-19 18:54:51 2017-03-19 18:54:58      E  \n",
            "611102          EKMEK 2017-03-19 16:09:39 2017-03-19 16:11:10      E  \n",
            "611103          EKMEK 2017-03-19 09:39:54 2017-03-19 09:40:50      E  \n",
            "611104          EKMEK 2017-03-19 20:30:58 2017-03-19 20:31:17      K  \n",
            "611105          EKMEK 2017-03-16 17:51:04 2017-03-16 17:51:18      E  \n",
            "611106          EKMEK 2017-03-19 17:00:12 2017-03-19 17:01:20      K  \n",
            "611107        BÜSKİVİ 2017-03-19 16:00:15 2017-03-19 16:00:37      K  \n"
          ]
        }
      ],
      "source": [
        "print(data.tail(7))"
      ]
    },
    {
      "cell_type": "markdown",
      "metadata": {
        "id": "68DWw9HGkLie"
      },
      "source": [
        "### 15- Verisetinde her satır için AMOUNT PRICE LINENETTOTAL sutunlarına ait bilgileri yazdıralım"
      ]
    },
    {
      "cell_type": "code",
      "source": [
        "for index, row in data[['AMOUNT', 'PRICE', 'LINENETTOTAL']].iterrows():\n",
        "    print(f\"Satır {index + 1}: AMOUNT={row['AMOUNT']}, PRICE={row['PRICE']}, LINENETTOTAL={row['LINENETTOTAL']}\")"
      ],
      "metadata": {
        "id": "CPOh_VPcgwXb"
      },
      "execution_count": null,
      "outputs": []
    },
    {
      "cell_type": "markdown",
      "metadata": {
        "id": "WZrE54IvkLie"
      },
      "source": [
        "### 16- Verisetinde LINENETTOTAL sutunda 15 den büyük olan satırları yazdıralım"
      ]
    },
    {
      "cell_type": "code",
      "execution_count": 21,
      "metadata": {
        "id": "rhUm_hi7kLie",
        "colab": {
          "base_uri": "https://localhost:8080/"
        },
        "outputId": "c20e82e4-4ecd-45cf-f8bf-588748370b99"
      },
      "outputs": [
        {
          "output_type": "stream",
          "name": "stdout",
          "text": [
            "LINENETTOTAL sütununda 15'ten büyük olan satırlar:\n",
            "              ID  ITEMCODE                                   ITEMNAME  \\\n",
            "62        9745.0   10429.0                YUDUM AYCICEK YAGI 5 LT TNK   \n",
            "64        3322.0   19108.0             F NEFFIS AYCICEK YAGI 5 LT PET   \n",
            "95        5317.0    6217.0                   LD LODOS DENİZCİSİ SLİMS   \n",
            "239       7783.0    5571.0   WELLA KOLESTON KOPUK BOYA 5/0 ACIK KAHVE   \n",
            "250       7611.0    3187.0        F NEFFIS TAZE KASAR PEYNIRI 1000 GR   \n",
            "...          ...       ...                                        ...   \n",
            "610879  597076.0   10663.0  FAIRY H 1 ARADA BUL.MAKINESI 70'LI. LIMON   \n",
            "611060  596973.0   21588.0                                 DANA GULAS   \n",
            "611061  596365.0   21591.0                              DANA ANTRIKOT   \n",
            "611065  597287.0     968.0                   ICIM DOGAL YOGURT 2250GR   \n",
            "611068  596374.0   21584.0                          DANA KIYMALIK KG.   \n",
            "\n",
            "        FICHENO      DATE_  AMOUNT  PRICE  LINENETTOTAL  LINENET  BRANCHNR  \\\n",
            "62        17902 2017-01-06   1.000  20.49         20.49    18.97      12.0   \n",
            "64        16540 2017-01-05   1.000  17.90         17.90    16.57      39.0   \n",
            "95        16903 2017-01-05  10.000   5.00         50.00    50.00      70.0   \n",
            "239       17473 2017-01-06   1.000  15.75         15.75    13.35      56.0   \n",
            "250       17450 2017-01-06   1.000  15.75         15.75    14.58      67.0   \n",
            "...         ...        ...     ...    ...           ...      ...       ...   \n",
            "610879   154695 2017-03-30   1.000  27.50         27.50    23.31      52.0   \n",
            "611060   154689 2017-03-30   0.996  23.90         23.80    22.04      11.0   \n",
            "611061   154529 2017-03-30   0.660  27.90         18.41    17.05       7.0   \n",
            "611065   154731 2017-03-30   6.000   7.25         43.50    40.28      41.0   \n",
            "611068   154531 2017-03-30   1.042  19.90         20.74    19.21      42.0   \n",
            "\n",
            "                      BRANCH          SALESMAN           CITY      REGION  \\\n",
            "62          Balıkesir Subesi     Sami KASIMOVA      Balıkesir         Ege   \n",
            "64            Isparta Subesi   Elif nur GÜNLER        Isparta     Akdeniz   \n",
            "95              Sivas Subesi   Hümeyra GEÇİCİ)          Sivas  İç Anadolu   \n",
            "239            Manisa Subesi        Veli ÇAHAN         Manisa         Ege   \n",
            "250            Samsun Subesi      Necdet VARAL         Samsun   Karadeniz   \n",
            "...                      ...               ...            ...         ...   \n",
            "610879        Kocaeli Subesi  Halil KIRMIZIGÜN        Kocaeli     Marmara   \n",
            "611060          Aydın Subesi      Selçuk TEZEL          Aydın         Ege   \n",
            "611061         Ankara Subesi     Meliha AKTEKE         Ankara  İç Anadolu   \n",
            "611065          İzmir Subesi      Gülten IŞLAK          İzmir         Ege   \n",
            "611068  Kahramanmaraş Subesi    Duygu TEKİNSİZ  Kahramanmaraş     Akdeniz   \n",
            "\n",
            "        LATITUDE  LONGITUDE CLIENTCODE        CLIENTNAME BRANDCODE  \\\n",
            "62       39.6484    27.8826     521495      Bilal PORSUK       152   \n",
            "64       37.7648    30.5566     791614      Tayfun BATAK        49   \n",
            "95       39.7477    37.0179    1021217     Kezban GÖŞELİ       163   \n",
            "239      38.6191    27.4289     285961  Görkem ZIESCHANG       307   \n",
            "250      41.2928    36.3313     241750     Hazal ÖZBAKIŞ        49   \n",
            "...          ...        ...        ...               ...       ...   \n",
            "610879   40.8533    29.8815     712152      Hikmet YEREN       298   \n",
            "611060   37.8560    27.8416      27039   Mevlüt AYDINLIK       235   \n",
            "611061   39.9208    32.8541     350244   Reyhan ÇELİKSOY       235   \n",
            "611065   38.4189    27.1287     946400     Dursun GEYLAN        67   \n",
            "611068   37.5858    36.9371    1098716   Deniz GÖKMENLER       235   \n",
            "\n",
            "             BRAND     CATEGORY_NAME1  CATEGORY_NAME2 CATEGORY_NAME3  \\\n",
            "62           YUDUM               GIDA     SIVI YAĞLAR        AYÇİÇEK   \n",
            "64        F NEFFİS               GIDA     SIVI YAĞLAR        AYÇİÇEK   \n",
            "95             JTİ             SİGARA             NaN            NaN   \n",
            "239          WELLA           KOZMETİK       SAÇ BAKIM   SAÇ BOYALARI   \n",
            "250       F NEFFİS    SÜT KAHVALTILIK          PEYNİR  KAŞAR PEYNİRİ   \n",
            "...            ...                ...             ...            ...   \n",
            "610879       FAİRY  DETERJAN TEMİZLİK  BULAŞIK YIKAMA         MAKİNE   \n",
            "611060       KASAP           ET TAVUK      KIRMIZI ET           DANA   \n",
            "611061       KASAP           ET TAVUK      KIRMIZI ET           DANA   \n",
            "611065  İÇİM SEHER    SÜT KAHVALTILIK          YOĞURT      YOĞURTLAR   \n",
            "611068       KASAP           ET TAVUK      KIRMIZI ET           DANA   \n",
            "\n",
            "                 STARTDATE             ENDDATE GENDER  \n",
            "62     2017-01-07 14:28:00 2017-01-07 14:29:39      E  \n",
            "64     2017-01-06 20:08:26 2017-01-06 20:08:39      E  \n",
            "95     2017-01-06 13:44:22 2017-01-06 13:44:45      K  \n",
            "239    2017-01-07 14:52:34 2017-01-07 14:53:16      E  \n",
            "250    2017-01-07 20:00:19 2017-01-07 20:04:26      K  \n",
            "...                    ...                 ...    ...  \n",
            "610879 2017-03-31 12:24:13 2017-03-31 12:24:54      E  \n",
            "611060 2017-03-31 10:18:03 2017-03-31 10:18:39      E  \n",
            "611061 2017-03-31 18:27:07 2017-03-31 18:27:56      K  \n",
            "611065 2017-03-31 15:18:26 2017-03-31 15:28:25      E  \n",
            "611068 2017-03-31 18:36:26 2017-03-31 18:36:54      E  \n",
            "\n",
            "[17698 rows x 26 columns]\n"
          ]
        }
      ],
      "source": [
        "filtre = data['LINENETTOTAL'] > 15\n",
        "uygun_satirlar = data[filtre]\n",
        "\n",
        "print(\"LINENETTOTAL sütununda 15'ten büyük olan satırlar:\")\n",
        "print(uygun_satirlar)"
      ]
    },
    {
      "cell_type": "markdown",
      "metadata": {
        "id": "VYb0FMCakLie"
      },
      "source": [
        "### 17- Verisetinde BRANCH ı Balıkesir Subesi olan satırları bulalım"
      ]
    },
    {
      "cell_type": "code",
      "execution_count": 22,
      "metadata": {
        "id": "poaR-Eg_kLii",
        "colab": {
          "base_uri": "https://localhost:8080/"
        },
        "outputId": "8ff87f05-77e3-4b52-fb29-e76ef50d10fd"
      },
      "outputs": [
        {
          "output_type": "stream",
          "name": "stdout",
          "text": [
            "BRANCH'i Balıkesir Subesi olan satırlar:\n",
            "              ID  ITEMCODE                                ITEMNAME  FICHENO  \\\n",
            "15        9625.0    5780.0                          SALKIM DOMATES    17865   \n",
            "16        9748.0    5715.0                                 PATATES    17902   \n",
            "62        9745.0   10429.0             YUDUM AYCICEK YAGI 5 LT TNK    17902   \n",
            "124       9907.0    5710.0                           KIRMIZI BIBER    17945   \n",
            "165       3534.0   23477.0  NOGAY ÖZEL ÜRÜN YAGLI SELE ZEYTINI LUX    16607   \n",
            "...          ...       ...                                     ...      ...   \n",
            "610941  604581.0     132.0              GOZDE KOKTELY SOSIS 500 GR   156739   \n",
            "610942  604582.0     132.0              GOZDE KOKTELY SOSIS 500 GR   156739   \n",
            "611049  604585.0    5694.0                                 DOMATES   156739   \n",
            "611085  511252.0     195.0            ULKER PIKNIK KAKAOLU 3*70 GR   134582   \n",
            "611093  511278.0   18219.0                SULTAN KEP.BUGDAY EKMEGI   134590   \n",
            "\n",
            "            DATE_  AMOUNT  PRICE  LINENETTOTAL  LINENET  BRANCHNR  \\\n",
            "15     2017-01-06   0.945   5.20          4.91     4.55      12.0   \n",
            "16     2017-01-06   2.790   2.45          6.84     6.33      12.0   \n",
            "62     2017-01-06   1.000  20.49         20.49    18.97      12.0   \n",
            "124    2017-01-06   0.750   4.95          3.71     3.44      12.0   \n",
            "165    2017-01-05   0.540   9.95          5.37     4.98      12.0   \n",
            "...           ...     ...    ...           ...      ...       ...   \n",
            "610941 2017-03-31   1.000   5.50          5.50     5.09      12.0   \n",
            "610942 2017-03-31   1.000   5.50          5.50     5.09      12.0   \n",
            "611049 2017-03-31   1.040   2.65          2.76     2.56      12.0   \n",
            "611085 2017-03-18   1.000   1.50          1.50     1.39      12.0   \n",
            "611093 2017-03-18   1.000   1.00          1.00     0.99      12.0   \n",
            "\n",
            "                  BRANCH       SALESMAN       CITY REGION  LATITUDE  \\\n",
            "15      Balıkesir Subesi  Sami KASIMOVA  Balıkesir    Ege   39.6484   \n",
            "16      Balıkesir Subesi  Sami KASIMOVA  Balıkesir    Ege   39.6484   \n",
            "62      Balıkesir Subesi  Sami KASIMOVA  Balıkesir    Ege   39.6484   \n",
            "124     Balıkesir Subesi  Neriman BEYAZ  Balıkesir    Ege   39.6484   \n",
            "165     Balıkesir Subesi  Sami KASIMOVA  Balıkesir    Ege   39.6484   \n",
            "...                  ...            ...        ...    ...       ...   \n",
            "610941  Balıkesir Subesi  Neriman BEYAZ  Balıkesir    Ege   39.6484   \n",
            "610942  Balıkesir Subesi  Neriman BEYAZ  Balıkesir    Ege   39.6484   \n",
            "611049  Balıkesir Subesi  Neriman BEYAZ  Balıkesir    Ege   39.6484   \n",
            "611085  Balıkesir Subesi   Sıraç MEHMET  Balıkesir    Ege   39.6484   \n",
            "611093  Balıkesir Subesi  Sami KASIMOVA  Balıkesir    Ege   39.6484   \n",
            "\n",
            "        LONGITUDE CLIENTCODE       CLIENTNAME BRANDCODE   BRAND  \\\n",
            "15        27.8826      74884    Miray KOÇOĞLU       A25     HAL   \n",
            "16        27.8826     521495     Bilal PORSUK       A25     HAL   \n",
            "62        27.8826     521495     Bilal PORSUK       152   YUDUM   \n",
            "124       27.8826        NaN              NaN       A25     HAL   \n",
            "165       27.8826     654286       Pınar ECİR        99   NOGAY   \n",
            "...           ...        ...              ...       ...     ...   \n",
            "610941    27.8826       1589     Sevda MEVSİM       NaN     NaN   \n",
            "610942    27.8826       1589     Sevda MEVSİM       NaN     NaN   \n",
            "611049    27.8826       1589     Sevda MEVSİM       A25     HAL   \n",
            "611085    27.8826     872827   Zekiye ERDAMAR       146   ÜLKER   \n",
            "611093    27.8826     628800  Hacer YOLCUOĞLU       134  SULTAN   \n",
            "\n",
            "         CATEGORY_NAME1 CATEGORY_NAME2 CATEGORY_NAME3           STARTDATE  \\\n",
            "15          MEYVE SEBZE          SEBZE            NaN 2017-01-07 11:12:54   \n",
            "16          MEYVE SEBZE          SEBZE            NaN 2017-01-07 14:28:00   \n",
            "62                 GIDA    SIVI YAĞLAR        AYÇİÇEK 2017-01-07 14:28:00   \n",
            "124         MEYVE SEBZE          SEBZE            NaN 2017-01-07 17:24:07   \n",
            "165     SÜT KAHVALTILIK         ZEYTİN            NaN 2017-01-06 09:40:58   \n",
            "...                 ...            ...            ...                 ...   \n",
            "610941         ET TAVUK   ET ŞARKÜTERİ          SOSİS 2017-04-01 16:24:46   \n",
            "610942         ET TAVUK   ET ŞARKÜTERİ          SOSİS 2017-04-01 16:24:46   \n",
            "611049      MEYVE SEBZE          SEBZE            NaN 2017-04-01 16:24:46   \n",
            "611085             GIDA  BÜSKİVİ ÇEREZ        BÜSKİVİ 2017-03-19 17:51:42   \n",
            "611093             GIDA  UNLU MAMÜLLER          EKMEK 2017-03-19 18:09:02   \n",
            "\n",
            "                   ENDDATE GENDER  \n",
            "15     2017-01-07 11:13:35      K  \n",
            "16     2017-01-07 14:29:39      E  \n",
            "62     2017-01-07 14:29:39      E  \n",
            "124    2017-01-07 17:24:25    NaN  \n",
            "165    2017-01-06 09:42:01      K  \n",
            "...                    ...    ...  \n",
            "610941 2017-04-01 16:25:31      K  \n",
            "610942 2017-04-01 16:25:31      K  \n",
            "611049 2017-04-01 16:25:31      K  \n",
            "611085 2017-03-19 17:52:13      K  \n",
            "611093 2017-03-19 18:09:23      K  \n",
            "\n",
            "[9428 rows x 26 columns]\n"
          ]
        }
      ],
      "source": [
        "filtre = data['BRANCH'] == 'Balıkesir Subesi'\n",
        "balikesir_satirlari = data[filtre]\n",
        "\n",
        "print(\"BRANCH'i Balıkesir Subesi olan satırlar:\")\n",
        "print(balikesir_satirlari)"
      ]
    },
    {
      "cell_type": "markdown",
      "metadata": {
        "id": "H6-bocd8kLij"
      },
      "source": [
        "### 18- Verisetinde Balıkesir Subesinde LINENETTOTAL i 2 den düsük olan satırları bulalım"
      ]
    },
    {
      "cell_type": "code",
      "execution_count": 23,
      "metadata": {
        "id": "_EtxLh7fkLij",
        "colab": {
          "base_uri": "https://localhost:8080/"
        },
        "outputId": "cb11dd4f-6240-4320-a9b8-54ebf85fe169"
      },
      "outputs": [
        {
          "output_type": "stream",
          "name": "stdout",
          "text": [
            "Balıkesir Subesi'nde LINENETTOTAL'i 2'den düşük olan satırlar:\n",
            "              ID  ITEMCODE                             ITEMNAME  FICHENO  \\\n",
            "188       9624.0    5737.0                               PIRASA    17865   \n",
            "378       8929.0   11336.0  VIVIDENT CZD TROPIKAL 14 ADET 26 GR    17688   \n",
            "468       7807.0   21130.0         COLGATE UCLU ETKI 125ML D.M.    17485   \n",
            "472       8162.0    3337.0           F SAFF ÇÖP POŞETİ ORTA BOY    17548   \n",
            "478       8119.0   21197.0            RUFFLES ORIGINALAILE 87GR    17548   \n",
            "...          ...       ...                                  ...      ...   \n",
            "610865  596300.0    5723.0                             ELMA IRI   154522   \n",
            "610903  604579.0   21140.0       FILIZ MAKARNA INCE UZUN 500 GR   156739   \n",
            "610904  604580.0   21140.0       FILIZ MAKARNA INCE UZUN 500 GR   156739   \n",
            "611085  511252.0     195.0         ULKER PIKNIK KAKAOLU 3*70 GR   134582   \n",
            "611093  511278.0   18219.0             SULTAN KEP.BUGDAY EKMEGI   134590   \n",
            "\n",
            "            DATE_  AMOUNT  PRICE  LINENETTOTAL  LINENET  BRANCHNR  \\\n",
            "188    2017-01-06   1.100   1.60          1.76     1.63      12.0   \n",
            "378    2017-01-06   1.000   1.95          1.95     1.81      12.0   \n",
            "468    2017-01-06   1.000   1.95          1.95     1.81      12.0   \n",
            "472    2017-01-06   2.000   0.85          1.70     1.44      12.0   \n",
            "478    2017-01-06   1.000   1.75          1.75     1.61      12.0   \n",
            "...           ...     ...    ...           ...      ...       ...   \n",
            "610865 2017-03-30   0.715   2.30          1.64     1.52      12.0   \n",
            "610903 2017-03-31   1.000   1.25          1.25     1.15      12.0   \n",
            "610904 2017-03-31   1.000   1.25          1.25     1.16      12.0   \n",
            "611085 2017-03-18   1.000   1.50          1.50     1.39      12.0   \n",
            "611093 2017-03-18   1.000   1.00          1.00     0.99      12.0   \n",
            "\n",
            "                  BRANCH        SALESMAN       CITY REGION  LATITUDE  \\\n",
            "188     Balıkesir Subesi   Sami KASIMOVA  Balıkesir    Ege   39.6484   \n",
            "378     Balıkesir Subesi   Neriman BEYAZ  Balıkesir    Ege   39.6484   \n",
            "468     Balıkesir Subesi  Esmanur GÖLBAŞ  Balıkesir    Ege   39.6484   \n",
            "472     Balıkesir Subesi   Sami KASIMOVA  Balıkesir    Ege   39.6484   \n",
            "478     Balıkesir Subesi   Sami KASIMOVA  Balıkesir    Ege   39.6484   \n",
            "...                  ...             ...        ...    ...       ...   \n",
            "610865  Balıkesir Subesi   Neriman BEYAZ  Balıkesir    Ege   39.6484   \n",
            "610903  Balıkesir Subesi   Neriman BEYAZ  Balıkesir    Ege   39.6484   \n",
            "610904  Balıkesir Subesi   Neriman BEYAZ  Balıkesir    Ege   39.6484   \n",
            "611085  Balıkesir Subesi    Sıraç MEHMET  Balıkesir    Ege   39.6484   \n",
            "611093  Balıkesir Subesi   Sami KASIMOVA  Balıkesir    Ege   39.6484   \n",
            "\n",
            "        LONGITUDE CLIENTCODE       CLIENTNAME BRANDCODE     BRAND  \\\n",
            "188       27.8826      74884    Miray KOÇOĞLU       A25       HAL   \n",
            "378       27.8826     434547      Zerda OKKAY       148  VİVİDENT   \n",
            "468       27.8826      97917   Alparslan OGUR       245   COLGATE   \n",
            "472       27.8826      48405    Birol BORAZAN        50    F SAFF   \n",
            "478       27.8826      48405    Birol BORAZAN        54     FRİTO   \n",
            "...           ...        ...              ...       ...       ...   \n",
            "610865    27.8826     946477  Şengül BALCIDAN       A25       HAL   \n",
            "610903    27.8826       1589     Sevda MEVSİM        52     FİLİZ   \n",
            "610904    27.8826       1589     Sevda MEVSİM        52     FİLİZ   \n",
            "611085    27.8826     872827   Zekiye ERDAMAR       146     ÜLKER   \n",
            "611093    27.8826     628800  Hacer YOLCUOĞLU       134    SULTAN   \n",
            "\n",
            "       CATEGORY_NAME1         CATEGORY_NAME2         CATEGORY_NAME3  \\\n",
            "188       MEYVE SEBZE                  SEBZE                    NaN   \n",
            "378              GIDA        SAKIZ SEKERLEME                  SAKIZ   \n",
            "468          KOZMETİK             AĞIZ BAKIM             DİŞ MACUNU   \n",
            "472                EV  MUTFAK EŞYA GEREÇLERİ  MUTFAK SARF MALZEMESİ   \n",
            "478              GIDA          BÜSKİVİ ÇEREZ                   CİPS   \n",
            "...               ...                    ...                    ...   \n",
            "610865    MEYVE SEBZE                  MEYVE                    NaN   \n",
            "610903           GIDA                MAKARNA               MAKARNA    \n",
            "610904           GIDA                MAKARNA               MAKARNA    \n",
            "611085           GIDA          BÜSKİVİ ÇEREZ                BÜSKİVİ   \n",
            "611093           GIDA          UNLU MAMÜLLER                  EKMEK   \n",
            "\n",
            "                 STARTDATE             ENDDATE GENDER  \n",
            "188    2017-01-07 11:12:54 2017-01-07 11:13:35      K  \n",
            "378    2017-01-07 17:40:58 2017-01-07 17:42:29      K  \n",
            "468    2017-01-07 18:36:18 2017-01-07 18:36:29      E  \n",
            "472    2017-01-07 16:24:26 2017-01-07 16:33:56      E  \n",
            "478    2017-01-07 16:24:26 2017-01-07 16:33:56      E  \n",
            "...                    ...                 ...    ...  \n",
            "610865 2017-03-31 17:45:24 2017-03-31 17:46:33      K  \n",
            "610903 2017-04-01 16:24:46 2017-04-01 16:25:31      K  \n",
            "610904 2017-04-01 16:24:46 2017-04-01 16:25:31      K  \n",
            "611085 2017-03-19 17:51:42 2017-03-19 17:52:13      K  \n",
            "611093 2017-03-19 18:09:02 2017-03-19 18:09:23      K  \n",
            "\n",
            "[4040 rows x 26 columns]\n"
          ]
        }
      ],
      "source": [
        "filtre = (data['BRANCH'] == 'Balıkesir Subesi') & (data['LINENETTOTAL'] < 2)\n",
        "balikesir_dusuk_satislar = data[filtre]\n",
        "\n",
        "print(\"Balıkesir Subesi'nde LINENETTOTAL'i 2'den düşük olan satırlar:\")\n",
        "print(balikesir_dusuk_satislar)"
      ]
    },
    {
      "cell_type": "markdown",
      "metadata": {
        "id": "H70NQf_gkLik"
      },
      "source": [
        "### 19- Verisetindeki Sutunlardan ITEMNAME => URUN_ADI , ITEMCODE=> URUN_ID,BRANCH=>SUBE_ADI olarak değiştirin"
      ]
    },
    {
      "cell_type": "code",
      "execution_count": 24,
      "metadata": {
        "id": "3vkmcFHYkLik",
        "colab": {
          "base_uri": "https://localhost:8080/"
        },
        "outputId": "46d4c4ce-ca5a-4ad6-f8f0-6e1997d45168"
      },
      "outputs": [
        {
          "output_type": "stream",
          "name": "stdout",
          "text": [
            "Index(['ID', 'URUN_ID', 'URUN_ADI', 'FICHENO', 'DATE_', 'AMOUNT', 'PRICE',\n",
            "       'LINENETTOTAL', 'LINENET', 'BRANCHNR', 'SUBE_ADI', 'SALESMAN', 'CITY',\n",
            "       'REGION', 'LATITUDE', 'LONGITUDE', 'CLIENTCODE', 'CLIENTNAME',\n",
            "       'BRANDCODE', 'BRAND', 'CATEGORY_NAME1', 'CATEGORY_NAME2',\n",
            "       'CATEGORY_NAME3', 'STARTDATE', 'ENDDATE', 'GENDER'],\n",
            "      dtype='object')\n"
          ]
        }
      ],
      "source": [
        "data = data.rename(columns={\"ITEMNAME\": \"URUN_ADI\", \"ITEMCODE\": \"URUN_ID\", \"BRANCH\": \"SUBE_ADI\"})\n",
        "print(data.columns)"
      ]
    },
    {
      "cell_type": "markdown",
      "metadata": {
        "id": "E0ocn9VWkLil"
      },
      "source": [
        "### 20- Verisetimizin 100-103 arasındaki satırlarının ID den LINENETTOTAL a kadar olan sutunlardaki değerlerini yazdırınız."
      ]
    },
    {
      "cell_type": "code",
      "execution_count": 26,
      "metadata": {
        "id": "vdzumV3kkLil",
        "colab": {
          "base_uri": "https://localhost:8080/"
        },
        "outputId": "9572722b-0706-4ae8-ab8c-ff4df553531c"
      },
      "outputs": [
        {
          "output_type": "stream",
          "name": "stdout",
          "text": [
            "Satır 100:\n",
            "ID: 933.0\n",
            "URUN_ID: 23469.0\n",
            "URUN_ADI: BURDAN 15 LI YUMURTA KAHVE 2012\n",
            "FICHENO: 15854\n",
            "DATE_: 2017-01-03 00:00:00\n",
            "AMOUNT: 1.0\n",
            "PRICE: 5.65\n",
            "LINENETTOTAL: 5.65\n",
            "\n",
            "Satır 101:\n",
            "ID: 662.0\n",
            "URUN_ID: 23467.0\n",
            "URUN_ADI: BURDAN 30 LU BUYUK BOY KAPAKLI YUMURTA\n",
            "FICHENO: 15772\n",
            "DATE_: 2017-01-02 00:00:00\n",
            "AMOUNT: 1.0\n",
            "PRICE: 9.95\n",
            "LINENETTOTAL: 9.95\n",
            "\n",
            "Satır 102:\n",
            "ID: 5059.0\n",
            "URUN_ID: 446.0\n",
            "URUN_ADI: ULKER COKOKREM 700GR.-1202-\n",
            "FICHENO: 16839\n",
            "DATE_: 2017-01-05 00:00:00\n",
            "AMOUNT: 1.0\n",
            "PRICE: 8.25\n",
            "LINENETTOTAL: 8.25\n",
            "\n",
            "Satır 103:\n",
            "ID: 9514.0\n",
            "URUN_ID: 2660.0\n",
            "URUN_ADI: NESTLE NESQUIK 500 GR %20 BEDAVA\n",
            "FICHENO: 17836\n",
            "DATE_: 2017-01-06 00:00:00\n",
            "AMOUNT: 1.0\n",
            "PRICE: 5.9\n",
            "LINENETTOTAL: 5.9\n",
            "\n"
          ]
        }
      ],
      "source": [
        "for index, row in data.iloc[99:103].iterrows():\n",
        "    print(f\"Satır {index + 1}:\")\n",
        "    for column in data.columns[data.columns.get_loc('ID'):data.columns.get_loc('LINENETTOTAL') + 1]:\n",
        "        print(f\"{column}: {row[column]}\")\n",
        "    print()"
      ]
    },
    {
      "cell_type": "markdown",
      "metadata": {
        "id": "XDY91CufkLil"
      },
      "source": [
        "### 21- Verisetindeki CATEGORY_NAME3 sutununu verisetinden silelim"
      ]
    },
    {
      "cell_type": "code",
      "execution_count": 27,
      "metadata": {
        "id": "LjjFG1VlkLim",
        "colab": {
          "base_uri": "https://localhost:8080/"
        },
        "outputId": "c3be71ed-7b96-47a1-b504-1e67a068a5c3"
      },
      "outputs": [
        {
          "output_type": "stream",
          "name": "stdout",
          "text": [
            "        ID  URUN_ID                         URUN_ADI  FICHENO      DATE_  \\\n",
            "0  11738.0   5863.0  SPRITE 1 LT LIMON AROMALI GAZOZ    18456 2017-01-07   \n",
            "1  10537.0      8.0                        TOZ SEKER    18105 2017-01-06   \n",
            "2  11335.0   5979.0             FALIM SAKIZ 5LI NANE    18350 2017-01-03   \n",
            "3  11336.0   5979.0             FALIM SAKIZ 5LI NANE    18350 2017-01-03   \n",
            "4  10115.0  12808.0            FALIM SAKIZ 5LI CILEK    18005 2017-01-05   \n",
            "\n",
            "   AMOUNT  PRICE  LINENETTOTAL  LINENET  BRANCHNR         SUBE_ADI  \\\n",
            "0     1.0   2.00          2.00     1.85      52.0   Kocaeli Subesi   \n",
            "1     5.0   2.65         13.25    12.27       8.0   Antalya Subesi   \n",
            "2     1.0   0.40          0.40     0.37      40.0  İstanbul Subesi   \n",
            "3     1.0   0.40          0.40     0.37      40.0  İstanbul Subesi   \n",
            "4     1.0   0.40          0.40     0.37      41.0     İzmir Subesi   \n",
            "\n",
            "       SALESMAN      CITY   REGION  LATITUDE  LONGITUDE CLIENTCODE  \\\n",
            "0     Eyüp CİNE   Kocaeli  Marmara   40.8533    29.8815     467369   \n",
            "1  İlhan ÖRENLİ   Antalya  Akdeniz   36.8841    30.7056     131464   \n",
            "2  İsmet SARTIK  İstanbul  Marmara   41.0053    28.9770     656969   \n",
            "3  İsmet SARTIK  İstanbul  Marmara   41.0053    28.9770     656969   \n",
            "4  Gülten IŞLAK     İzmir      Ege   38.4189    27.1287     447336   \n",
            "\n",
            "       CLIENTNAME BRANDCODE   BRAND CATEGORY_NAME1   CATEGORY_NAME2  \\\n",
            "0  Sercan KIZILOK       156  SPRİTE         İÇECEK     GAZLI İÇECEK   \n",
            "1    İsmet ŞINGIR       NaN     NaN         İÇECEK        ÇAY KAHVE   \n",
            "2     Yağız KUBAL       300   FALIM           GIDA  SAKIZ SEKERLEME   \n",
            "3     Yağız KUBAL       300   FALIM           GIDA  SAKIZ SEKERLEME   \n",
            "4    Habibe AYSAN       300   FALIM           GIDA  SAKIZ SEKERLEME   \n",
            "\n",
            "            STARTDATE             ENDDATE GENDER  \n",
            "0 2017-01-08 16:16:11 2017-01-08 16:17:13      E  \n",
            "1 2017-01-07 11:04:34 2017-01-07 11:05:37      E  \n",
            "2 2017-01-04 14:00:03 2017-01-04 14:01:01      E  \n",
            "3 2017-01-04 14:00:03 2017-01-04 14:01:01      E  \n",
            "4 2017-01-06 14:00:30 2017-01-06 14:01:03      K  \n"
          ]
        }
      ],
      "source": [
        "data = data.drop(columns=['CATEGORY_NAME3'])\n",
        "print(data.head(5))"
      ]
    },
    {
      "cell_type": "markdown",
      "metadata": {
        "id": "2yM1FkFXkLim"
      },
      "source": [
        "### 22- Verisetinde URUN_ID sutunun en büyük değerini bulun ve ona göre boş değerlere bir değer atayın"
      ]
    },
    {
      "cell_type": "code",
      "execution_count": 29,
      "metadata": {
        "id": "6SENe-bykLim",
        "colab": {
          "base_uri": "https://localhost:8080/"
        },
        "outputId": "62f269af-93b7-49ba-b4b1-1fb3ff99035c"
      },
      "outputs": [
        {
          "output_type": "stream",
          "name": "stdout",
          "text": [
            "        ID  URUN_ID                         URUN_ADI  FICHENO      DATE_  \\\n",
            "0  11738.0   5863.0  SPRITE 1 LT LIMON AROMALI GAZOZ    18456 2017-01-07   \n",
            "1  10537.0      8.0                        TOZ SEKER    18105 2017-01-06   \n",
            "2  11335.0   5979.0             FALIM SAKIZ 5LI NANE    18350 2017-01-03   \n",
            "3  11336.0   5979.0             FALIM SAKIZ 5LI NANE    18350 2017-01-03   \n",
            "4  10115.0  12808.0            FALIM SAKIZ 5LI CILEK    18005 2017-01-05   \n",
            "\n",
            "   AMOUNT  PRICE  LINENETTOTAL  LINENET  BRANCHNR         SUBE_ADI  \\\n",
            "0     1.0   2.00          2.00     1.85      52.0   Kocaeli Subesi   \n",
            "1     5.0   2.65         13.25    12.27       8.0   Antalya Subesi   \n",
            "2     1.0   0.40          0.40     0.37      40.0  İstanbul Subesi   \n",
            "3     1.0   0.40          0.40     0.37      40.0  İstanbul Subesi   \n",
            "4     1.0   0.40          0.40     0.37      41.0     İzmir Subesi   \n",
            "\n",
            "       SALESMAN      CITY   REGION  LATITUDE  LONGITUDE CLIENTCODE  \\\n",
            "0     Eyüp CİNE   Kocaeli  Marmara   40.8533    29.8815     467369   \n",
            "1  İlhan ÖRENLİ   Antalya  Akdeniz   36.8841    30.7056     131464   \n",
            "2  İsmet SARTIK  İstanbul  Marmara   41.0053    28.9770     656969   \n",
            "3  İsmet SARTIK  İstanbul  Marmara   41.0053    28.9770     656969   \n",
            "4  Gülten IŞLAK     İzmir      Ege   38.4189    27.1287     447336   \n",
            "\n",
            "       CLIENTNAME BRANDCODE   BRAND CATEGORY_NAME1   CATEGORY_NAME2  \\\n",
            "0  Sercan KIZILOK       156  SPRİTE         İÇECEK     GAZLI İÇECEK   \n",
            "1    İsmet ŞINGIR       NaN     NaN         İÇECEK        ÇAY KAHVE   \n",
            "2     Yağız KUBAL       300   FALIM           GIDA  SAKIZ SEKERLEME   \n",
            "3     Yağız KUBAL       300   FALIM           GIDA  SAKIZ SEKERLEME   \n",
            "4    Habibe AYSAN       300   FALIM           GIDA  SAKIZ SEKERLEME   \n",
            "\n",
            "            STARTDATE             ENDDATE GENDER  \n",
            "0 2017-01-08 16:16:11 2017-01-08 16:17:13      E  \n",
            "1 2017-01-07 11:04:34 2017-01-07 11:05:37      E  \n",
            "2 2017-01-04 14:00:03 2017-01-04 14:01:01      E  \n",
            "3 2017-01-04 14:00:03 2017-01-04 14:01:01      E  \n",
            "4 2017-01-06 14:00:30 2017-01-06 14:01:03      K  \n"
          ]
        }
      ],
      "source": [
        "max_urun_id = data['URUN_ID'].max()\n",
        "\n",
        "# En büyük değeri kullanarak boş değerlere atama yap\n",
        "data['URUN_ID'].fillna(max_urun_id + 1, inplace=True)\n",
        "print(data.head())"
      ]
    },
    {
      "cell_type": "markdown",
      "metadata": {
        "id": "w8reiLj_kLim"
      },
      "source": [
        "### 23- Verisetinde Bulunan URUN_ADI kısmındaki değerlere \"BİLİNMEYEN ÜRÜN\" atayın"
      ]
    },
    {
      "cell_type": "code",
      "execution_count": 34,
      "metadata": {
        "id": "eKpBandrkLim",
        "colab": {
          "base_uri": "https://localhost:8080/"
        },
        "outputId": "4d76e3af-6855-4f77-a47d-98f1be2a4b51"
      },
      "outputs": [
        {
          "output_type": "stream",
          "name": "stdout",
          "text": [
            "0            SPRITE 1 LT LIMON AROMALI GAZOZ\n",
            "1                                  TOZ SEKER\n",
            "2                       FALIM SAKIZ 5LI NANE\n",
            "3                       FALIM SAKIZ 5LI NANE\n",
            "4                      FALIM SAKIZ 5LI CILEK\n",
            "5                                  TOZ SEKER\n",
            "6                    F NEFFIS TOZ SEKER 2 KG\n",
            "7                                  TOZ SEKER\n",
            "8                                  TOZ SEKER\n",
            "9                  F NEFFIS KESME SEKER 1 KG\n",
            "10     KENT TOPITOP DISNEY CILEK KARPUZ 6 AD\n",
            "11    VIVIDENT CZD FRUIT SWING 14 ADET 26 GR\n",
            "12               LAVACHE QUIRIT UCGEN PEYNIR\n",
            "13                             KIRMIZI BIBER\n",
            "14                              CERI DOMATES\n",
            "15                            SALKIM DOMATES\n",
            "16                                   PATATES\n",
            "17                            SALKIM DOMATES\n",
            "18                                   PATATES\n",
            "19                MAGGI CORBA KREMALI MANTAR\n",
            "20                MAGGI CORBA KREMALI MANTAR\n",
            "21                            SALKIM DOMATES\n",
            "22                                   PATATES\n",
            "23                                     KABAK\n",
            "24                                   DOMATES\n",
            "25                              FILE PATATES\n",
            "26                                 SALATALIK\n",
            "27                                  SARIMSAK\n",
            "28                                     LIMON\n",
            "29                                LIMON FILE\n",
            "30                                     HAVUC\n",
            "31                                  KIVIRCIK\n",
            "32                                   PATATES\n",
            "33                                 SALATALIK\n",
            "34              ARBELLA FIYONK MAKARNA 500GR\n",
            "35                              CERI DOMATES\n",
            "36                            SALKIM DOMATES\n",
            "37                              CERI DOMATES\n",
            "38                                ISPANAK KG\n",
            "39                      KNORR CORBA EZOGELIN\n",
            "40                KNORR CORBA KREMALI MANTAR\n",
            "41                                  MAYDANOZ\n",
            "42                                     LIMON\n",
            "43                                  KIVIRCIK\n",
            "44                               SIVRI BIBER\n",
            "45                                    PIRASA\n",
            "46                               YESIL SOGAN\n",
            "47                                     HAVUC\n",
            "48                                   DOMATES\n",
            "49                           BİLİNMEYEN ÜRÜN\n",
            "Name: URUN_ADI, dtype: object\n"
          ]
        }
      ],
      "source": [
        "data['URUN_ADI'].fillna(\"BİLİNMEYEN ÜRÜN\", inplace=True)\n",
        "print(data['URUN_ADI'].head(50))\n"
      ]
    },
    {
      "cell_type": "markdown",
      "metadata": {
        "id": "TVLWxbcQkLin"
      },
      "source": [
        "### 24- Verisetinde Bulunan CLIENTCODE sutunun boş değerlerine \"#unk999\"atayın"
      ]
    },
    {
      "cell_type": "code",
      "execution_count": null,
      "metadata": {
        "collapsed": true,
        "jupyter": {
          "outputs_hidden": true
        },
        "id": "W9ZHRn9SkLin"
      },
      "outputs": [],
      "source": [
        "data['CLIENTCODE'].fillna(\"#unk999\", inplace=True)\n",
        "filtre = data['CLIENTCODE'] == \"#unk999\"\n",
        "bos_degerli_satirlar = data[filtre]\n",
        "print(bos_degerli_satirlar)"
      ]
    },
    {
      "cell_type": "markdown",
      "metadata": {
        "id": "daIB9S_dkLin"
      },
      "source": [
        "### 25- Verisetinde Bulunan CLIENTNAME sutunun boş değerlerine \"BILINMEYEN MUSTERI\" atayın"
      ]
    },
    {
      "cell_type": "code",
      "execution_count": 38,
      "metadata": {
        "id": "Vy8UuXWSkLin",
        "colab": {
          "base_uri": "https://localhost:8080/"
        },
        "outputId": "78bf324c-0f52-4980-eecf-212bf63ee537"
      },
      "outputs": [
        {
          "output_type": "stream",
          "name": "stdout",
          "text": [
            "              ID  URUN_ID                              URUN_ADI  FICHENO  \\\n",
            "51        9460.0  23603.0                       BİLİNMEYEN ÜRÜN    17825   \n",
            "94        9887.0    283.0              CAYKUR KAMELYA CAY 500GR    17939   \n",
            "117       3517.0   1640.0   PASTAVILLA MAKARNA LINGUINE 500 GR.    16600   \n",
            "124       9907.0   5710.0                         KIRMIZI BIBER    17945   \n",
            "143       9795.0  22772.0          ULKER CIKOLATALI GOFRET 35GR    17916   \n",
            "...          ...      ...                                   ...      ...   \n",
            "610913  596645.0   5694.0                               DOMATES   154586   \n",
            "610914  596646.0   5708.0                         SEKER FASULYE   154586   \n",
            "610968  568507.0  12158.0  ULKER DANKEK CAY SAATI 220 GR MOZAIK   148207   \n",
            "610971  573406.0    245.0          ULKER SAKLIKOY KLASIK 140 GR   149376   \n",
            "611071  597184.0   1390.0                   SERA STREC 15 METRE   154718   \n",
            "\n",
            "            DATE_  AMOUNT  PRICE  LINENETTOTAL  LINENET  BRANCHNR  \\\n",
            "51     2017-01-06   1.000   2.57          2.57     2.38      73.0   \n",
            "94     2017-01-06   1.000   6.85          6.85     6.34      26.0   \n",
            "117    2017-01-05   4.000   1.45          5.80     5.37      40.0   \n",
            "124    2017-01-06   0.750   4.95          3.71     3.44      12.0   \n",
            "143    2017-01-06   1.000   0.50          0.50     0.46      40.0   \n",
            "...           ...     ...    ...           ...      ...       ...   \n",
            "610913 2017-03-30   3.330   2.65          8.82     8.17      56.0   \n",
            "610914 2017-03-30   1.615   6.25         10.09     9.34      56.0   \n",
            "610968 2017-03-26   1.000   2.25          2.25     2.08      49.0   \n",
            "610971 2017-03-26   1.000   1.00          1.00     0.93      40.0   \n",
            "611071 2017-03-30   1.000   2.10          2.10     1.78      32.0   \n",
            "\n",
            "                 SUBE_ADI         SALESMAN        CITY             REGION  \\\n",
            "51        Tekirdağ Subesi     Deniz ŞİŞMEN    Tekirdağ            Marmara   \n",
            "94      Diyarbakır Subesi  Hayriye AYIŞIĞI  Diyarbakır  Güneydoğu Anadolu   \n",
            "117       İstanbul Subesi      Arife DORAP    İstanbul            Marmara   \n",
            "124      Balıkesir Subesi    Neriman BEYAZ   Balıkesir                Ege   \n",
            "143       İstanbul Subesi      Dilan ÇALAR    İstanbul            Marmara   \n",
            "...                   ...              ...         ...                ...   \n",
            "610913      Manisa Subesi       Nuri SELMA      Manisa                Ege   \n",
            "610914      Manisa Subesi       Nuri SELMA      Manisa                Ege   \n",
            "610968  Kırklareli Subesi     Elmas ARIBAŞ  Kırklareli            Marmara   \n",
            "610971    İstanbul Subesi     İsmet SARTIK    İstanbul            Marmara   \n",
            "611071   Eskişehir Subesi   Memet ÖZKUZUCU   Eskişehir         İç Anadolu   \n",
            "\n",
            "        LATITUDE  LONGITUDE CLIENTCODE          CLIENTNAME BRANDCODE  \\\n",
            "51       40.9833    27.5167    #unk999  BILINMEYEN MUSTERI       NaN   \n",
            "94       37.9144    40.2306    #unk999  BILINMEYEN MUSTERI        32   \n",
            "117      41.0053    28.9770    #unk999  BILINMEYEN MUSTERI       113   \n",
            "124      39.6484    27.8826    #unk999  BILINMEYEN MUSTERI       A25   \n",
            "143      41.0053    28.9770    #unk999  BILINMEYEN MUSTERI       146   \n",
            "...          ...        ...        ...                 ...       ...   \n",
            "610913   38.6191    27.4289    #unk999  BILINMEYEN MUSTERI       A25   \n",
            "610914   38.6191    27.4289    #unk999  BILINMEYEN MUSTERI       A25   \n",
            "610968   41.7333    27.2167    #unk999  BILINMEYEN MUSTERI       146   \n",
            "610971   41.0053    28.9770    #unk999  BILINMEYEN MUSTERI       146   \n",
            "611071   39.7767    30.5206    #unk999  BILINMEYEN MUSTERI       146   \n",
            "\n",
            "             BRAND CATEGORY_NAME1         CATEGORY_NAME2           STARTDATE  \\\n",
            "51             NaN            NaN                    NaN 2017-01-07 18:44:01   \n",
            "94          ÇAYKUR         İÇECEK              ÇAY KAHVE 2017-01-07 17:08:47   \n",
            "117     PASTAVİLLA           GIDA                MAKARNA 2017-01-06 21:20:07   \n",
            "124            HAL    MEYVE SEBZE                  SEBZE 2017-01-07 17:24:07   \n",
            "143          ÜLKER           GIDA        ÇİKOLATA GOFRET 2017-01-07 16:00:14   \n",
            "...            ...            ...                    ...                 ...   \n",
            "610913         HAL    MEYVE SEBZE                  SEBZE 2017-03-31 15:45:32   \n",
            "610914         HAL    MEYVE SEBZE                  SEBZE 2017-03-31 15:45:32   \n",
            "610968       ÜLKER           GIDA          BÜSKİVİ ÇEREZ 2017-03-27 10:57:20   \n",
            "610971       ÜLKER           GIDA          BÜSKİVİ ÇEREZ 2017-03-27 14:24:32   \n",
            "611071       ÜLKER             EV  MUTFAK EŞYA GEREÇLERİ 2017-03-31 14:12:04   \n",
            "\n",
            "                   ENDDATE GENDER  \n",
            "51     2017-01-07 18:44:39    NaN  \n",
            "94     2017-01-07 17:09:13    NaN  \n",
            "117    2017-01-06 21:20:52    NaN  \n",
            "124    2017-01-07 17:24:25    NaN  \n",
            "143    2017-01-07 16:00:21    NaN  \n",
            "...                    ...    ...  \n",
            "610913 2017-03-31 15:45:53    NaN  \n",
            "610914 2017-03-31 15:45:53    NaN  \n",
            "610968 2017-03-27 10:58:56    NaN  \n",
            "610971 2017-03-27 14:25:11    NaN  \n",
            "611071 2017-03-31 14:12:48    NaN  \n",
            "\n",
            "[18365 rows x 25 columns]\n"
          ]
        }
      ],
      "source": [
        "data['CLIENTNAME'].fillna(\"BILINMEYEN MUSTERI\", inplace=True)\n",
        "filtre = data['CLIENTNAME'] == \"BILINMEYEN MUSTERI\"\n",
        "bos_degerli_satirlar = data[filtre]\n",
        "print(bos_degerli_satirlar)"
      ]
    },
    {
      "cell_type": "markdown",
      "metadata": {
        "id": "HXDKIUs3kLio"
      },
      "source": [
        "### 26- Verisetinde CATEGORY_NAME1 i dolu oup CATEGORY_NAME2 boş olan satırlar var bu satırlarda CATEGORY_NAME2 kısmına CATEGORY_NAME1 deki değeri atayalım"
      ]
    },
    {
      "cell_type": "code",
      "execution_count": 39,
      "metadata": {
        "id": "VbrCDqlxkLio"
      },
      "outputs": [],
      "source": [
        "#notna fonksiyonu dolu olanlar için True, isna fonk ise boş olanlar için true değerini döndürür.\n",
        "filtre = (data['CATEGORY_NAME1'].notna()) & (data['CATEGORY_NAME2'].isna())\n",
        "data.loc[filtre, 'CATEGORY_NAME2'] = data.loc[filtre, 'CATEGORY_NAME1']"
      ]
    },
    {
      "cell_type": "code",
      "execution_count": 40,
      "metadata": {
        "id": "x_6i49-UkLio",
        "colab": {
          "base_uri": "https://localhost:8080/"
        },
        "outputId": "e82df645-067f-4a94-f7e0-7874c29e11f3"
      },
      "outputs": [
        {
          "output_type": "stream",
          "name": "stdout",
          "text": [
            "       CATEGORY_NAME1 CATEGORY_NAME2\n",
            "55             SİGARA         SİGARA\n",
            "69             SİGARA         SİGARA\n",
            "70             SİGARA         SİGARA\n",
            "93             SİGARA         SİGARA\n",
            "95             SİGARA         SİGARA\n",
            "...               ...            ...\n",
            "610753         SİGARA         SİGARA\n",
            "610754         SİGARA         SİGARA\n",
            "610755         SİGARA         SİGARA\n",
            "610756         SİGARA         SİGARA\n",
            "611083         SİGARA         SİGARA\n",
            "\n",
            "[20493 rows x 2 columns]\n"
          ]
        }
      ],
      "source": [
        "print(data[filtre][['CATEGORY_NAME1', 'CATEGORY_NAME2']])"
      ]
    },
    {
      "cell_type": "markdown",
      "metadata": {
        "id": "BL8f2E69kLio"
      },
      "source": [
        "### 27- Verisetinde Alışveriş Yapan Kişilerin Cinsiyet Sutunundaki NaN değerleri U ile Değiştirin"
      ]
    },
    {
      "cell_type": "code",
      "execution_count": 42,
      "metadata": {
        "id": "zjpCuu3KkLip",
        "colab": {
          "base_uri": "https://localhost:8080/"
        },
        "outputId": "d3668045-4f6c-4478-d922-28f2aececadf"
      },
      "outputs": [
        {
          "output_type": "stream",
          "name": "stdout",
          "text": [
            "        ID  URUN_ID                         URUN_ADI  FICHENO      DATE_  \\\n",
            "0  11738.0   5863.0  SPRITE 1 LT LIMON AROMALI GAZOZ    18456 2017-01-07   \n",
            "1  10537.0      8.0                        TOZ SEKER    18105 2017-01-06   \n",
            "2  11335.0   5979.0             FALIM SAKIZ 5LI NANE    18350 2017-01-03   \n",
            "3  11336.0   5979.0             FALIM SAKIZ 5LI NANE    18350 2017-01-03   \n",
            "4  10115.0  12808.0            FALIM SAKIZ 5LI CILEK    18005 2017-01-05   \n",
            "\n",
            "   AMOUNT  PRICE  LINENETTOTAL  LINENET  BRANCHNR         SUBE_ADI  \\\n",
            "0     1.0   2.00          2.00     1.85      52.0   Kocaeli Subesi   \n",
            "1     5.0   2.65         13.25    12.27       8.0   Antalya Subesi   \n",
            "2     1.0   0.40          0.40     0.37      40.0  İstanbul Subesi   \n",
            "3     1.0   0.40          0.40     0.37      40.0  İstanbul Subesi   \n",
            "4     1.0   0.40          0.40     0.37      41.0     İzmir Subesi   \n",
            "\n",
            "       SALESMAN      CITY   REGION  LATITUDE  LONGITUDE CLIENTCODE  \\\n",
            "0     Eyüp CİNE   Kocaeli  Marmara   40.8533    29.8815     467369   \n",
            "1  İlhan ÖRENLİ   Antalya  Akdeniz   36.8841    30.7056     131464   \n",
            "2  İsmet SARTIK  İstanbul  Marmara   41.0053    28.9770     656969   \n",
            "3  İsmet SARTIK  İstanbul  Marmara   41.0053    28.9770     656969   \n",
            "4  Gülten IŞLAK     İzmir      Ege   38.4189    27.1287     447336   \n",
            "\n",
            "       CLIENTNAME BRANDCODE   BRAND CATEGORY_NAME1   CATEGORY_NAME2  \\\n",
            "0  Sercan KIZILOK       156  SPRİTE         İÇECEK     GAZLI İÇECEK   \n",
            "1    İsmet ŞINGIR       NaN     NaN         İÇECEK        ÇAY KAHVE   \n",
            "2     Yağız KUBAL       300   FALIM           GIDA  SAKIZ SEKERLEME   \n",
            "3     Yağız KUBAL       300   FALIM           GIDA  SAKIZ SEKERLEME   \n",
            "4    Habibe AYSAN       300   FALIM           GIDA  SAKIZ SEKERLEME   \n",
            "\n",
            "            STARTDATE             ENDDATE GENDER  \n",
            "0 2017-01-08 16:16:11 2017-01-08 16:17:13      E  \n",
            "1 2017-01-07 11:04:34 2017-01-07 11:05:37      E  \n",
            "2 2017-01-04 14:00:03 2017-01-04 14:01:01      E  \n",
            "3 2017-01-04 14:00:03 2017-01-04 14:01:01      E  \n",
            "4 2017-01-06 14:00:30 2017-01-06 14:01:03      K  \n"
          ]
        }
      ],
      "source": [
        "data['GENDER'].fillna('U', inplace=True)\n"
      ]
    },
    {
      "cell_type": "markdown",
      "metadata": {
        "id": "inWfn-N6kLip"
      },
      "source": [
        "### 28-Verisetinde BRANDCODE ve BRAND sutunlarında sutunlarında boş değerlere #UN999 ve UNNBRD değerlerini atayalım"
      ]
    },
    {
      "cell_type": "code",
      "execution_count": 43,
      "metadata": {
        "id": "cyoJ0Fn5kLip"
      },
      "outputs": [],
      "source": [
        "data['BRANDCODE'].fillna('#UN999', inplace=True)\n",
        "data['BRAND'].fillna('UNNBRD', inplace=True)"
      ]
    },
    {
      "cell_type": "markdown",
      "metadata": {
        "id": "LoiMbVu1kLip"
      },
      "source": [
        "### 29-Verisetinde CATEGORY_NAME1  ve CATEGORY_NAME2 sutunlarında sutunlarında boş değerlere UNKCATG değerlerini atayalım"
      ]
    },
    {
      "cell_type": "code",
      "execution_count": 45,
      "metadata": {
        "id": "hfLOn98_kLiq"
      },
      "outputs": [],
      "source": [
        "data['CATEGORY_NAME1'].fillna('UNKCATG', inplace=True)\n",
        "data['CATEGORY_NAME2'].fillna('UNKCATG', inplace=True)"
      ]
    },
    {
      "cell_type": "markdown",
      "metadata": {
        "id": "jkBuBsp4kLiq"
      },
      "source": [
        "### 30- Verisetinde Kalan Boş Değerleri Silelim"
      ]
    },
    {
      "cell_type": "code",
      "execution_count": 46,
      "metadata": {
        "id": "IIPRl0IKkLiq"
      },
      "outputs": [],
      "source": [
        "data.dropna(inplace=True)"
      ]
    },
    {
      "cell_type": "markdown",
      "metadata": {
        "id": "4KHc_ivLkLiq"
      },
      "source": [
        "### 31- Mağazamızda Çalısan Eleman Sayısını Bulunuz"
      ]
    },
    {
      "cell_type": "code",
      "execution_count": 49,
      "metadata": {
        "id": "PXPMA6ENkLiq",
        "colab": {
          "base_uri": "https://localhost:8080/"
        },
        "outputId": "2785c6ba-10e1-438c-f271-cfaa1ebd4f18"
      },
      "outputs": [
        {
          "output_type": "stream",
          "name": "stdout",
          "text": [
            "54025\n"
          ]
        }
      ],
      "source": [
        "calisanlar = pd.concat([data['SALESMAN'], data['CLIENTNAME']])\n",
        "calisan_sayisi = calisanlar.nunique()\n",
        "print(calisan_sayisi)"
      ]
    },
    {
      "cell_type": "markdown",
      "metadata": {
        "id": "hKGDz7cQkLiq"
      },
      "source": [
        "### 32-Şirketimizin Hangi Bölgelerde Kaç Subesi Var Onu Yazdıralım"
      ]
    },
    {
      "cell_type": "code",
      "execution_count": 52,
      "metadata": {
        "id": "dr8mhJSdkLiq",
        "colab": {
          "base_uri": "https://localhost:8080/"
        },
        "outputId": "9390a196-abc9-4ae2-a8a3-573a20f433b0"
      },
      "outputs": [
        {
          "output_type": "stream",
          "name": "stdout",
          "text": [
            "REGION\n",
            "Akdeniz               8\n",
            "Doğu Anadolu         14\n",
            "Ege                   9\n",
            "Güneydoğu Anadolu     9\n",
            "Karadeniz            18\n",
            "Marmara              10\n",
            "İç Anadolu           13\n",
            "Name: SUBE_ADI, dtype: int64\n"
          ]
        }
      ],
      "source": [
        "sube_sayilari = data.groupby('REGION')['SUBE_ADI'].nunique()\n",
        "print(sube_sayilari)"
      ]
    },
    {
      "cell_type": "markdown",
      "metadata": {
        "id": "iElUpDAhkLiq"
      },
      "source": [
        "### 33-En Çok Ücret Alan Fiş No ve o fişin toplam tutarını yazdırın."
      ]
    },
    {
      "cell_type": "code",
      "execution_count": 54,
      "metadata": {
        "id": "YGNazwTUkLiq",
        "colab": {
          "base_uri": "https://localhost:8080/"
        },
        "outputId": "ce197be5-12dd-4969-83d0-8c444f5c22de"
      },
      "outputs": [
        {
          "output_type": "stream",
          "name": "stdout",
          "text": [
            "En çok ücret alan fiş numarası: 144857\n",
            "Bu fişin toplam tutarı: 8556.0\n"
          ]
        }
      ],
      "source": [
        "# FICHENO sütununa göre gruplayarak her bir fiş numarasının toplam tutarını hesapla\n",
        "toplam_tutarlar = data.groupby('FICHENO')['LINENETTOTAL'].sum()\n",
        "\n",
        "# En çok ücret alan fiş numarasını ve toplam tutarını bul\n",
        "en_yuksek_tutarli_fis = toplam_tutarlar.idxmax()\n",
        "en_yuksek_tutar = toplam_tutarlar.max()\n",
        "\n",
        "# Sonucu yazdır\n",
        "print(\"En çok ücret alan fiş numarası:\", en_yuksek_tutarli_fis)\n",
        "print(\"Bu fişin toplam tutarı:\", en_yuksek_tutar)"
      ]
    },
    {
      "cell_type": "markdown",
      "metadata": {
        "id": "P_X78zrMkLir"
      },
      "source": [
        "### 34-  Şirketimizin Hangi Bölgede Ne Kadar Müşterisi Var onu yazdıralım"
      ]
    },
    {
      "cell_type": "code",
      "execution_count": 55,
      "metadata": {
        "id": "70JD2RkNkLir",
        "colab": {
          "base_uri": "https://localhost:8080/"
        },
        "outputId": "8e7339ba-7f59-4995-a8cf-f8580b119709"
      },
      "outputs": [
        {
          "output_type": "stream",
          "name": "stdout",
          "text": [
            "REGION\n",
            "Akdeniz              14546\n",
            "Doğu Anadolu          9128\n",
            "Ege                  16136\n",
            "Güneydoğu Anadolu    12498\n",
            "Karadeniz            13108\n",
            "Marmara              27333\n",
            "İç Anadolu           17550\n",
            "Name: CLIENTCODE, dtype: int64\n"
          ]
        }
      ],
      "source": [
        "musteri_sayilari = data.groupby('REGION')['CLIENTCODE'].nunique()\n",
        "print(musteri_sayilari)"
      ]
    },
    {
      "cell_type": "markdown",
      "metadata": {
        "id": "4ufJQHRpkLir"
      },
      "source": [
        "### 35- En Çok ürün Alan Fiş No"
      ]
    },
    {
      "cell_type": "code",
      "execution_count": 56,
      "metadata": {
        "id": "iXEipiQ8kLir",
        "colab": {
          "base_uri": "https://localhost:8080/"
        },
        "outputId": "105bae1e-32aa-4d8c-e6b3-73631c4d7a00"
      },
      "outputs": [
        {
          "output_type": "stream",
          "name": "stdout",
          "text": [
            "En çok ürün alan fiş numarası: 65232\n",
            "Bu fişte toplam ürün adeti: 1017.0\n"
          ]
        }
      ],
      "source": [
        "#FICHENO sütununa göre gruplayarak her bir fiş numarasının toplam ürün adedini hesapla\n",
        "toplam_urun_adetleri = data.groupby('FICHENO')['AMOUNT'].sum()\n",
        "\n",
        "# En çok ürün alan fiş numarasını bul\n",
        "en_yuksek_urun_fis = toplam_urun_adetleri.idxmax()\n",
        "en_yuksek_urun_adet = toplam_urun_adetleri.max()\n",
        "\n",
        "# Sonucu yazdır\n",
        "print(\"En çok ürün alan fiş numarası:\", en_yuksek_urun_fis)\n",
        "print(\"Bu fişte toplam ürün adeti:\", en_yuksek_urun_adet)"
      ]
    },
    {
      "cell_type": "markdown",
      "metadata": {
        "id": "CndShHNbkLir"
      },
      "source": [
        "### 36-En Çok Ciro Yapan Şube ve o şubenin müşteri sayısını bulun"
      ]
    },
    {
      "cell_type": "code",
      "execution_count": 59,
      "metadata": {
        "id": "nQ3_dhqrkLir",
        "colab": {
          "base_uri": "https://localhost:8080/"
        },
        "outputId": "6a02f3cb-1094-404b-d4e8-f295dc965571"
      },
      "outputs": [
        {
          "output_type": "stream",
          "name": "stdout",
          "text": [
            "En çok ciro yapan şube: İstanbul Subesi\n",
            "Bu şubenin toplam ciro değeri: 454267.76\n",
            "Bu şubeye ait müşteri sayısı: 19145\n"
          ]
        }
      ],
      "source": [
        "# BRANCH sütununa göre gruplayarak her bir şubenin toplam cirosunu hesapla\n",
        "sube_ciro = data.groupby('SUBE_ADI')['LINENETTOTAL'].sum()\n",
        "\n",
        "# En çok ciro yapan şubenin adını ve ciro değerini bul\n",
        "en_yuksek_ciro_sube = sube_ciro.idxmax()\n",
        "en_yuksek_ciro = sube_ciro.max()\n",
        "\n",
        "# En çok ciro yapan şubeye ait müşteri sayısını bul\n",
        "en_yuksek_ciro_sube_musteri_sayisi = data[data['SUBE_ADI'] == en_yuksek_ciro_sube]['CLIENTCODE'].nunique()\n",
        "\n",
        "# Sonuçları yazdır\n",
        "print(\"En çok ciro yapan şube:\", en_yuksek_ciro_sube)\n",
        "print(\"Bu şubenin toplam ciro değeri:\", en_yuksek_ciro)\n",
        "print(\"Bu şubeye ait müşteri sayısı:\", en_yuksek_ciro_sube_musteri_sayisi)"
      ]
    },
    {
      "cell_type": "markdown",
      "metadata": {
        "id": "oViJqD6ukLir"
      },
      "source": [
        "### 37-Müşterilerin Kasada En Çok Vakit Geçirdikleri Şube"
      ]
    },
    {
      "cell_type": "code",
      "execution_count": 60,
      "metadata": {
        "id": "-AooSlbIkLir",
        "colab": {
          "base_uri": "https://localhost:8080/"
        },
        "outputId": "27574bb8-50bb-4e35-c884-ecf51ea7ae55"
      },
      "outputs": [
        {
          "output_type": "stream",
          "name": "stdout",
          "text": [
            "Müşterilerin kasada en çok vakit geçirdikleri şube: Antalya Subesi\n",
            "Bu şubede toplamda geçirilen süre: 2882219.59874\n"
          ]
        }
      ],
      "source": [
        "# Satış işlemlerinin toplam sürelerini hesaplamak için \"SUBE_ADI\" sütununu ve \"LINENET\" sütununu kullanarak toplam süreyi hesaplayalım\n",
        "data['TOTAL_TIME'] = data['AMOUNT'] * data['LINENET']\n",
        "\n",
        "# Şubelere göre toplam süreleri hesaplayalım\n",
        "sube_toplam_sureler = data.groupby('SUBE_ADI')['TOTAL_TIME'].sum()\n",
        "\n",
        "# En çok süreyi geçiren şubeyi bulalım\n",
        "en_cok_sure_sube = sube_toplam_sureler.idxmax()\n",
        "en_cok_sure = sube_toplam_sureler.max()\n",
        "\n",
        "# Sonuçları yazdıralım\n",
        "print(\"Müşterilerin kasada en çok vakit geçirdikleri şube:\", en_cok_sure_sube)\n",
        "print(\"Bu şubede toplamda geçirilen süre:\", en_cok_sure)"
      ]
    },
    {
      "cell_type": "markdown",
      "metadata": {
        "id": "div2fbL-kLis"
      },
      "source": [
        "### 38-Haftanın Günleri Bas Alınarak Ortalama cironun en yüksek olduğu gün hangisi"
      ]
    },
    {
      "cell_type": "code",
      "execution_count": 61,
      "metadata": {
        "collapsed": true,
        "jupyter": {
          "outputs_hidden": true
        },
        "id": "nZPrfnvBkLis"
      },
      "outputs": [],
      "source": [
        "# Satış işlemlerinin yapıldığı günleri \"DATE_\" sütunundan alalım dt.dayofweek  (0-6) değer üretir\n",
        "data['DAY_OF_WEEK'] = data['DATE_'].dt.dayofweek"
      ]
    },
    {
      "cell_type": "code",
      "execution_count": 62,
      "metadata": {
        "id": "MYOOvgAVkLis"
      },
      "outputs": [],
      "source": [
        "# Günlük ciro ortalamalarını hesaplayalım    .mean ortalama alır.\n",
        "gunluk_ciro_ortalama = data.groupby('DAY_OF_WEEK')['LINENETTOTAL'].mean()"
      ]
    },
    {
      "cell_type": "code",
      "execution_count": 63,
      "metadata": {
        "id": "7289xGu6kLis"
      },
      "outputs": [],
      "source": [
        "# En yüksek ortalama ciroya sahip olan günü bulalım .idxmax:ütundaki en büyük değere sahip olan indeksi döndüren bir metottur.\n",
        "en_yuksek_ortalama_ciro_gunu = gunluk_ciro_ortalama.idxmax()\n",
        "en_yuksek_ortalama_ciro = gunluk_ciro_ortalama.max()"
      ]
    },
    {
      "cell_type": "code",
      "execution_count": 64,
      "metadata": {
        "id": "iFICWSy8kLit",
        "colab": {
          "base_uri": "https://localhost:8080/"
        },
        "outputId": "75fd3bf6-d681-4714-b8a1-c8f892b1f85e"
      },
      "outputs": [
        {
          "output_type": "stream",
          "name": "stdout",
          "text": [
            "Ortalama cironun en yüksek olduğu gün: 3\n",
            "Bu günün ortalama ciro değeri: 4.183156875198476\n"
          ]
        }
      ],
      "source": [
        "# Sonuçları yazdıralım\n",
        "print(\"Ortalama cironun en yüksek olduğu gün:\", en_yuksek_ortalama_ciro_gunu)\n",
        "print(\"Bu günün ortalama ciro değeri:\", en_yuksek_ortalama_ciro)"
      ]
    },
    {
      "cell_type": "markdown",
      "metadata": {
        "id": "7YoRZWp3kLit"
      },
      "source": [
        "### 39-Ayın Hangi Günlerinde En Yüksek Çiro Yapılmıs?"
      ]
    },
    {
      "cell_type": "code",
      "execution_count": 65,
      "metadata": {
        "id": "NvOSoqD5kLit",
        "colab": {
          "base_uri": "https://localhost:8080/"
        },
        "outputId": "400a8683-a40d-443f-d0b6-1a4912a5f8a8"
      },
      "outputs": [
        {
          "output_type": "stream",
          "name": "stdout",
          "text": [
            "En yüksek cironun yapıldığı gün: 14\n",
            "Bu günün ciro miktarı: 99581.51\n"
          ]
        }
      ],
      "source": [
        "gunluk_ciro = data.groupby(data['DATE_'].dt.day)['LINENETTOTAL'].sum()\n",
        "\n",
        "# En yüksek günlük ciro değerini ve bu günün tarihini bulalım\n",
        "en_yuksek_ciro_gunu = gunluk_ciro.idxmax()\n",
        "en_yuksek_ciro_miktari = gunluk_ciro.max()\n",
        "\n",
        "# Sonuçları yazdıralım\n",
        "print(\"En yüksek cironun yapıldığı gün:\", en_yuksek_ciro_gunu)\n",
        "print(\"Bu günün ciro miktarı:\", en_yuksek_ciro_miktari)"
      ]
    },
    {
      "cell_type": "markdown",
      "metadata": {
        "id": "BUJxXJhhkLit"
      },
      "source": [
        "### 40- Günün Hangi Saatlerinde Yoğunluk daha Fazla Olmakta"
      ]
    },
    {
      "cell_type": "code",
      "execution_count": null,
      "metadata": {
        "id": "JaVzeLH-kLit"
      },
      "outputs": [],
      "source": [
        "### part time eleman alacağız ama hangi saatler arasında alırsak daha fazla iş yapar ve maliyeti ve yoğunluğu düşürüz"
      ]
    },
    {
      "cell_type": "code",
      "execution_count": 66,
      "metadata": {
        "id": "mYB_Y4iCkLit",
        "colab": {
          "base_uri": "https://localhost:8080/"
        },
        "outputId": "506f2f5e-82f0-4745-a64e-afdb8d7f1363"
      },
      "outputs": [
        {
          "output_type": "stream",
          "name": "stdout",
          "text": [
            "Yoğunluğun daha fazla olduğu saat: 0\n",
            "Bu saatteki satış sayısı: 603941\n"
          ]
        }
      ],
      "source": [
        "# Satış işlemlerinin yapıldığı saatleri kullanarak saatlik satış sayılarını hesaplayalım\n",
        "saatlik_satis_sayisi = data.groupby(data['DATE_'].dt.hour).size()\n",
        "\n",
        "# En yüksek saatlik satış sayısını ve bu saatin saatini bulalım\n",
        "en_yuksek_saatlik_satis = saatlik_satis_sayisi.idxmax()\n",
        "en_yuksek_satis_sayisi = saatlik_satis_sayisi.max()\n",
        "\n",
        "# Sonuçları yazdıralım\n",
        "print(\"Yoğunluğun daha fazla olduğu saat:\", en_yuksek_saatlik_satis)\n",
        "print(\"Bu saatteki satış sayısı:\", en_yuksek_satis_sayisi)"
      ]
    },
    {
      "cell_type": "markdown",
      "metadata": {
        "id": "V686GRDOkLiu"
      },
      "source": [
        "### 41-Kategori İsimlerini Yazdırın. İçlerinden Bir Tanesine ait alt urunleri bulup bu kategori arasında urunlerin satış yüzdelerini hesaplayın"
      ]
    },
    {
      "cell_type": "code",
      "execution_count": 68,
      "metadata": {
        "id": "httNMtPrkLiu",
        "colab": {
          "base_uri": "https://localhost:8080/"
        },
        "outputId": "4faa27a9-268b-4be0-c297-c0da25f73546"
      },
      "outputs": [
        {
          "output_type": "stream",
          "name": "stdout",
          "text": [
            "Kategori İsimleri:\n",
            "['İÇECEK' 'GIDA' 'SÜT KAHVALTILIK' 'MEYVE SEBZE' 'SİGARA' 'KOZMETİK'\n",
            " 'ET TAVUK' 'EV' 'KAĞIT' 'BEBEK' 'DETERJAN TEMİZLİK' 'PET']\n",
            "SPRITE 1 LT LIMON AROMALI GAZOZ: %0.03\n",
            "TOZ SEKER: %14.20\n",
            "F NEFFIS TOZ SEKER 2 KG: %0.47\n",
            "F NEFFIS KESME SEKER 1 KG: %0.59\n",
            "CAYKUR ALTIN SUZME POSET 25LI: %0.05\n",
            "CAYKUR TOMURCUK EARL GREY 125G: %0.24\n",
            "CAYKUR KAMELYA CAY 1KG: %0.29\n",
            "CAYKUR FILIZ CAY 500 GR: %0.28\n",
            "CAYKUR TIRYAKI CAY 500 GR: %0.28\n",
            "COFFEE MATE 50 GR: %0.13\n",
            "CAYKUR KAMELYA CAY 500GR: %0.24\n",
            "ULUDAG MADENSU FRUTTI CILEK 200ML 6'LI: %0.03\n",
            "BEYPAZARI SODA TEKLİ 20 CC: %2.98\n",
            "DOGUS SARGILI SEKER KG: %0.09\n",
            "DOGUS KUP SEKER 5 KG TEKLİ SARGILI: %0.01\n",
            "ULUDAG GAZOZ 1,5LT.EKO BOY: %0.42\n",
            "ULKER CAMLICA 250 ML CAM: %0.02\n",
            "ULUDAG GAZOZ 1LT EFSANE: %0.14\n",
            "ULUDAG FRUTTI EXTRA ARMUTLU 250ML: %0.05\n",
            "DOGUS KUP SEKER 750GR: %0.65\n",
            "ULUDAG LIMONATA 1 LITRE SEKERSIZ: %0.35\n",
            "LIPTON ICE TEA 1 LT TGA LIMON: %0.06\n",
            "F NEFFIS KESME SEKER 750 GR: %0.50\n",
            "DOGUS KUP SEKER 1KG: %0.55\n",
            "DOGANAY SALGAM SUYU 1000ML ACILI: %0.07\n",
            "NESCAFE 3 IN 1 ARADA 18 GR: %10.22\n",
            "CAFE CROWN 3 U 1 FINDIKLI: %0.65\n",
            "NESCAFE GOLD 100 GR EKO PAKET: %0.05\n",
            "NESCAFE 3 IN 1 CIKOLATALI 13 GR: %0.56\n",
            "MEHMET EFENDI KAHVE 100 GR.: %1.59\n",
            "NESCAFE 3 IN 1 ARADA BOL SUTLU KOPUK 18 GR: %1.42\n",
            "NESCAFE CLASSIC 50 GR.EKO PAKET: %0.14\n",
            "DOGANAY SALGAM SUYU 330 ML ACILI: %0.16\n",
            "DOGANAY SALGAM SUYU 1000ML: %0.03\n",
            "ICIM M.SUYU 1000 GR SEFTALI: %0.08\n",
            "BURC DOGAL KAYNAK SU 1,5 L: %0.04\n",
            "DIMES 1LT KIRMIZI MEYVELERDEN: %0.03\n",
            "HALK M. SUYU 200ML YENI VISNE NARITA: %0.01\n",
            "ERIKLI DOGAL MEMBA SU 5 LT: %0.90\n",
            "ERIKLI DOGAL MEMBA SU 500ML: %3.24\n",
            "PINAR M.SUYU 200 ML CILGIN PORTAKAL ARMUT ELMA: %0.19\n",
            "BURC DOGAL KAYNAK SU 5 L: %0.10\n",
            "KAY SU 1,5 LT: %0.41\n",
            "PINAR YASAM PINARIM 10 LT: %0.15\n",
            "ICIM SALEP TEKLI: %0.32\n",
            "AROMA M.SUYU KUTU 1LT SEFTALI: %0.13\n",
            "AROMA M.SUYU KUTU 1LT KAYISI: %0.10\n",
            "KAY SU 5 LT: %1.20\n",
            "CAPPY MEYVA NEKTARI 1LT VISNE: %0.09\n",
            "PINAR MADRAN SU 500ML: %0.37\n",
            "CAPPY PULPY PORTAKAL 1 LT: %0.12\n",
            "PASAKOY AYRAN 200GR: %2.04\n",
            "AROMA M.SUYU KUTU 1LTVISNE: %0.07\n",
            "ERIKLI DOGAL MEMBA SU 1,5LT: %1.04\n",
            "KAY SU 10 LT: %0.60\n",
            "CAPPY M.SUYU 200ML VISNE: %0.05\n",
            "ALTIN CEZVE TOZ ICECEK NAR 300 GR: %0.01\n",
            "ULUDAG LIMONATA 1 LITRE: %0.38\n",
            "ULUDAG FRUTTI EXTRA MANDALINALI 250ML: %0.07\n",
            "CAYKUR DIDI SOGUK CAY 500 ML BERGAMOT: %0.07\n",
            "KONYA KUP SEKER 360 AD.1000 GR: %0.02\n",
            "KONYA KUP SEKER 750 GR: %0.05\n",
            "ULUDAG GAZOZ 2,5 LT.EKO BOY SA: %0.23\n",
            "ULUDAG GAZOZ 1LT EFSANE ŞEKERSİZ: %0.09\n",
            "CAYKUR DIDI SOGUK CAY 500 ML SEFTALI: %0.09\n",
            "CAYKUR DIDI SOGUK CAY 500 ML LIMON: %0.04\n",
            "KONYA SEKER NAYLON TORBA 1000 GR: %0.01\n",
            "ULUDAG MADENSU FRUTTC MAX VITAMIN 6'LI: %0.17\n",
            "ULUDAG MADENSU FRUTTI LIMON 200ML 6'LI: %0.31\n",
            "CAYKUR RIZE TURIST CAYI 1 KG+500 GR: %0.21\n",
            "SARUHAN RIZE CAYI 1000GR: %0.05\n",
            "CAYKUR DEMLIK POSETI 40 ADET: %0.12\n",
            "COFFEE MATE 200 GR EKO PAKET: %0.11\n",
            "DOGUS RIZE HARMANI CAY 100GR: %0.02\n",
            "CAYKUR ALTINBAS CAY 200 GR.: %0.05\n",
            "ALTIN CEZVE SUTLU SALEP 300 GR: %0.24\n",
            "ALTIN CEZVE TOZ ICECEK NANE LIMON 300 GR: %0.03\n",
            "ULKER COLA TURKA 3 LT: %0.06\n",
            "COCA COLA 2,5 LT. EKO BOY: %0.94\n",
            "FANTA 1,5 LT PORTAKAL PET SISE: %0.19\n",
            "FANTA PORTAKAL 2,5LT: %0.37\n",
            "COCA COLA 1,5 LT. PET SISE: %0.67\n",
            "PEPSI 1LT LIGHT PET SISE: %0.00\n",
            "COCA COLA 250 ML TNK: %0.45\n",
            "ULUDAG PORTAKALLI 1,5 LT.: %0.09\n",
            "PEPSI 330 ML TNK: %0.12\n",
            "CAPPY SAF PORTAKAL SUYU 1/1 LT: %0.01\n",
            "PINAR M.SUYU 200 ML PORT+SEFT: %0.18\n",
            "PINAR MADRAN SU 500ML SIRINLER SPORCU K.: %0.37\n",
            "TROPICANA M.SUYU 1 LT VISNE: %0.14\n",
            "TROPICANA M.SUYU 1 LT SEFTALI: %0.15\n",
            "SEK AYRAN 300GR: %0.11\n",
            "SEK MEYVE SU 1 LT MANGO AROMALI: %0.01\n",
            "ICIM LINK AROMA 250ML CILEK: %0.10\n",
            "SUTAS AYRAN 330 ML ŞİŞE AYRAN: %0.02\n",
            "SAKA SU 0.5LT: %1.20\n",
            "PINAR MADRAN SU 1.5 LT: %0.23\n",
            "ALTIN CEZVE TOZ ICECEK KUSBURNU 300 GR: %0.15\n",
            "ALTIN CEZVE TOZ ICECEK KIVI 300 GR: %0.07\n",
            "CAFE CROWN 2 U 1 FINDIKLI: %0.51\n",
            "CAFE CROWN LATTE: %0.53\n",
            "NESCAFE 2 İ 1 ARADA 18 GR: %1.82\n",
            "NESCAFE CLASSIC 100 GR EKO PAKET: %0.08\n",
            "SHAZILI HAZIR SUTLU TURK KAHVESI SADE: %0.23\n",
            "SHAZILI HAZIR SUTLU TURK KAHVESI SEKERLI: %0.24\n",
            "SHAZILI SALEP 24GR: %0.49\n",
            "JACOBS MONARCH EKO 100 GR KAHVE: %0.01\n",
            "CAFE CROWN 2IN1 SEKERSIZ: %0.83\n",
            "NESCAFE 3 IN 1 FINDIK 18 GR: %0.31\n",
            "NESCAFE GOLD 2 GR: %0.43\n",
            "DOGUS KUP SEKER 1KG 405 ADET: %0.69\n",
            "KONYA KUP SEKER 405 ADET 1 KG: %0.01\n",
            "PRENSES SEKILLI KUP SEKER 500GR: %0.01\n",
            "SEK MEYVE SU 1 LI VISNE: %0.05\n",
            "SAKA SU 1,5 LİTRE: %0.61\n",
            "KAY SU 0,5 LT: %1.33\n",
            "ALTIN CEZVE TOZ ICECEK MUZ 300 GR: %0.01\n",
            "ALTIN CEZVE TOZ ICECEK PORTAKAL 300 GR: %0.12\n",
            "PINAR M.SUYU 200ML VISNE: %0.10\n",
            "SUTAS AYRAN 2 LT: %0.29\n",
            "SUTAS AYRAN 1 LT: %0.37\n",
            "DOGUS TİRYAKİ SIYAH CAY 1KG: %0.05\n",
            "DOGUS FILIZ CAY 500GR SIYAH: %0.08\n",
            "DOGUS TİRYAKİ SİYAH CAY 500GR: %0.03\n",
            "DOGUS KUSBURNU 20 LI: %0.01\n",
            "DOGUS BLACK LABEL 25*2GR POSET: %0.05\n",
            "CAYKUR RIZE TURIST CAY 500 GR: %0.35\n",
            "CAYKUR YESIL SÜZEN CAY 25AD MELİSALI : %0.00\n",
            "CAFE CROWN 3 U 1: %1.20\n",
            "NESCAFE GOLD 50 GR EKO PAKET: %0.06\n",
            "ALTIN CEZVE TURK KAHVESI 100GR: %0.04\n",
            "NESCAFE 3 IN 1 ARADA BOL KAHVE TADI 18 GR: %0.69\n",
            "CAFE CROWN SICAK ÇİKOLATA 23GR: %0.39\n",
            "ULUDAG GAZOZ CAM SISE 6X 250ML: %0.03\n",
            "ULKER CAMLICA 1.5 LT: %0.09\n",
            "ULUDAG LIMONATA 330 ML: %0.16\n",
            "CAYKUR DIDI SOGUK CAY 2,5 LT BERGAMOT: %0.04\n",
            "F NEFFIS TOZ SEKER 5 KG: %0.16\n",
            "PRENSES KAHVERENGI K.SEKER 500GR: %0.03\n",
            "BURC DOGAL KAYNAK SU 0,5 L: %0.44\n",
            "ELITE NATUREL 200 ML KARADUT: %0.00\n",
            "SUTAS AYRAN 225 ML: %0.76\n",
            "ICIM M.SUYU 1000 ML KAYISI: %0.07\n",
            "PINAR M.SUYU 200ML PORTAKAL: %0.09\n",
            "AYTAC MEYVE SUYU KAYISI 1 LT: %0.05\n",
            "AYTAC MEYVE SUYU ŞEFTALİ 1 LT: %0.05\n",
            "PINAR M.SUYU 200ML KOKTEYL AKDENIZ: %0.23\n",
            "ULUDAG PORTAKALLI 1 LT.: %0.04\n",
            "FANTA 250 ML TNK: %0.06\n",
            "COCA COLA 1 LT. PET SISE: %0.88\n",
            "COCA COLA 250ML SISE: %0.10\n",
            "COCA COLA ZERO 1,5 LİTRE: %0.07\n",
            "FANTA 1 LT PORTAKAL PET SISE: %0.18\n",
            "YORSAN AYRAN 180 GR: %0.21\n",
            "COCA COLA 450 ML PET SISE: %0.13\n",
            "COCA COLA LIGHT 250 ML TNK: %0.03\n",
            "ULUDAG SARI PORTAKALLI 2,5 LT.: %0.18\n",
            "ULUDAG SODA 6LI: %0.74\n",
            "SHAZILI HAZIR TURK KAHVESI SADE 10'LU: %0.00\n",
            "JACOBS 2 IN 1 ARADA 16 GR: %0.26\n",
            "SHAZILI SICAK CIKOLATA: %0.07\n",
            "ULKER CAMLICA 2.5 LT: %0.02\n",
            "SPRITE LIMON KUTU 250 ML.: %0.04\n",
            "ULKER COLA TURKA 1,5 LT: %0.05\n",
            "SEK MEYVE SU 1 LT KAYISI: %0.14\n",
            "SUTAS AYRAN 300 ML.: %0.38\n",
            "ERIKLI DOGAL MEMBA SU 10 LT: %0.16\n",
            "SEK MEYVE NEK.200 ML KARISIK: %0.05\n",
            "SUTAS AYRAN 200 GR. : %0.12\n",
            "PINAR M.SUYU 1LT.KAYISI: %0.13\n",
            "CAPPY 1 LT ATOM: %0.04\n",
            "PINAR M.SUYU 1LT.PORTAKAL: %0.05\n",
            "ICIM M.SUYU 200 ML VISNE: %0.06\n",
            "SEK MEYVE SU 1 LT ELMA: %0.06\n",
            "ULUDAG MADENSU FRUTTC MAX VITAMIN 200ML: %0.19\n",
            "ULUDAG MADENSU FRUTTI LIMON 200ML: %0.39\n",
            "AKDEM NANE&LİMON CAYI 20LI: %0.00\n",
            "SARUHAN RIZE CAYI 500 GR: %0.06\n",
            "CAYKUR FILIZ CAY 1KG: %0.13\n",
            "CAYKUR RIZE TURIST CAY 200GR: %0.14\n",
            "CAYKUR TOMURCUK EARL GREY 200 GR: %0.05\n",
            "CAYKUR RIZE TURIST CAY 1000 GR: %0.38\n",
            "COFFEE MATE 500 GR: %0.08\n",
            "SEK MEYVE SU 1 LT SEFTALI: %0.12\n",
            "PINAR M.SUYU 1LT.TROPİK: %0.05\n",
            "COCA COLA LIGHT 1 LT: %0.10\n",
            "PEPSI KOLA 200 ML CAM: %0.02\n",
            "PEPSI 1 LT PET SISE: %0.09\n",
            "ULKER COLA TURKA 2,5 LT: %0.05\n",
            "ULUDAG PORTAKALLI 2,5 LT.EKO B: %0.10\n",
            "BURC DOGAL KAYNAK SU 10L: %0.02\n",
            "PINAR YASAM PINARIM 33 CL CAM SISE: %0.16\n",
            "PINAR YAŞAM PINARIM SU 5KG: %0.41\n",
            "SCHWEPPES 1 LT MANDALIN PET SISE: %0.06\n",
            "FUSE TEA 330 ML LIMON: %0.02\n",
            "FUSE TEA 1 LT MANGO-ANANAS: %0.02\n",
            "ULUDAG NARATA 1 LITRE: %0.07\n",
            "CAYKUR DIDI SOGUK CAY 2,5 LT SEFTALI: %0.07\n",
            "ULUDAG EFSANE GAZOZ KUTU 330 ML: %0.13\n",
            "LIPTON DOGU K.DENIZ 25 LI BARDAK POSET CAY: %0.08\n",
            "DOGUS KARADENIZ CAY 500 GR: %0.03\n",
            "GOKCE TOZ ICECEK 170 GR KUSBURNU: %0.01\n",
            "BEYPAZARI SODA LİMON AROMALI: %0.03\n",
            "ULUDAG MADEN SUYU SADE 200 ML.: %0.91\n",
            "DOGUS ZENCEFILLI LIMONLU YESIL CAY 20'LI: %0.02\n",
            "F NEFFIS RIZE ÇAY 1000GR: %0.06\n",
            "CAYKUR TIRYAKI SIYAH CAY 1KG: %0.39\n",
            "CAFE CROWN KOPUKLU SUTLU KAHVE LATTE TEKLI: %1.00\n",
            "NESCAFE CAPUCCINO CIKOLATALI 14 GR: %0.08\n",
            "DOGANAY SALGAM SUYU 330ML CAM SISE: %0.01\n",
            "JACOBS 3 IN 1 ARADA 18 GR: %0.59\n",
            "SHAZILI HAZIR TURK KAHVESI SADE: %0.11\n",
            "NESCAFE GOLD 100 GR.KAVANOZ: %0.02\n",
            "NESCAFE FALCI ORTA 9GR: %0.13\n",
            "CAPPY %100 ELMALI ŞEFTALİ 1LT: %0.02\n",
            "SEK AYRAN 200 GR: %0.13\n",
            "SEK MEYVE SU 1 LT KARISIK: %0.13\n",
            "ICIM M.SUYU 1000 GR KARISIK: %0.08\n",
            "ALTIN CEZVE SUTLU KAKAO 300 GR: %0.04\n",
            "SEK MEYVE NEK.200 ML SEFTALI: %0.04\n",
            "AROMA M.SUYU 200ML SEFTALI: %0.59\n",
            "HALK MEYVE SUYU NARITA KAYISI 1LT: %0.01\n",
            "CAPPY MEYVA NEKTARI 1LT KARISIK: %0.09\n",
            "TROPICANA M.SUYU 1 LT KARISIK: %0.03\n",
            "DIMES 1LT %100 MEYVE SUYU PORTAKAL: %0.03\n",
            "TAT TEDİ 300 ML. HAVUC+ELMA+KAYISI: %0.03\n",
            "AYTAC MEYVE SUYU VİŞNE 1 LT: %0.05\n",
            "AROMA M.SUYU 200ML KARISIK: %0.19\n",
            "PINAR M.SUYU 1LT.ŞEFTALİ: %0.15\n",
            "TROPICANA %100 AMASYA ELMA SUYU: %0.03\n",
            "DIMES 1/5 LT MEYVE SUYU ŞEFTALİ: %0.14\n",
            "ULKER COLA 1LT TURKA: %0.03\n",
            "PEPSI KOLA 2,5 LT.: %0.08\n",
            "COCA COLA ZERO 1 LITRE: %0.11\n",
            "DAMLA DOĞAL SU 500 ML: %0.03\n",
            "SAKA SU 5 LİTRE: %0.15\n",
            "ICIM AYRAN 200 GR: %0.20\n",
            "PINAR M.SUYU 200 ML ARMUT ANANAS: %0.15\n",
            "PINAR M.SUYU 1LT. AKDENIZ: %0.17\n",
            "AROMA MEYVE SUYU 1 LT KARISIK: %0.06\n",
            "AROMA M.SUYU 200ML KAYISI: %0.35\n",
            "ICIM AYRAN 1 LT: %0.06\n",
            "DIMES 1LT %100 MEYVE SUYU ELMA: %0.04\n",
            "YORSAN AYRAN 1LT: %0.05\n",
            "CAPPY KUTU 330 ML.KARISIK: %0.03\n",
            "ALTIN CEZVE TOZ ICECEK TARCIN 300 GR: %0.03\n",
            "SEK MEYVE SU 1 LT PORTAKAL: %0.05\n",
            "DAMLA DOĞAL SU 1 LT: %0.03\n",
            "ALTIN CEZVE SICAK CIKOLATA 250 GR: %0.02\n",
            "ULKER GRANINI 330 ML VISNE: %0.02\n",
            "CAPPY MEYVA NEKTARI 1LT PORTAKAL: %0.05\n",
            "PINAR M.SUYU 200 ML KAYISI: %0.13\n",
            "TROPICANA M.SUYU 1 LT KAYISI: %0.11\n",
            "DIMES 1LT %100 MEYVE SUYU ANANAS: %0.01\n",
            "PINAR M.SUYU 200 ML PORT+HAV+LIM: %0.10\n",
            "DAMLA DOĞAL SU 1,5 ML: %0.01\n",
            "CAPPY MEYVA NEKTARI 1LT SEFTALI: %0.09\n",
            "ICIM SALEP 10LU POSET: %0.01\n",
            "CAPPY %100 ELMALI VİŞNE 1LT: %0.02\n",
            "DIMES 1LT MEYVE SUYU ŞEFTALİ KLASIK: %0.02\n",
            "COCA COLA ZERO 250 ML TNK: %0.03\n",
            "DOGUS FORM TEA 20 POSET: %0.02\n",
            "CAYKUR YESIL SUZEN CAY 25AD: %0.06\n",
            "LİPTON DOĞU KARADENİZ POUCH 24'LÜ: %0.03\n",
            "AKDEM FUNDA CAYI 20 LI: %0.01\n",
            "FLORES DOGAL 6LI MINERALLI SU 200ML : %0.10\n",
            "LIPTON EARL GREY TEA 100GR TENEKE KUTU: %0.01\n",
            "LIPTON Y.LABEL TEA 100 AD DEMLIK: %0.06\n",
            "TAMEK M.SUYU 200ML KAHVALTIM KARISIK MEYVE NEKTARI: %0.01\n",
            "SEK MEYVE NEK.200 ML VISNE: %0.02\n",
            "ALTIN CEZVE 3'U BIR ARADA 300 GR: %0.03\n",
            "FUSE TEA 1 LT SEFTALI: %0.04\n",
            "SPRITE 1,5 LT PET: %0.03\n",
            "DOGADAN EKİNAZYA 20 POŞET: %0.00\n",
            "F NEFFIS HARMAN ÇAY 1000 GR: %0.05\n",
            "DOGUS EARL GREY 25 POSET CAY: %0.03\n",
            "DOGUS YESIL 20LI POSET CAY: %0.02\n",
            "CAYKUR ALTINBAS CAY 500 GR.: %0.10\n",
            "BURN ENERGY ICECEG: %0.06\n",
            "ULUDAG MADENSU FRUTTI ELMA 200ML: %0.24\n",
            "NESCAFE CLASSIC 200 GR EKO PAKET: %0.05\n",
            "FERSAN SALGAM SUYU 330 ML ACILI: %0.00\n",
            "CAPPY KUTU 330 ML KAYISI SPECIAL: %0.03\n",
            "DIMES 1 LT %100 MEYVE SUYU UZUM-KAYISI: %0.02\n",
            "COCA COLA 1.5 LT LIGHT: %0.08\n",
            "ICIM LINK AROMA 250ML SEFTALI: %0.05\n",
            "PINAR M.SUYU 1LT.VISNE: %0.07\n",
            "TAT %100 DOMATES SUYU 1LT KLASİK: %0.03\n",
            "LIPTON ICE TEA 1 LT TGA SEFTALI: %0.13\n",
            "LİPTON BERRAK YEŞİL ÇAY BERGOMAT 20LI: %0.01\n",
            "DOGUS TOMURCUK EARL GREY KARTON KUTU 100 GR: %0.14\n",
            "NESCAFE CLASSIC 2 GR.: %0.52\n",
            "BIZDEN KAHVE 100GR: %0.05\n",
            "SAKA MINI SU 0,33ML: %0.15\n",
            "PINAR M.SUYU 200ML SEFTALI: %0.19\n",
            "CAPPY MEYVA NEKTARI 200ML SEFTALI: %0.05\n",
            "AROMA TROPIKAL SEFTALI KUTU 200ML: %0.08\n",
            "DAMLA DOĞAL SU 5 LT: %0.01\n",
            "DIMES 1LT %100 MEYVE SUYU UZUM MANGO: %0.00\n",
            "ULKER CAMLICA 2.5 LT PORTAKALLI: %0.02\n",
            "ULKER CAMLICA 1.5 LT PORTAKALLI: %0.04\n",
            "ERZURUM SEKERI 2 KG: %0.07\n",
            "ALTIN CEZVE COFFEE CREAMER 200 GR PAKET: %0.15\n",
            "ULUDAG MADENSU FRUTTI ELMA 6'LI: %0.14\n",
            "ULUDAG MADENSU FRUTTI KARPUZ-ÇİLEK 6'LI: %0.07\n",
            "DOGUS FILIZ CAY 1KG: %0.09\n",
            "CAYKUR SIYAH SUZME CAY 50GR.: %0.07\n",
            "LIPTON TB 40GR BOGURTLEN 20LI: %0.00\n",
            "ULUDAG MADENSU FRUTTI NAR 200ML: %0.18\n",
            "CAYKUR DIDI MINI SOGUK CAY 250 ML LIMON: %0.03\n",
            "CAYKUR DIDI MINI SOGUK CAY 250 ML SEFTALI: %0.07\n",
            "ULUDAG GAZOZ CAM SISE 250ML: %0.11\n",
            "ULUDAG NARATA 330 ML: %0.01\n",
            "ULKER CAMLICA LIMONLU 250 ML: %0.00\n",
            "TAMEK MEYVE SUYU 1 LT KUTU VISNE: %0.01\n",
            "LIPTON EARL GREY TEA 48 AD 163 GR: %0.02\n",
            "LIPTON Y.LABEL TEA 500GR EKO: %0.03\n",
            "ULKER TURK KAHVESI 100GR: %0.05\n",
            "CAYKUR DIDI MINI SOGUK CAY 250 ML CILEK: %0.06\n",
            "SCHWEPPES 250ML MANDALIN CAM SISE: %0.05\n",
            "SEK MEYVE SU 1 LT NAR NEKTARI: %0.02\n",
            "HALK MEYVE SUYU NARITA KARISIK 1LT: %0.01\n",
            "HALK MEYVE SUYU NARITA SEFTALI 1LT: %0.01\n",
            "TAMEK M.SUYU 200ML KAYISI: %0.01\n",
            "DOGUS FILIZ CAY 1 KG +TOMURCUK CAY: %0.09\n",
            "CAYKUR YESIL SÜZEN CAY 25AD NANE AROMALI: %0.01\n",
            "AKDEM BARUT AGACLI 9 KARISIK B.CAYI 40 SUZEN: %0.02\n",
            "ULKER SUNNY 2.5 LT MANDALINA: %0.02\n",
            "ULKER SUNNY 2.5 LT: %0.01\n",
            "CAPPY MEYVA NEKTARI 1LT KIRMIZI MEYVE: %0.01\n",
            "ULKER CAMLICA 330 ML: %0.02\n",
            "ULUDAG MANDALİNİTA 330 ML PET: %0.02\n",
            "ALTIN CEZVE GOLD COFFEE 100 GR PAKET: %0.03\n",
            "NESCAFE CAPUCCINO 14 GR: %0.11\n",
            "LIPTON TB 32GR IHLAMUR 20LI: %0.02\n",
            "DOGUS EARL GREY DEMLIK POSET 48 LI: %0.04\n",
            "CAYKUR FILIZ CAY 200 GR: %0.07\n",
            "POWERADE 500ML. ICE BLAST: %0.05\n",
            "DOGUS KUP SEKER 750GR CIFT SARGILI: %0.07\n",
            "AROMA M.SUYU 200 ML.VISNE KUTU: %0.19\n",
            "AYTAC MEYVE SUYU KARIŞIK 1 LİTRE: %0.06\n",
            "ICIM AYRAN 1.5 LT: %0.05\n",
            "REDBULL BLUE ENERJI ICECEGI 250 ML.: %0.01\n",
            "REDBULL RED ENERJI ICECEGI 250 ML.: %0.01\n",
            "DOGUS BLACK LABEL 100 'LU DEMLIK CAY KUTU HED: %0.07\n",
            "DOGUS YESIL 20LI BERGAMOTLU POSET CAY: %0.01\n",
            "DOGUS MOR MEYVELER MEYVE CAYI 20 LI POSET: %0.01\n",
            "LIPTON DOGU K.DENIZ 1KG CAY: %0.03\n",
            "COFFEE MATE 100 GR: %0.10\n",
            "CAFE CROWN 3 U 1 ARADA ACTION: %0.25\n",
            "SHAZILI HAZIR TURK KAHVESI SEKERLI: %0.30\n",
            "LIPTON ICE TEA 330 CL ICECEK GREEN: %0.00\n",
            "ULUDAG MANDALİNATA 1 LITRE: %0.07\n",
            "ULKER COLA 330ML TURKA: %0.04\n",
            "DOGUS MEYVE CAYI BOGURTLEN 20LI POSET CAY: %0.02\n",
            "LIPTON TB 50GR KUSBURNU 20LI: %0.01\n",
            "DOGUS RIZE HARMANI CAY 500GR: %0.03\n",
            "ICIM M.SUYU 200 GR KARISIK: %0.06\n",
            "BAYCE 250GR SIYAH CAY: %0.02\n",
            "AROMA TROPIKAL VISNE KUTU 200ML: %0.09\n",
            "LİPTON BERRAK YEŞİL ÇAY BALLI 20LI: %0.00\n",
            "AKDEM IHLAMUR 50GR YAPRAKLI : %0.01\n",
            "NESCAFE GOLD 200GR ALANA COFFEE MATE 200GR HEDIYE: %0.03\n",
            "JACOBS MONARCH 2GR.: %0.18\n",
            "FUSE TEA 330 ML KARPUZ: %0.02\n",
            "ICIM M.SUYU 1000ML PORTAKAL: %0.03\n",
            "F NEFFIS FILIZ ÇAY 500GR: %0.07\n",
            "DOGUS KIRAZ SAPLI YESIL CAY 20'LI: %0.03\n",
            "CAPPY M.SUYU 200ML KAYISI: %0.00\n",
            "ICIM LINK AROMA 250ML VISNE: %0.06\n",
            "DOGUS B.LABEL 25LI 2 PAKET: %0.06\n",
            "DOGUS FORM TEA 20 POSET CILEKLI: %0.01\n",
            "DOGUS TOMURCUK EARL GREY TEN. KUTU 125 GR: %0.03\n",
            "LİPTON DOĞU KARADENİZ POUCH 100'LÜ: %0.05\n",
            "DIMES 1 LT MEYVE SUYU PORTAKAL: %0.02\n",
            "HALK M. SUYU 200ML YENI KAYISI: %0.04\n",
            "CHAMPION BARDAK25LI SEYLAN CAYI: %0.02\n",
            "CAYKUR BURCUM YESIL CAY 100GR: %0.03\n",
            "CAYKUR YESIL SÜZEN CAY 25AD LIMONLU : %0.00\n",
            "LIPTON Y.LABEL TEA 48 AD DEMLIK 153GR: %0.05\n",
            "DOGADAN GIZLI BAHCE 500 GR: %0.01\n",
            "LIPTON TB REZENE 20AD.: %0.01\n",
            "LIPTON PIRAMIT ELMALI TARCINLI CAY: %0.00\n",
            "AKDEM ANASON CAYI 20LI: %0.00\n",
            "DOGUS KARADENIZ 1KG+500GR OZEL FIYAT: %0.07\n",
            "CAYKUR CAY CICEGI 200 GR.: %0.05\n",
            "DOGUS KEYIF BAHCESI CAYI 1KG: %0.05\n",
            "DOGADAN FORM ZAYIFLAMA CAYI: %0.01\n",
            "BEYPAZARI SODA 6'LI LIMON AROMALI: %0.06\n",
            "LIPTON DEMLIK KUSBURNU POSET CAY : %0.00\n",
            "CAYKUR SIYAH SUZME 100 AD.BARDAK: %0.02\n",
            "LIPTON GOLDEN CEYLAN TEA 96 AD DEMLIK: %0.00\n",
            "LIPTON FORM PLUS KIRAZ SAPI 20'LI POSET: %0.01\n",
            "CAYKUR RIZE TURIST CAY 100 GR: %0.08\n",
            "LIPTON FORM PLUS KAYISI 20'LI POSET: %0.02\n",
            "ULUDAG MADENSU FRUTTI NAR 200ML 6'LI: %0.09\n",
            "AKDEM IHLAMUR KARISIK KIS CAYI 100GR: %0.01\n",
            "DOGUS BLACK LABEL 100 AD.SUZEN BARDAK: %0.02\n",
            "DOGUS KEYIF BAHCESI CAYI 500 GR: %0.02\n",
            "FRUKO GAZOZ 2,5 LT.: %0.02\n",
            "CAYKUR DIDI SOGUK CAY 2,5 LT LIMON: %0.02\n",
            "CAPPY KUTU 330 ML.PORTAKAL: %0.02\n",
            "CAPPY PULPY LIMON 1 LT: %0.00\n",
            "CAPPY 1LT ELMA SUYU %100: %0.03\n",
            "DIMES 1LT ACTIVE VISNE SUYU: %0.02\n",
            "MEHMET EFENDI 250 GR KAKAO: %0.03\n",
            "NESCAFE FALCI SADE 9GR: %0.09\n",
            "DOGANAY SALGAM SUYU 2000ML: %0.02\n",
            "CAPPY KUTU 330 ML.SEFTALI: %0.03\n",
            "PINAR AYRAN 1LT: %0.02\n",
            "DIMES 1/5 LT MEYVE SUYU KAYISI: %0.07\n",
            "DIMES 1/5 LT MEYVE SUYU KARISIK: %0.07\n",
            "ICIM M.SUYU 330ML KAYISI: %0.01\n",
            "ICIM M.SUYU 330ML VİŞNE MEYVE SUYU: %0.01\n",
            "DIMES 1LT %100 KIRMIZI MEY.KARISIK: %0.04\n",
            "PRENSES KRENGI SARMA K.SEKER 750GR: %0.01\n",
            "FRUKO 330 ML GAZOZ TNK: %0.01\n",
            "CARDAK PORTAKAL SUYU 1+5: %0.00\n",
            "ULUDAG MADENSU FRUTTI SEFTALI 200ML: %0.09\n",
            "DOGUS NANE LIMON 20LI: %0.01\n",
            "ULUDAG MADENSU FRUTTI KARPUZ 200ML: %0.13\n",
            "LIPTON YESIL CAY 10 BITKILI 20'LI: %0.00\n",
            "AKDEM KANTARON 50 GR: %0.00\n",
            "ICIM M.SUYU 200 ML SEFTALI: %0.09\n",
            "BEYPAZARI SODA 6LI ELMA AROMALI: %0.03\n",
            "ULUDAG MADENSU FRUTTI CILEK 200ML: %0.08\n",
            "DOGUS BITKI CAYI PAPATYA 20 LI POSET: %0.01\n",
            "ULUDAG PORTAKAL CAM SISE 250 ML: %0.03\n",
            "DIMES 1LT MEYVE SUYU KARISIK: %0.04\n",
            "ICIM M.SUYU %100 ELMA SUYU: %0.02\n",
            "TAT TEDİ 300 ML. HAVUC+ELMA+ANANANS: %0.04\n",
            "PINAR YASAM PINARIM 75 CL CAM SISE: %0.07\n",
            "SEK ANANAS 1 LT MEYVE SU: %0.06\n",
            "TAMEK MEYVE SUYU 1 LT KUTU KARISIK: %0.01\n",
            "DOGANAY LIMON SUYU 250 ML: %0.01\n",
            "TAT TEDİ 200 ML. HAVUC+ELMA+SEFTALI: %0.02\n",
            "ICIM M.SUYU 200 ML KAYISI: %0.20\n",
            "CAPPY M.SUYU 200ML PORTAKAL: %0.03\n",
            "ULKER GRANINI 330 ML KARISIK : %0.02\n",
            "DIMES 1 LT %100 MEYVE SUYU NAR: %0.01\n",
            "CAPPY SPECIAL MEYVA SUYU 1LT KAYISI: %0.02\n",
            "COFFEE MATE 5 GR: %0.13\n",
            "DOGADAN FORM LIMONLU CAY: %0.00\n",
            "DOGUS KARADENIZ FILIZ CAY 1KG+TOMURCUK HED.: %0.08\n",
            "NESCAFE 3 IN1 10 AL 9 ÖDE: %0.19\n",
            "PRENSES KAHVERENGI TOZ SEKER 500 GR: %0.01\n",
            "NESTEA ICE TEA 330 ML LIMON: %0.00\n",
            "ULUDAG EFSANE GAZOZ PORTAKALLI 6*250 ML: %0.00\n",
            "FUSE TEA 330 ML MANGO-ANANAS: %0.02\n",
            "PRENSES KRISTAL TOZ SEKER KAHVERENGI 500 GR STICK: %0.00\n",
            "LIPTON ICE TEA 330 CL LIMON AROMALI : %0.04\n",
            "POWERADE SNOW STORM 500 ML: %0.02\n",
            "JACOBS MONARCH FILTRE KAHVE 500GR: %0.01\n",
            "ICIM M.SUYU 1000 GR VISNE: %0.06\n",
            "CARDAK LIMON SUYU 1 LT: %0.00\n",
            "LIPTON TB NANE LIMON 20 LI: %0.01\n",
            "MEHMET EFENDI KAHVE 250 GR.: %0.04\n",
            "PRENSES KRISTAL TOZ SEKER 500 GR STICK: %0.00\n",
            "ULUDAG FRUTTI EXTRA NARLI 250ML: %0.05\n",
            "AKDEM KUSBURNU CAYI 20LI: %0.01\n",
            "AKDEM MATEOTU CAYI 20'LI: %0.00\n",
            "CAPPY KUTU 330 ML.VISNE: %0.02\n",
            "DOGUS RIZE HARMANI CAY 1KG: %0.03\n",
            "LIPTON Y.LABEL TEA 25 AD BARDAK: %0.06\n",
            "ULUDAG MADENSU FRUTTI VISNE 200ML: %0.06\n",
            "DOGUS KARADENIZ CAY 1KG: %0.05\n",
            "YEDIGUN 2,5 LT.PORTAKAL: %0.02\n",
            "AKDEM TARCIN CUBUK 75 GR: %0.02\n",
            "CAYKUR YESIL CAY TNK NANELİ 150GR: %0.01\n",
            "LIPTON DOGU K.DENIZ 100 LU BARDAK POSET CAY 200GR: %0.01\n",
            "BEYPAZARI SODA ELMA AROMALI: %0.00\n",
            "ALTIN CEZVE CLASSIC COFFEE 100 GR PAKET: %0.01\n",
            "REDBULL ENERJI ICECEGI 250 ML.: %0.08\n",
            "LIPTON PIRAMIT YESİL CAY 20LI: %0.02\n",
            "DOGUS YESIL CAY NANELI 20'LI: %0.00\n",
            "DOGADAN GIZLI BAHCE 1000 GR: %0.00\n",
            "AKDEM BASUR 70 GR: %0.00\n",
            "EVCAY ZERDECAL KOKU TOZU 100 GR: %0.00\n",
            "DOGUS ROYAL BREAKFAST 25*2GR POSET: %0.03\n",
            "GOKCE TOZ ICECEK 170 GR PORTAKAL: %0.01\n",
            "DOGUS BLACK LABEL 48 AD DEMLIK: %0.05\n",
            "DOGADAN GELENEKSEL KARADENIZ CAYI 1 KG: %0.00\n",
            "DOGUS ROYAL BREAKFAST 48 AD DEMLIK: %0.04\n",
            "CAYKUR CAY CICEGI 500 GR.: %0.06\n",
            "LIPTON Y.LABEL TEA 100 AD BARDAK: %0.01\n",
            "DOGUS FORM KAYISILI KARISIK BITKI CAYI 20 LI: %0.03\n",
            "EVCAY SINAMEKI CAYI 20 POSET: %0.00\n",
            "GOKCE TOZ ICECEK 350 GR NAR: %0.00\n",
            "REDBULL ENERJI ICECEGI 330ML.: %0.01\n",
            "YEDIGUN 1 LT. PORTAKAL PET SISE: %0.01\n",
            "TAT TEDİ 300 ML. HAVUC+SEFTALI+ARMUT: %0.03\n",
            "ULKER GRANINI 330 ML SEFTALI: %0.02\n",
            "DIMES 1LT MEYVE SUYU KAYISI: %0.03\n",
            "LIPTON ICE TEA 330 CL ICECEK SEFT.: %0.09\n",
            "DOGANAY SALGAM SUYU ACILI 330ML CAM SISE: %0.01\n",
            "SHAZILI HAZIR TURK KAHVESI ORTA: %0.32\n",
            "ICIM AYRAN 295 GR: %0.05\n",
            "CARDAK LIMON SUYU 1+5: %0.01\n",
            "JACOBS CRONAT GOLD 100 GR EKO PKT: %0.02\n",
            "ULKER GENC TURK KAHVESI ORTA TEKLI: %0.05\n",
            "LIPTON DOGU K.DENIZ 500GR CAY: %0.02\n",
            "LIPTON DOGU KARADENIZ 160 LI DEMLIK POSET: %0.01\n",
            "LIPTON EARL GREY TEA DEMLIK 326GR: %0.02\n",
            "DOGUS B.LABEL 100'LU DEMLIK 48'LI POSET CAY HED: %0.03\n",
            "ALTIN CEZVE COFFEE CREAMER 200 GR KAVANOZ: %0.00\n",
            "CAYKUR YESIL CAY TNK 150 GR: %0.03\n",
            "LIPTON ICE TEA 1.5 LT SEFTALI: %0.01\n",
            "FUSE TEA 330 ML SEFTALI: %0.02\n",
            "ULKER CAMLICA 250 ML PORTAKAL: %0.01\n",
            "NAR SARMA KUP SEKER 750GR: %0.01\n",
            "DOGUS YESIL 20LI TARÇINLI-KARANFILLI: %0.03\n",
            "DOGUS KIRMIZI MEYVELER 20 LI: %0.01\n",
            "DOGUS BLACK LABEL 48+12DEMLIK: %0.01\n",
            "LIPTON ENGLISH BR.TEA 100AD.BARDAK: %0.00\n",
            "AKDEM KIS CAYI 40 SUZEN POSET: %0.01\n",
            "LIPTON ENGLISH BREAKFAST TEA 100'LU DEMLIK: %0.00\n",
            "GOKCE TOZ ICECEK 350 GR VISNE: %0.00\n",
            "CAYKUR ANADOLU FILIZ CAYI 400 GR.: %0.02\n",
            "DOGANAY SALGAM SUYU 2000ML ACILI: %0.04\n",
            "DOGANAY SALGAM SUYU ACILI 1000ML CAM SISE: %0.02\n",
            "LIPTON SIYAH INCI 500 R.: %0.02\n",
            "ULKER CAMLICA LIMON 2,5LT: %0.01\n",
            "SEK MEYVE NEK.200 ML KAYISI: %0.05\n",
            "TAMEK M.SUYU 200ML SEFTALI: %0.01\n",
            "ICIM M.SUYU 200 ML PORTAKAL: %0.02\n",
            "ULKER GRANINI NEKTARI VISNE 1KG: %0.01\n",
            "ULKER GRANINI 330 ML KAYISI: %0.00\n",
            "NAZO TOZ ICECEK VISNE: %0.07\n",
            "DOGUS ROYAL BREAKFAST 100 AD.BARDAK: %0.01\n",
            "LİPTON DOĞU KARADENİZ POUCH 48'Lİ: %0.06\n",
            "AKDEM REZENE CAYI 20LI: %0.01\n",
            "TAMEK MEYVE SUYU 1 LT KUTU SEFTALI: %0.01\n",
            "TAMEK MEYVE SUYU 1 LT KUTU KAYISI: %0.00\n",
            "CHAMPION DEMLIK 48LI SEYLAN CAYI: %0.02\n",
            "CAPPY %100 KARISIK MEYVE NEKTARI LT: %0.03\n",
            "DOGUS KARADENIZ POSET 25'LI BERGAMOTLU: %0.02\n",
            "AKDEM MEYAN KÖKÜ 50 GR: %0.00\n",
            "ULUDAG MADENSU FRUTTI VISNE 6'LI: %0.02\n",
            "AKDEM FITNESS FORM CAY 20ADET: %0.01\n",
            "LIPTON FORM PLUS ACAILI 20'LI POSET: %0.01\n",
            "AKDEM FORM KAYISILI 20'LI: %0.01\n",
            "CAYKUR KAMELYA CAY 100GR: %0.03\n",
            "AKDEM OĞUL OTU 40 GR: %0.00\n",
            "COFFEE MATE 170 GR YENI: %0.04\n",
            "AKDEM YESIL CAYI 100GR: %0.01\n",
            "DOGUS BITKI CAYI ADAÇAYI 20 LI POSET: %0.01\n",
            "AKDEM EGZOTIK MEYVE CAYI: %0.01\n",
            "LIPTON EARL GREY TEA 25LI POSET: %0.02\n",
            "ULUDAG EFSANE GAZOZ PORTAKALLI 330 ML: %0.03\n",
            "FUSE TEA 1 LT KARPUZ: %0.01\n",
            "TAT TEDİ 200 ML. HAVUC+ELMA+CILEK: %0.05\n",
            "CAPPY MEYVE TANEM 1 LT KARISIK: %0.01\n",
            "ULKER GRANINI NEKTARI KAYISI 1KG: %0.01\n",
            "DOGUS IHLAMUR 20LI POSET CAY: %0.01\n",
            "DOGUS EARL GREY 100 DEMLIK POSET CAY: %0.03\n",
            "FERSAN SALGAM SUYU 1000 ML ACISIZ: %0.01\n",
            "SPRITE 200 ML SISE: %0.02\n",
            "DOGADAN GIZLI BAHCE 48LI DEMLIK: %0.01\n",
            "ULKER CAMLICA PORTAKAL 330 ML: %0.00\n",
            "AKDEM YESIL CIN CAYI 20 LI: %0.01\n",
            "SEK MEYVE NEK.200 ML PORTAKAL: %0.01\n",
            "HALK M. SUYU 200ML KARISIK: %0.01\n",
            "LIPTON TB 40GR ELMALI IHLAMUR: %0.01\n",
            "YEDIGUN 2,5LT. KAN PORTAKAL PET SISE: %0.01\n",
            "LIPTON EG.2 AD 100'LU DEMLIK ALANA SAKLABA KABI H: %0.02\n",
            "DOGADAN YESIL CAY LIMONLU 20'LI: %0.01\n",
            "BAYCE 500GR SIYAH CAY: %0.01\n",
            "AKDEM KEKIK CAYI 70 GR: %0.01\n",
            "AKDEM BEBE CAYI 20LI: %0.00\n",
            "POWERADE 500ML. SUN RUSH: %0.02\n",
            "NESCAFE CLASSIC 100 GR.: %0.01\n",
            "PEPSI 330 ML LIGHT TNK: %0.01\n",
            "ICIM M.SUYU 330ML KARIŞIK MEYVE: %0.01\n",
            "TAMEK MEYVE SUYU 330 ML SEFTALI: %0.00\n",
            "LIPTON TB YABAN MERSINI 20AD.: %0.00\n",
            "AKDEM ZERDECAL TOZ: %0.01\n",
            "SHAZILI CAPPUCCİNO ŞEKERLI 10,5GR: %0.03\n",
            "DIMES 1 LT %100 MEYVE SUYU ŞEFTALİ-ÜZÜM: %0.02\n",
            "FUSE TEA 1 LT LIMON: %0.01\n",
            "LIPTON EARL GREY TEA 100GR BERGAMOT: %0.01\n",
            "EVCAY ELMA CAYI 20 POSET YENI: %0.00\n",
            "DOGUS YASEMINLI YESIL CAY 20'LI: %0.01\n",
            "DOGUS KARADENIZ CAY DEMLIK 48'LI BERGAMOTLU: %0.02\n",
            "LIPTON PIRAMIT CILEK AHUDUDU CAY: %0.01\n",
            "ALTIN CEZVE TOZ ICECEK LIMON  300 GR: %0.02\n",
            "AROMA TROPIKAL KAYISILI KUTU 200ML: %0.03\n",
            "DIMES 1 LT %100 MEYVE SUYU ÜZÜM-VİŞNE: %0.01\n",
            "HALK MEYVE SUYU NARITA VISNE 1LT: %0.02\n",
            "TAMEK M.SUYU 200ML VISNE: %0.00\n",
            "ELITE NATUREL 200 ML SIYAH UZUM: %0.00\n",
            "DIMES 1/5 LT MEYVE SUYU VİŞNE: %0.05\n",
            "SCHWEPPES 1 LT LIMON PET SISE: %0.01\n",
            "NAR 4 KG TEK SARGILI SEKER: %0.01\n",
            "LIPTON ICE TEA 1.5 LT LIMON: %0.02\n",
            "DOGADAN YESIL CIN CAYI 20 LI: %0.01\n",
            "LİPTON BERRAK YEŞİL ÇAY LİMONLU 20LI: %0.01\n",
            "CAPPY M.SUYU 200ML KARISIK: %0.06\n",
            "KONYA SEKER TANESI TORBA 5000 GR: %0.01\n",
            "AKDEM MELISSA CAYI 20LI: %0.01\n",
            "SHAZILI CAPPUCCİNO KUTU BARDAK HED ŞEKERLI 126GR: %0.01\n",
            "LIPTON SIYAH INCI 1000 GR.: %0.02\n",
            "DOGUS EKINEZYA BITKI CAYI 20 LI POSET: %0.01\n",
            "DOGUS KARADENİZ DEMLIK POSET CAY 160 AD: %0.01\n",
            "LIPTON EARL GREY TEA 500 GR.: %0.01\n",
            "YEDIGUN 330 ML.PORTAKAL TNK: %0.02\n",
            "LIPTON PIRAMIT YESİL CAY 20LI NANE FERAHLIGI: %0.00\n",
            "LIPTON PIRAMIT PORTAKAL ÇİÇEKLİ 20LI: %0.00\n",
            "FLORES DOGAL MINERALLI SU 200ML: %0.01\n",
            "LIPTON TB FORM PLUS SEFTALI 20 LI: %0.00\n",
            "K.KUKRER 1LT VISNE SURUBU: %0.00\n",
            "LIPTON Y.LABEL TEA 1 KG.: %0.03\n",
            "DOGUS BLACK LABEL 100+100 DEMLIK HED.: %0.00\n",
            "FRUKO GAZOZ 1,5 LT.: %0.01\n",
            "DOGUS BALLI ZENCEFILLI IHLAMUR 20'LI: %0.01\n",
            "CAPPY MEYVA NEKTARI 1LTRAMAZANŞERBETİ: %0.01\n",
            "GOKCE TOZ ICECEK 350 GR PORTAKAL: %0.01\n",
            "NESCAFE GOLD BLEND 200 GR EKO PAKET: %0.01\n",
            "DIMES 1 LT MEYVE SUYU NAR: %0.01\n",
            "NESCAFE CAPUCCINO SEKERSIZ 14 GR: %0.09\n",
            "LIPTON TB ZENCEFIL LIMON 20 LI: %0.01\n",
            "DOGADAN EARL GREY 100 LU DEMLIK POSET CAY: %0.00\n",
            "AKDEM MELİSA LIMON OTU 20GR: %0.01\n",
            "EVCAY TARCIN KABUGU 100 GR.: %0.00\n",
            "YEDIGUN 200 ML CAM PORTAKAL: %0.01\n",
            "DAMLA SODA 6*200ML SADE : %0.00\n",
            "LIPTON ILK HASAT CAY 1000 GR.: %0.00\n",
            "COFFEE MATE 400 GR YENI: %0.02\n",
            "ULUDAG MADENSU FRUTTI SEFTALI 6'LI: %0.01\n",
            "LİPTON BERRAK YEŞİL ÇAY NANELİ 20LI: %0.00\n",
            "DOGUS REZENE CAYI 20 LI: %0.01\n",
            "LIPTON PIRAMIT NANELİ TARCINLI 20LI: %0.00\n",
            "DOGADAN FORM KAYISILI CAY: %0.00\n",
            "LIPTON ICE TEA 1.5 LT MANGO: %0.01\n",
            "NESTEA ICE TEA 330 ML SEFTALI: %0.00\n",
            "ULKER COLA TURKA 200ML CAM: %0.01\n",
            "ICIM LINK AROMA 250ML PORTAKAL: %0.03\n",
            "JACOBS CRONAT GOLD 45 GR: %0.01\n",
            "DOGANAY SALGAM SUYU 330 ML SADE: %0.06\n",
            "NESCAFE FALCI SEKERLI 9GR: %0.03\n",
            "LIPTON ICE TEA 330 CL ICECEK MANGO AROMA: %0.01\n",
            "ULKER GRANINI 2 LI  NEKTARI BARDAK HED.: %0.02\n",
            "K.KUKRER 1LT PORTAKALLI SURUP: %0.00\n",
            "AKDEM ADA CAYI 20LI: %0.01\n",
            "TAMEK M.SUYU 200ML KARISIK MEYVE: %0.01\n",
            "ALTIN CEZVE TOZ ICECEK ADACAYI 300 GR: %0.00\n",
            "ELITE NATUREL 700 ML SIYAHUZUM : %0.00\n",
            "TAMEK MEYVE SUYU 330 ML VISNE: %0.00\n",
            "ALTIN CEZVE TOZ ICECEK ELMA 300 GR: %0.02\n",
            "TAT TEDİ 300 ML. HAVUC+SEFTALI+ELMA: %0.03\n",
            "FERSAN SALGAM SUYU 2000 ML ACISIZ: %0.00\n",
            "TAMEK MEYVE SUYU 1 LT ELMA % 100: %0.00\n",
            "PRENSES TOZ SEKER 500 GR SILINDIR: %0.00\n",
            "DOGUS BLACK LABEL 100AD. DEMLIK: %0.01\n",
            "DOGADAN YESIL CAY CHAL 20'LI: %0.00\n",
            "DOGUS SARI KANTARONLU MELISA 20'LI: %0.01\n",
            "LIPTON ICE TEA 1 LT SEFTALI: %0.02\n",
            "NESCAFE 3 IN 1 ARADA SUTLU 7 LI: %0.09\n",
            "SHAZILI CAPPUCCİNO ŞEKERSİZ 10,5GR: %0.01\n",
            "NESCAFE GOLD BLEND 200 GR.: %0.01\n",
            "AKDEM ELMA CAYI 20LI: %0.00\n",
            "FERSAN SALGAM SUYU 330 ML ACISIZ: %0.00\n",
            "NESCAFE GOLD BLEND 50 GR KAVANOZ: %0.03\n",
            "YEDIGUN 250 ML CAM KAN PORTAKALI: %0.00\n",
            "DOGUS FORM TEA 20 POSET MAYDANOZLU LIMONLU: %0.01\n",
            "DOGADAN FORM KIRAZ SAPI 20LI: %0.00\n",
            "DOGUS KARADENIZ CAY DEMLIK 100'LU BERGAMOTLU: %0.01\n",
            "AKDEM SINEMAKI CAYI 20LI: %0.01\n",
            "LIPTON EARL GREY TEA 1000GR.: %0.01\n",
            "GOKCE TOZ ICECEK 170 GR LIMON: %0.00\n",
            "AKDEM BOGURTLEN CAYI 20LI: %0.01\n",
            "LIPTON TB 30GR PAPATYA CAMOMİLE 20LI: %0.01\n",
            "DOGADAN FORM LIMONLU 250 ML: %0.00\n",
            "DOGADAN EARL GREY 48LI DEMLIK POSET CAY: %0.00\n",
            "AKDEM PAPATYA CAYI 20LI: %0.00\n",
            "SIGMA SU BARDAGI 6'LI DAMLA DESEN: %0.00\n",
            "PRENSES KAHVERENGI TOZ SEKER 500 GR SILINDIR: %0.00\n",
            "PINAR M.SUYU 6*200 ML SEFTALI: %0.00\n",
            "DOGADAN FORM MISIR PUSKULLU20'LI: %0.01\n",
            "TAMEK MEYVE SUYU 330 ML KARISIK: %0.01\n",
            "AKDEM ZENCEFIL CAYI 20LI: %0.00\n",
            "HALK M. SUYU 200ML YENI SEFTALI: %0.03\n",
            "GOKCE TOZ ICECEK 350 GR LIMON: %0.00\n",
            "REDBULL ENERJI ICECEGI 355ML.: %0.02\n",
            "NAZO TOZ ICECEK SEFTALI: %0.03\n",
            "K.KUKRER 1LT.LİMON SURUBU: %0.00\n",
            "NESCAFE CLASSIC 200 GR.: %0.01\n",
            "LIPTON TB 40GR KIS CAYI EKINEZYA 20LI: %0.01\n",
            "LIPTON TB PLUS ERIK TARCIN 20 LI: %0.01\n",
            "CARDAK SEFTALI SUYU 1 LT: %0.00\n",
            "CARDAK PORTAKAL SUYU 2LT=12LT: %0.00\n",
            "CARDAK LIMON SUYU 2LT=12LT: %0.00\n",
            "DOGADAN GIZLI BAHCE 100 LU DEMLIK: %0.01\n",
            "DOGUS EARL GREY 100X2 SUZEN SIYAH POSET CAY: %0.01\n",
            "GOKCE TOZ ICECEK 350 GR ELMA: %0.00\n",
            "LIPTON GOLDEN CEYLON TEA 48 AD DEMLIK: %0.00\n",
            "DOGADAN AYVALI IHLAMUR 20'LI POSET: %0.00\n",
            "LIPTON GOLDEN CEYLON TEA 100'LU BARDAK POSET: %0.00\n",
            "LIPTON TB FORM PLUS LIMON 20 LI: %0.01\n",
            "DOGADAN PAPATYA CAYI 20 POSET: %0.00\n",
            "LIPTON TB 30GR ADACAYI 20LI: %0.01\n",
            "EVCAY ADACAYI 20 POSET: %0.00\n",
            "AKDEM MEYAN KOKU CAYI 20LI: %0.00\n",
            "LIPTON TB 40GR FORM PLUS 20LI: %0.00\n",
            "AKDEM ADAÇAYI 40 GR: %0.01\n",
            "DOGADAN GELENEKSEL KARADENIZ CAYI 500GR: %0.00\n",
            "YEDIGUN 1 LT BODRUM MANDALİNA PET SISE: %0.01\n",
            "AKDEM IHLAMUR CAYI 20LI: %0.01\n",
            "CAFE CROWN 3 IN 1 KUPA HEDIYELI: %0.00\n",
            "DOGUS FİLİZ ÇAY 1000 GR: %0.00\n",
            "DOGUS YESILCAY 20LI CILEK: %0.01\n",
            "AKDEM NEZLE 70 GR: %0.00\n",
            "AKDEM KARABAŞ 50 GR: %0.00\n",
            "DOGADAN GELENEKSEL KARADENİZ 48 DEMLİK ÇAY: %0.00\n",
            "CARDAK NAR SUYU 2LT=12LT: %0.00\n",
            "PINAR M.SUYU 6*200 ML KAYISI: %0.08\n",
            "AYTAC MEYVE SUYU PORTAKAL 1 LT: %0.00\n",
            "TAT TEDİ 200 ML. HAVUC+KAYISI+ELMA: %0.02\n",
            "ULKER FLORES VISNELI SODA 200 ML 6'LI: %0.00\n",
            "LIPTON EARL GREY TEA 100 AD BARDAK: %0.01\n",
            "NAZO TOZ ICECEK LIMON: %0.03\n",
            "LIPTON ILK HASAT CAY 500 GR.: %0.01\n",
            "AKDEM ZENCEFİL TOZ 100GR: %0.01\n",
            "AKDEM ZERDECAL TANE: %0.00\n",
            "DOGUS KARADENIZ POSET 100'LU BERGAMOTLU: %0.02\n",
            "LIPTON Y.LABEL 2 AD ALANA CAM DEMLIK HEDIYE: %0.00\n",
            "ALTIN CEZVE GOLD COFFEE 100 GR KAVANOZ: %0.00\n",
            "NESCAFE CLASSIC EKO+C.MATE 200 GR HED: %0.01\n",
            "AKDEM HARNUP OZU KECIBOYNUZU: %0.00\n",
            "LIPTON PIRAMIT YESIL CAY LIMONLU MELISALI 20'LI: %0.01\n",
            "AKDEM HATMİ ÇİÇEĞİ 50 GR: %0.00\n",
            "DOGADAN YESIL CAY NANE LIMON: %0.01\n",
            "JACOBS NIGHT&DAY KAFEINSIZ 250: %0.00\n",
            "FERSAN SALGAM SUYU 1000 ML ACILI: %0.00\n",
            "LIPTON TB 52GR ELMA: %0.01\n",
            "REDBULL ENERJI ICECEGI 473ML.: %0.01\n",
            "YEDIGUN 250 ML CAM AMASYA RUZGARI: %0.01\n",
            "SIGMA SU BARDAGI 6'LI ISTANBUL: %0.00\n",
            "ULKER GRANINI NEKTARI KARISIK 1KG: %0.01\n",
            "ELITE NATUREL 200 ML KIZILCIK: %0.00\n",
            "ELITE NATUREL 200 ML VISNE : %0.00\n",
            "KONYA SEKER NAYLON TORBA 3 KG: %0.00\n",
            "ICIM M.SUYU 330ML PORTAKAL: %0.00\n",
            "DIMES 1 LT LIMONATA SEKERSIZ: %0.00\n",
            "YEDIGUN 250 ML CAM LIMONETTO: %0.01\n",
            "LİPTON BERRAK YEŞİL ÇAY SADE 20LI: %0.01\n",
            "ELITE NATUREL 200 ML NAR SUYU: %0.00\n",
            "ALTIN CEZVE KARADUT 300GR: %0.00\n",
            "CAPPY M.SUYU 200ML %100 ELMA: %0.01\n",
            "DOGADAN LIMON ZENCEFIL 250 ML: %0.00\n",
            "DIMES 1 LT BUZZ LIMONATA TETRA PAK: %0.00\n",
            "ULUDAG PORTAKAL KUTU 330 ML.: %0.00\n",
            "YEDIGUN 250 ML CAM MANDALINA: %0.01\n",
            "DOGUS KARADENIZ 100+100 DEMLIK HED.: %0.00\n",
            "TAMEK MEYVE SUYU 330 ML PORTAKAL: %0.00\n",
            "REDBULL SEKERSIZ ENERJI ICECEGI 250 ML.: %0.00\n",
            "ICIM M.SUYU 330ML SEFTALI NEKTARI: %0.01\n",
            "TAT TEDİ 200 ML. HAVUC+ELMA+ANANANS+MANGO: %0.02\n",
            "ULKER GRANINI NEKTARI MEYVE 1KG: %0.01\n",
            "DOGADAN GELENEKSEL KARADENİZ 100 BARDAK ÇAY: %0.00\n",
            "EVCAY YESIL CAY 20 POSET: %0.00\n",
            "DOGADAN TARCIN&KARANFIL CAYI 20 POSET: %0.00\n",
            "EVCAY IHLAMUR CAYI 20 POSET: %0.00\n",
            "TAMEK MEYVE SUYU 330 ML KAYISI: %0.01\n",
            "DIMES 1LT %100 MEYVE SUYU UZUM: %0.01\n",
            "LIPTON GOLDEN CEYLON TEA 500 GR: %0.00\n",
            "AKDEM KEKIK CAYI: %0.00\n",
            "AKDEM EKİNAZYA CAYI 20LI: %0.01\n",
            "GOKCE TOZ ICECEK 170 GR ELMA: %0.00\n",
            "DOGUS MEYVE CAYI ELMA 20 LI POSET: %0.00\n",
            "YEDIGUN 1 LT. ANTALYA GUNESI KAN PORTAKALI: %0.00\n",
            "AKDEM SİNEMAKİ 50GR: %0.00\n",
            "DOGADAN NANE-LIMON CAYI 20 POSET: %0.00\n",
            "COCA COLA ZERO  2,5 LT. EKO BOY: %0.01\n",
            "DAMLA MİNERA SODA 200ML: %0.00\n",
            "LIPTON TB YESIL CAY SADE 20 LI BARDAK HED.: %0.03\n",
            "AKDEM SARIMSAK  CAYI 40 LI: %0.01\n",
            "LIPTON GOLDEN CEYLON 25LI POSET CAY: %0.01\n",
            "COCA COLA 1 LT. PET SISE KAMPANYA: %0.20\n",
            "MILUPA KARISIK BITKI CAYI 200GR: %0.00\n",
            "PEPSI 1 LT : %0.00\n",
            "AKDEM TARCIN TOZ  75 GR: %0.01\n",
            "NESCAFE MOCHA 13,5 GR: %0.05\n",
            "JACOBS MONARCH GOLD 100 GR.CAM KAVANOZ: %0.00\n",
            "SHAZILI CAPPUCCİNO KUTU BARDAK HED ŞEKERSİZ 126GR: %0.00\n",
            "DOGADAN OZEL GUNLER 20'LI: %0.00\n",
            "ULKER FLORES ANANAS SODA 200 ML 6'LI: %0.00\n",
            "ULKER FLORES ÇİLEKLİ SODA 200 ML 6'LI: %0.00\n",
            "YEDIGUN 2,5 LT.PORTAKAL-MANDAL: %0.01\n",
            "COCA COLA 200 ML KUTU: %0.01\n",
            "DOGADAN 7 OTLU CAY 20'LI POSET: %0.00\n",
            "EVCAY NANE&LIMON POSET 20: %0.00\n",
            "K.KUKRER SALGAM SUYU 1LT ACILI: %0.00\n",
            "PRENSES IKILI SARMA KUP SEKER 750GR: %0.01\n",
            "DOGADAN UZUM CEKIRDEGI MURDUM ERIKLI: %0.00\n",
            "DOGADAN BOGURTLEN CAYI 20 POSET: %0.00\n",
            "AKDEM LAVANTA ÇİÇEĞİ 60 GR: %0.01\n",
            "AKDEM DEFNE40 GR: %0.00\n",
            "ULKER FLORES LİMON SODA 200 ML 6'LI: %0.00\n",
            "AKDEM KUSBURNU MEYVESI 100 GR: %0.00\n",
            "EVCAY KANTARON CAYI 20 POSET: %0.00\n",
            "DOGUS KEYF I DEM CAYI 500 GR: %0.00\n",
            "DOGADAN MELISA CAYI 20 LI: %0.00\n",
            "DOGADAN YESIL CAY BALLI 20 SUZEN CAY: %0.00\n",
            "ULUDAG FRUTTI EXTRA MANDALINALI 250*6'LI: %0.00\n",
            "MILUPA KUSBURNU CAYI 200 GR: %0.00\n",
            "ULKER FLORES ELMA SODA 200 ML: %0.00\n",
            "ULKER FLORES ÇİLEK SODA 200 ML: %0.00\n",
            "EVCAY ISIRGAN TOHUMU 100GR: %0.00\n",
            "EVCAY CİVAN PERÇEMİ POSET 25 GR: %0.00\n",
            "LIPTON TB NAR 40GR 20LI: %0.00\n",
            "K.KUKRER SALGAM SUYU 1LT ACISIZ: %0.00\n",
            "GOKCE TOZ ICECEK 170 GR VISNE: %0.00\n",
            "ULKER GRANINI NEKTARI PORTAKAL 1KG: %0.00\n",
            "LIPTON ENGLISH KAHVALTI 25 LI POSET CAY: %0.01\n",
            "AKDEM ASLAN PENÇESİ 30 GR: %0.00\n",
            "EVCAY MAYIS PAPATYA CAYI 25 GR: %0.00\n",
            "AKDEM ISIRGAN CICEGI CAYI20ADE: %0.00\n",
            "AKDEM REZENE 100 GR: %0.00\n",
            "DOGADAN GELENEKSEL KARADENİZ 100 DEMLİK ÇAY: %0.00\n",
            "COCA COLA PET SISE 1LT.*4: %0.00\n",
            "AKDEM GİNKGO BİLOBA CAYI 20LI: %0.00\n",
            "LIPTON ICE TEA 1 LT LIMON: %0.00\n",
            "AKDEM KIRKKİLİT 25 GR: %0.00\n",
            "DOGUS BLACK LABEL 100*2 AD. DEMLIK TNK HEDIYELI: %0.00\n",
            "SHAZILI SICAK CIKOLATA 12'LI PAKET: %0.00\n",
            "LIPTON GUNEY DOGU EFSANESI 20 LI : %0.00\n",
            "LIPTON  AKDENIZ YOLCULUGU  20 LI : %0.00\n",
            "DOGADAN MATE NANELI BITKI CAYI: %0.00\n",
            "AKDEM KUSBURNU CAYI 100 GR: %0.00\n",
            "JACOBS CRONAT GOLD 100 GR: %0.00\n",
            "EVCAY ISIRGAN CAYI 20 LI: %0.00\n",
            "EVCAY TROPIK MEYVE CAYI 100 GR.: %0.00\n",
            "GOKCE TOZ ICECEK 350 GR KUSBURNU: %0.00\n",
            "AKDEM PAPATYA 50 GR SEFFAF: %0.00\n",
            "LIPTON SIYAH INCI 100 LU DEMLIK: %0.00\n",
            "AKDEM HIBISKUS 100 GR: %0.00\n",
            "EVCAY IKUSBURNU MEYVE CAYI 100 GR: %0.00\n",
            "EVCAY NAR CAYI 100 GR.: %0.00\n",
            "LIPTON SIYAH INCI 48 LI DEMLIK: %0.00\n",
            "AKDEM GINSENG KOKU 20'LI : %0.00\n",
            "EVCAY IHLAMUR CICEGI 50 GR: %0.00\n",
            "AKDEM PAPATYA 50 GR: %0.00\n",
            "BALKUPU HARMAN CAYI 500 GR: %0.00\n",
            "FANTA PORTAKAL 500 ML: %0.01\n",
            "EVCAY BESI BIRA ARADA 25'LI: %0.00\n",
            "AKDEM NAR CAYI 100 GR: %0.00\n",
            "DOGADAN ZENCEFİL LİMON KABUKLU 20'LI POSET: %0.00\n",
            "EVCAY YESIL CAY YAPRAGI 50 GR: %0.00\n",
            "EVCAY ISIRGAN YAPRAGI 50GR.: %0.00\n",
            "EVCAY MELİSA YAPRAĞI POSET 25 GR: %0.00\n",
            "TAMEK MEYVE SUYU 1 LT KUTU PORT.: %0.00\n",
            "ULKER ORANJ 330 ML PORTAKAL PARCACIKLI: %0.00\n",
            "CAPPY MEYVE TANEM 1 LT: %0.00\n",
            "DOGADAN ADACAYI 20 POŞET: %0.00\n",
            "ULKER GRANINI NEKTARI KIRMIZI MEYVELER 1KG: %0.00\n",
            "AKDEM KETEN TOHUMU 100 GR. : %0.00\n",
            "DOGADAN ELMA CAYI 20 POSET: %0.00\n",
            "EVCAY ZENCEFIL CAYI 25 POSET: %0.00\n",
            "CARDAK KAYISI 1+5: %0.00\n"
          ]
        }
      ],
      "source": [
        "# Kategori isimlerini yazdır\n",
        "kategori_isimleri = data['CATEGORY_NAME1'].unique()\n",
        "print(\"Kategori İsimleri:\")\n",
        "print(kategori_isimleri)\n",
        "\n",
        "secilen_kategori = kategori_isimleri[0]\n",
        "# Seçilen kategoriye ait alt ürünleri bulalım\n",
        "secilen_kategori_alt_urunler = data[data['CATEGORY_NAME1'] == secilen_kategori]['URUN_ADI'].unique()\n",
        "\n",
        "# Seçilen kategoriye ait ürünlerin toplam satış miktarını bulalım\n",
        "secilen_kategori_toplam_satis = data[data['CATEGORY_NAME1'] == secilen_kategori]['AMOUNT'].sum()\n",
        "\n",
        "# Her bir alt ürünün satış yüzdesini hesaplayalım\n",
        "for alt_urun in secilen_kategori_alt_urunler:\n",
        "    alt_urun_satis = data[(data['CATEGORY_NAME1'] == secilen_kategori) & (data['URUN_ADI'] == alt_urun)]['AMOUNT'].sum()\n",
        "    satis_yuzdesi = (alt_urun_satis / secilen_kategori_toplam_satis) * 100\n",
        "    print(f\"{alt_urun}: %{satis_yuzdesi:.2f}\")"
      ]
    },
    {
      "cell_type": "code",
      "source": [
        "\n",
        "# Seçilen kategori adını ve satış yüzdelerini saklayacak bir sözlük oluşturalım\n",
        "kategori_satis_yuzdeleri = {}\n",
        "\n",
        "# Bir kategori seçelim (örneğin ilk kategori)\n",
        "secilen_kategori = data['CATEGORY_NAME1'].unique()[0]\n",
        "\n",
        "# Seçilen kategoriye ait ürünlerin toplam satış miktarını bulalım\n",
        "secilen_kategori_toplam_satis = data[data['CATEGORY_NAME1'] == secilen_kategori]['AMOUNT'].sum()\n",
        "\n",
        "# Her bir alt ürünün satış yüzdesini hesaplayalım ve sözlüğe ekleyelim\n",
        "for alt_urun in secilen_kategori_alt_urunler:\n",
        "    alt_urun_satis = data[(data['CATEGORY_NAME1'] == secilen_kategori) & (data['URUN_ADI'] == alt_urun)]['AMOUNT'].sum()\n",
        "    satis_yuzdesi = (alt_urun_satis / secilen_kategori_toplam_satis) * 100\n",
        "    kategori_satis_yuzdeleri[alt_urun] = satis_yuzdesi\n",
        "\n",
        "# Satış yüzdelerine göre sözlüğü azalan sırada sıralayalım\n",
        "kategori_satis_yuzdeleri_sirali = sorted(kategori_satis_yuzdeleri.items(), key=lambda x: x[1], reverse=True)\n",
        "\n",
        "# İlk 5 kategoriyi seçelim\n",
        "en_yuksek_yuzdeye_sahip_kategoriler = kategori_satis_yuzdeleri_sirali[:5]\n",
        "\n",
        "# Sonuçları yazdıralım\n",
        "print(\"En Yüksek Yüzdeye Sahip Olan 5 Kategori:\")\n",
        "for kategori, yuzde in en_yuksek_yuzdeye_sahip_kategoriler:\n",
        "    print(f\"{kategori}: %{yuzde:.2f}\")"
      ],
      "metadata": {
        "colab": {
          "base_uri": "https://localhost:8080/"
        },
        "id": "uCk899iQ0Ot4",
        "outputId": "7f113e7f-7819-4a10-c86e-a10128172117"
      },
      "execution_count": 71,
      "outputs": [
        {
          "output_type": "stream",
          "name": "stdout",
          "text": [
            "En Yüksek Yüzdeye Sahip Olan 5 Kategori:\n",
            "TOZ SEKER: %14.20\n",
            "NESCAFE 3 IN 1 ARADA 18 GR: %10.22\n",
            "ERIKLI DOGAL MEMBA SU 500ML: %3.24\n",
            "BEYPAZARI SODA TEKLİ 20 CC: %2.98\n",
            "PASAKOY AYRAN 200GR: %2.04\n"
          ]
        }
      ]
    }
  ],
  "metadata": {
    "kernelspec": {
      "display_name": "Python 3",
      "name": "python3"
    },
    "language_info": {
      "codemirror_mode": {
        "name": "ipython",
        "version": 3
      },
      "file_extension": ".py",
      "mimetype": "text/x-python",
      "name": "python",
      "nbconvert_exporter": "python",
      "pygments_lexer": "ipython3",
      "version": "3.9.7"
    },
    "colab": {
      "provenance": [],
      "machine_shape": "hm"
    },
    "accelerator": "TPU"
  },
  "nbformat": 4,
  "nbformat_minor": 0
}