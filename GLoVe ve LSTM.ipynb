{
 "cells": [
  {
   "cell_type": "code",
   "execution_count": null,
   "id": "e2c836ac",
   "metadata": {
    "execution": {
     "iopub.execute_input": "2023-08-23T07:18:21.554265Z",
     "iopub.status.busy": "2023-08-23T07:18:21.553732Z",
     "iopub.status.idle": "2023-08-23T07:18:33.955108Z",
     "shell.execute_reply": "2023-08-23T07:18:33.953845Z"
    },
    "papermill": {
     "duration": 12.422388,
     "end_time": "2023-08-23T07:18:33.958516",
     "exception": false,
     "start_time": "2023-08-23T07:18:21.536128",
     "status": "completed"
    },
    "tags": []
   },
   "outputs": [],
   "source": [
    "import pandas as pd\n",
    "import numpy as np\n",
    "import re\n",
    "from wordcloud import WordCloud, STOPWORDS\n",
    "import matplotlib.pyplot as plt\n",
    "import pandas as pd\n",
    "from sklearn.feature_extraction.text import TfidfVectorizer\n",
    "from sklearn.model_selection import train_test_split\n",
    "from sklearn.naive_bayes import MultinomialNB\n",
    "from sklearn.ensemble import RandomForestClassifier\n",
    "from sklearn.metrics import accuracy_score, confusion_matrix\n",
    "from sklearn.model_selection import GridSearchCV\n",
    "import tensorflow as tf\n",
    "import nltk \n",
    "nltk.download('stopwords')\n",
    "from nltk.corpus import stopwords\n",
    "from nltk.stem import SnowballStemmer\n",
    "from sklearn.preprocessing import LabelEncoder\n",
    "import re\n",
    "print(\"Tensorflow Version\",tf.__version__)"
   ]
  },
  {
   "cell_type": "code",
   "execution_count": 2,
   "id": "fa96a4b9",
   "metadata": {
    "execution": {
     "iopub.execute_input": "2023-08-23T07:18:33.995637Z",
     "iopub.status.busy": "2023-08-23T07:18:33.994152Z",
     "iopub.status.idle": "2023-08-23T07:18:34.000018Z",
     "shell.execute_reply": "2023-08-23T07:18:33.998959Z"
    },
    "papermill": {
     "duration": 0.026312,
     "end_time": "2023-08-23T07:18:34.002621",
     "exception": false,
     "start_time": "2023-08-23T07:18:33.976309",
     "status": "completed"
    },
    "tags": []
   },
   "outputs": [],
   "source": [
    "usecols_train=['text','target']\n",
    "usecols_test=['id','text']"
   ]
  },
  {
   "cell_type": "code",
   "execution_count": 3,
   "id": "e8620324",
   "metadata": {
    "execution": {
     "iopub.execute_input": "2023-08-23T07:18:34.037535Z",
     "iopub.status.busy": "2023-08-23T07:18:34.037109Z",
     "iopub.status.idle": "2023-08-23T07:18:34.118500Z",
     "shell.execute_reply": "2023-08-23T07:18:34.117200Z"
    },
    "papermill": {
     "duration": 0.101237,
     "end_time": "2023-08-23T07:18:34.121381",
     "exception": false,
     "start_time": "2023-08-23T07:18:34.020144",
     "status": "completed"
    },
    "tags": []
   },
   "outputs": [],
   "source": [
    "df_train=pd.read_csv(\"train.csv\",usecols=usecols_train,encoding='cp437')\n",
    "df_test=pd.read_csv(\"test.csv\",usecols=usecols_test)"
   ]
  },
  {
   "cell_type": "code",
   "execution_count": 4,
   "id": "c2e6ed5b",
   "metadata": {
    "execution": {
     "iopub.execute_input": "2023-08-23T07:18:34.154692Z",
     "iopub.status.busy": "2023-08-23T07:18:34.154232Z",
     "iopub.status.idle": "2023-08-23T07:18:34.174610Z",
     "shell.execute_reply": "2023-08-23T07:18:34.173356Z"
    },
    "papermill": {
     "duration": 0.041117,
     "end_time": "2023-08-23T07:18:34.178192",
     "exception": false,
     "start_time": "2023-08-23T07:18:34.137075",
     "status": "completed"
    },
    "tags": []
   },
   "outputs": [
    {
     "data": {
      "text/plain": [
       "0    4342\n",
       "1    3271\n",
       "Name: target, dtype: int64"
      ]
     },
     "execution_count": 4,
     "metadata": {},
     "output_type": "execute_result"
    }
   ],
   "source": [
    "df_train['target'].value_counts()"
   ]
  },
  {
   "cell_type": "code",
   "execution_count": 5,
   "id": "a17c9759",
   "metadata": {
    "execution": {
     "iopub.execute_input": "2023-08-23T07:18:34.212000Z",
     "iopub.status.busy": "2023-08-23T07:18:34.211487Z",
     "iopub.status.idle": "2023-08-23T07:18:34.232873Z",
     "shell.execute_reply": "2023-08-23T07:18:34.231687Z"
    },
    "papermill": {
     "duration": 0.041426,
     "end_time": "2023-08-23T07:18:34.235600",
     "exception": false,
     "start_time": "2023-08-23T07:18:34.194174",
     "status": "completed"
    },
    "tags": []
   },
   "outputs": [
    {
     "data": {
      "text/html": [
       "<div>\n",
       "<style scoped>\n",
       "    .dataframe tbody tr th:only-of-type {\n",
       "        vertical-align: middle;\n",
       "    }\n",
       "\n",
       "    .dataframe tbody tr th {\n",
       "        vertical-align: top;\n",
       "    }\n",
       "\n",
       "    .dataframe thead th {\n",
       "        text-align: right;\n",
       "    }\n",
       "</style>\n",
       "<table border=\"1\" class=\"dataframe\">\n",
       "  <thead>\n",
       "    <tr style=\"text-align: right;\">\n",
       "      <th></th>\n",
       "      <th>text</th>\n",
       "      <th>target</th>\n",
       "    </tr>\n",
       "  </thead>\n",
       "  <tbody>\n",
       "    <tr>\n",
       "      <th>0</th>\n",
       "      <td>Our Deeds are the Reason of this #earthquake M...</td>\n",
       "      <td>Disaster</td>\n",
       "    </tr>\n",
       "    <tr>\n",
       "      <th>1</th>\n",
       "      <td>Forest fire near La Ronge Sask. Canada</td>\n",
       "      <td>Disaster</td>\n",
       "    </tr>\n",
       "    <tr>\n",
       "      <th>2</th>\n",
       "      <td>All residents asked to 'shelter in place' are ...</td>\n",
       "      <td>Disaster</td>\n",
       "    </tr>\n",
       "    <tr>\n",
       "      <th>3</th>\n",
       "      <td>13,000 people receive #wildfires evacuation or...</td>\n",
       "      <td>Disaster</td>\n",
       "    </tr>\n",
       "    <tr>\n",
       "      <th>4</th>\n",
       "      <td>Just got sent this photo from Ruby #Alaska as ...</td>\n",
       "      <td>Disaster</td>\n",
       "    </tr>\n",
       "  </tbody>\n",
       "</table>\n",
       "</div>"
      ],
      "text/plain": [
       "                                                text    target\n",
       "0  Our Deeds are the Reason of this #earthquake M...  Disaster\n",
       "1             Forest fire near La Ronge Sask. Canada  Disaster\n",
       "2  All residents asked to 'shelter in place' are ...  Disaster\n",
       "3  13,000 people receive #wildfires evacuation or...  Disaster\n",
       "4  Just got sent this photo from Ruby #Alaska as ...  Disaster"
      ]
     },
     "execution_count": 5,
     "metadata": {},
     "output_type": "execute_result"
    }
   ],
   "source": [
    "lab_to_sentiment = {0:\"Non Disaster\", 1:\"Disaster\"}\n",
    "def label_decoder(label):\n",
    "    return lab_to_sentiment[label]\n",
    "df_train.target = df_train.target.apply(lambda x: label_decoder(x))\n",
    "df_train.head()"
   ]
  },
  {
   "cell_type": "code",
   "execution_count": 6,
   "id": "5de35db8",
   "metadata": {
    "execution": {
     "iopub.execute_input": "2023-08-23T07:18:34.270278Z",
     "iopub.status.busy": "2023-08-23T07:18:34.269416Z",
     "iopub.status.idle": "2023-08-23T07:18:34.276859Z",
     "shell.execute_reply": "2023-08-23T07:18:34.275841Z"
    },
    "papermill": {
     "duration": 0.02777,
     "end_time": "2023-08-23T07:18:34.279442",
     "exception": false,
     "start_time": "2023-08-23T07:18:34.251672",
     "status": "completed"
    },
    "tags": []
   },
   "outputs": [
    {
     "data": {
      "text/plain": [
       "(3263, 2)"
      ]
     },
     "execution_count": 6,
     "metadata": {},
     "output_type": "execute_result"
    }
   ],
   "source": [
    "df_test.shape"
   ]
  },
  {
   "cell_type": "code",
   "execution_count": 7,
   "id": "8be010e7",
   "metadata": {
    "execution": {
     "iopub.execute_input": "2023-08-23T07:18:34.315713Z",
     "iopub.status.busy": "2023-08-23T07:18:34.314762Z",
     "iopub.status.idle": "2023-08-23T07:18:34.610651Z",
     "shell.execute_reply": "2023-08-23T07:18:34.609539Z"
    },
    "papermill": {
     "duration": 0.316775,
     "end_time": "2023-08-23T07:18:34.613413",
     "exception": false,
     "start_time": "2023-08-23T07:18:34.296638",
     "status": "completed"
    },
    "scrolled": true,
    "tags": []
   },
   "outputs": [
    {
     "data": {
      "text/plain": [
       "Text(0.5, 1.0, 'Sentiment Data Distribution')"
      ]
     },
     "execution_count": 7,
     "metadata": {},
     "output_type": "execute_result"
    },
    {
     "data": {
      "image/png": "[encoded data removed]",
      "text/plain": [
       "<Figure size 800x400 with 1 Axes>"
      ]
     },
     "metadata": {},
     "output_type": "display_data"
    }
   ],
   "source": [
    "val_count = df_train.target.value_counts()\n",
    "\n",
    "plt.figure(figsize=(8,4))\n",
    "plt.bar(val_count.index, val_count.values)\n",
    "plt.title(\"Sentiment Data Distribution\")"
   ]
  },
  {
   "cell_type": "code",
   "execution_count": 8,
   "id": "5da523d7",
   "metadata": {
    "execution": {
     "iopub.execute_input": "2023-08-23T07:18:34.649065Z",
     "iopub.status.busy": "2023-08-23T07:18:34.648619Z",
     "iopub.status.idle": "2023-08-23T07:18:34.665755Z",
     "shell.execute_reply": "2023-08-23T07:18:34.664236Z"
    },
    "papermill": {
     "duration": 0.038408,
     "end_time": "2023-08-23T07:18:34.668477",
     "exception": false,
     "start_time": "2023-08-23T07:18:34.630069",
     "status": "completed"
    },
    "tags": []
   },
   "outputs": [
    {
     "data": {
      "text/html": [
       "<div>\n",
       "<style scoped>\n",
       "    .dataframe tbody tr th:only-of-type {\n",
       "        vertical-align: middle;\n",
       "    }\n",
       "\n",
       "    .dataframe tbody tr th {\n",
       "        vertical-align: top;\n",
       "    }\n",
       "\n",
       "    .dataframe thead th {\n",
       "        text-align: right;\n",
       "    }\n",
       "</style>\n",
       "<table border=\"1\" class=\"dataframe\">\n",
       "  <thead>\n",
       "    <tr style=\"text-align: right;\">\n",
       "      <th></th>\n",
       "      <th>text</th>\n",
       "      <th>target</th>\n",
       "    </tr>\n",
       "  </thead>\n",
       "  <tbody>\n",
       "    <tr>\n",
       "      <th>1953</th>\n",
       "      <td>@mccauleysdesign @abysmaljoiner @DyamiPlotke i...</td>\n",
       "      <td>Non Disaster</td>\n",
       "    </tr>\n",
       "    <tr>\n",
       "      <th>2712</th>\n",
       "      <td>Ignition Knock (Detonation) Sensor-Senso Stand...</td>\n",
       "      <td>Non Disaster</td>\n",
       "    </tr>\n",
       "    <tr>\n",
       "      <th>3597</th>\n",
       "      <td>11-Year-Old Boy Charged With Manslaughter of T...</td>\n",
       "      <td>Disaster</td>\n",
       "    </tr>\n",
       "    <tr>\n",
       "      <th>3443</th>\n",
       "      <td>Well as I was chaning an iPad screen it fuckin...</td>\n",
       "      <td>Non Disaster</td>\n",
       "    </tr>\n",
       "    <tr>\n",
       "      <th>4887</th>\n",
       "      <td>Colorado movie massacre trial jurors reach ver...</td>\n",
       "      <td>Disaster</td>\n",
       "    </tr>\n",
       "    <tr>\n",
       "      <th>6436</th>\n",
       "      <td>13 security personnel killed in Iraq suicide b...</td>\n",
       "      <td>Disaster</td>\n",
       "    </tr>\n",
       "    <tr>\n",
       "      <th>752</th>\n",
       "      <td>i'd still be team usagi even if she blew up th...</td>\n",
       "      <td>Non Disaster</td>\n",
       "    </tr>\n",
       "    <tr>\n",
       "      <th>3172</th>\n",
       "      <td>Our builder is having a dental emergency. Whic...</td>\n",
       "      <td>Disaster</td>\n",
       "    </tr>\n",
       "    <tr>\n",
       "      <th>6499</th>\n",
       "      <td>Hank Williams Jr. - 'Country Boys Can Survive'...</td>\n",
       "      <td>Non Disaster</td>\n",
       "    </tr>\n",
       "    <tr>\n",
       "      <th>5218</th>\n",
       "      <td>I need an arcade shooter fix but CTE is empty ...</td>\n",
       "      <td>Non Disaster</td>\n",
       "    </tr>\n",
       "  </tbody>\n",
       "</table>\n",
       "</div>"
      ],
      "text/plain": [
       "                                                   text        target\n",
       "1953  @mccauleysdesign @abysmaljoiner @DyamiPlotke i...  Non Disaster\n",
       "2712  Ignition Knock (Detonation) Sensor-Senso Stand...  Non Disaster\n",
       "3597  11-Year-Old Boy Charged With Manslaughter of T...      Disaster\n",
       "3443  Well as I was chaning an iPad screen it fuckin...  Non Disaster\n",
       "4887  Colorado movie massacre trial jurors reach ver...      Disaster\n",
       "6436  13 security personnel killed in Iraq suicide b...      Disaster\n",
       "752   i'd still be team usagi even if she blew up th...  Non Disaster\n",
       "3172  Our builder is having a dental emergency. Whic...      Disaster\n",
       "6499  Hank Williams Jr. - 'Country Boys Can Survive'...  Non Disaster\n",
       "5218  I need an arcade shooter fix but CTE is empty ...  Non Disaster"
      ]
     },
     "execution_count": 8,
     "metadata": {},
     "output_type": "execute_result"
    }
   ],
   "source": [
    "import random\n",
    "random_idx_list = [random.randint(1,len(df_train.text)) for i in range(10)] # creates random indexes to choose from dataframe\n",
    "df_train.loc[random_idx_list,:].head(10) # Returns the rows with the index and display it"
   ]
  },
  {
   "cell_type": "code",
   "execution_count": 9,
   "id": "045d889e",
   "metadata": {
    "execution": {
     "iopub.execute_input": "2023-08-23T07:18:34.705337Z",
     "iopub.status.busy": "2023-08-23T07:18:34.704130Z",
     "iopub.status.idle": "2023-08-23T07:18:34.713885Z",
     "shell.execute_reply": "2023-08-23T07:18:34.712548Z"
    },
    "papermill": {
     "duration": 0.030935,
     "end_time": "2023-08-23T07:18:34.716678",
     "exception": false,
     "start_time": "2023-08-23T07:18:34.685743",
     "status": "completed"
    },
    "tags": []
   },
   "outputs": [],
   "source": [
    "stop_words = stopwords.words('english')\n",
    "stemmer = SnowballStemmer('english')\n",
    "\n",
    "text_cleaning_re = \"@\\S+|https?:\\S+|http?:\\S|[^A-Za-z0-9]+\""
   ]
  },
  {
   "cell_type": "code",
   "execution_count": 10,
   "id": "d11ea204",
   "metadata": {
    "execution": {
     "iopub.execute_input": "2023-08-23T07:18:34.752634Z",
     "iopub.status.busy": "2023-08-23T07:18:34.752185Z",
     "iopub.status.idle": "2023-08-23T07:18:34.759899Z",
     "shell.execute_reply": "2023-08-23T07:18:34.758464Z"
    },
    "papermill": {
     "duration": 0.028934,
     "end_time": "2023-08-23T07:18:34.762523",
     "exception": false,
     "start_time": "2023-08-23T07:18:34.733589",
     "status": "completed"
    },
    "tags": []
   },
   "outputs": [],
   "source": [
    "def preprocess(text, stem=False):\n",
    "    text = re.sub(text_cleaning_re, ' ', str(text).lower()).strip()\n",
    "    tokens = []\n",
    "    for token in text.split():\n",
    "        if token not in stop_words:\n",
    "            if stem:\n",
    "                tokens.append(stemmer.stem(token))\n",
    "            else:\n",
    "                tokens.append(token)\n",
    "    return \" \".join(tokens)"
   ]
  },
  {
   "cell_type": "code",
   "execution_count": 11,
   "id": "30926bbf",
   "metadata": {
    "execution": {
     "iopub.execute_input": "2023-08-23T07:18:34.798535Z",
     "iopub.status.busy": "2023-08-23T07:18:34.798040Z",
     "iopub.status.idle": "2023-08-23T07:18:35.208595Z",
     "shell.execute_reply": "2023-08-23T07:18:35.207168Z"
    },
    "papermill": {
     "duration": 0.432057,
     "end_time": "2023-08-23T07:18:35.211792",
     "exception": false,
     "start_time": "2023-08-23T07:18:34.779735",
     "status": "completed"
    },
    "tags": []
   },
   "outputs": [],
   "source": [
    "df_train.text = df_train.text.apply(lambda x: preprocess(x))"
   ]
  },
  {
   "cell_type": "code",
   "execution_count": 12,
   "id": "30ca27ee",
   "metadata": {
    "execution": {
     "iopub.execute_input": "2023-08-23T07:18:35.248658Z",
     "iopub.status.busy": "2023-08-23T07:18:35.247463Z",
     "iopub.status.idle": "2023-08-23T07:18:35.259145Z",
     "shell.execute_reply": "2023-08-23T07:18:35.257786Z"
    },
    "papermill": {
     "duration": 0.032757,
     "end_time": "2023-08-23T07:18:35.261869",
     "exception": false,
     "start_time": "2023-08-23T07:18:35.229112",
     "status": "completed"
    },
    "tags": []
   },
   "outputs": [
    {
     "data": {
      "text/html": [
       "<div>\n",
       "<style scoped>\n",
       "    .dataframe tbody tr th:only-of-type {\n",
       "        vertical-align: middle;\n",
       "    }\n",
       "\n",
       "    .dataframe tbody tr th {\n",
       "        vertical-align: top;\n",
       "    }\n",
       "\n",
       "    .dataframe thead th {\n",
       "        text-align: right;\n",
       "    }\n",
       "</style>\n",
       "<table border=\"1\" class=\"dataframe\">\n",
       "  <thead>\n",
       "    <tr style=\"text-align: right;\">\n",
       "      <th></th>\n",
       "      <th>text</th>\n",
       "      <th>target</th>\n",
       "    </tr>\n",
       "  </thead>\n",
       "  <tbody>\n",
       "    <tr>\n",
       "      <th>0</th>\n",
       "      <td>deeds reason earthquake may allah forgive us</td>\n",
       "      <td>Disaster</td>\n",
       "    </tr>\n",
       "    <tr>\n",
       "      <th>1</th>\n",
       "      <td>forest fire near la ronge sask canada</td>\n",
       "      <td>Disaster</td>\n",
       "    </tr>\n",
       "    <tr>\n",
       "      <th>2</th>\n",
       "      <td>residents asked shelter place notified officer...</td>\n",
       "      <td>Disaster</td>\n",
       "    </tr>\n",
       "    <tr>\n",
       "      <th>3</th>\n",
       "      <td>13 000 people receive wildfires evacuation ord...</td>\n",
       "      <td>Disaster</td>\n",
       "    </tr>\n",
       "    <tr>\n",
       "      <th>4</th>\n",
       "      <td>got sent photo ruby alaska smoke wildfires pou...</td>\n",
       "      <td>Disaster</td>\n",
       "    </tr>\n",
       "  </tbody>\n",
       "</table>\n",
       "</div>"
      ],
      "text/plain": [
       "                                                text    target\n",
       "0       deeds reason earthquake may allah forgive us  Disaster\n",
       "1              forest fire near la ronge sask canada  Disaster\n",
       "2  residents asked shelter place notified officer...  Disaster\n",
       "3  13 000 people receive wildfires evacuation ord...  Disaster\n",
       "4  got sent photo ruby alaska smoke wildfires pou...  Disaster"
      ]
     },
     "execution_count": 12,
     "metadata": {},
     "output_type": "execute_result"
    }
   ],
   "source": [
    "df_train.head()"
   ]
  },
  {
   "cell_type": "code",
   "execution_count": 13,
   "id": "bc3f69b5",
   "metadata": {
    "execution": {
     "iopub.execute_input": "2023-08-23T07:18:35.298530Z",
     "iopub.status.busy": "2023-08-23T07:18:35.298125Z",
     "iopub.status.idle": "2023-08-23T07:18:35.302611Z",
     "shell.execute_reply": "2023-08-23T07:18:35.301597Z"
    },
    "papermill": {
     "duration": 0.025386,
     "end_time": "2023-08-23T07:18:35.304915",
     "exception": false,
     "start_time": "2023-08-23T07:18:35.279529",
     "status": "completed"
    },
    "tags": []
   },
   "outputs": [],
   "source": [
    "TRAIN_SIZE = 0.8\n",
    "MAX_NB_WORDS = 100000\n",
    "MAX_SEQUENCE_LENGTH = 30"
   ]
  },
  {
   "cell_type": "code",
   "execution_count": 14,
   "id": "fda5e595",
   "metadata": {
    "execution": {
     "iopub.execute_input": "2023-08-23T07:18:35.341921Z",
     "iopub.status.busy": "2023-08-23T07:18:35.341447Z",
     "iopub.status.idle": "2023-08-23T07:18:35.351599Z",
     "shell.execute_reply": "2023-08-23T07:18:35.350429Z"
    },
    "papermill": {
     "duration": 0.031953,
     "end_time": "2023-08-23T07:18:35.354523",
     "exception": false,
     "start_time": "2023-08-23T07:18:35.322570",
     "status": "completed"
    },
    "tags": []
   },
   "outputs": [
    {
     "name": "stdout",
     "output_type": "stream",
     "text": [
      "Train Data size: 6090\n",
      "Test Data size 1523\n"
     ]
    }
   ],
   "source": [
    "train_data, test_data = train_test_split(df_train, test_size=1-TRAIN_SIZE,\n",
    "                                         random_state=7) # Splits Dataset into Training and Testing set\n",
    "print(\"Train Data size:\", len(train_data))\n",
    "print(\"Test Data size\", len(test_data))"
   ]
  },
  {
   "cell_type": "code",
   "execution_count": 15,
   "id": "b8149bc5",
   "metadata": {
    "execution": {
     "iopub.execute_input": "2023-08-23T07:18:35.391169Z",
     "iopub.status.busy": "2023-08-23T07:18:35.390283Z",
     "iopub.status.idle": "2023-08-23T07:18:35.402514Z",
     "shell.execute_reply": "2023-08-23T07:18:35.401158Z"
    },
    "papermill": {
     "duration": 0.033355,
     "end_time": "2023-08-23T07:18:35.405053",
     "exception": false,
     "start_time": "2023-08-23T07:18:35.371698",
     "status": "completed"
    },
    "tags": []
   },
   "outputs": [
    {
     "data": {
      "text/html": [
       "<div>\n",
       "<style scoped>\n",
       "    .dataframe tbody tr th:only-of-type {\n",
       "        vertical-align: middle;\n",
       "    }\n",
       "\n",
       "    .dataframe tbody tr th {\n",
       "        vertical-align: top;\n",
       "    }\n",
       "\n",
       "    .dataframe thead th {\n",
       "        text-align: right;\n",
       "    }\n",
       "</style>\n",
       "<table border=\"1\" class=\"dataframe\">\n",
       "  <thead>\n",
       "    <tr style=\"text-align: right;\">\n",
       "      <th></th>\n",
       "      <th>text</th>\n",
       "      <th>target</th>\n",
       "    </tr>\n",
       "  </thead>\n",
       "  <tbody>\n",
       "    <tr>\n",
       "      <th>2346</th>\n",
       "      <td>delmont onion house purchased plans demolition</td>\n",
       "      <td>Disaster</td>\n",
       "    </tr>\n",
       "    <tr>\n",
       "      <th>1857</th>\n",
       "      <td>minute alone crush overrated experience smh</td>\n",
       "      <td>Non Disaster</td>\n",
       "    </tr>\n",
       "    <tr>\n",
       "      <th>3412</th>\n",
       "      <td>brain id explode lmao</td>\n",
       "      <td>Non Disaster</td>\n",
       "    </tr>\n",
       "    <tr>\n",
       "      <th>3581</th>\n",
       "      <td>fatal attraction common n common pain</td>\n",
       "      <td>Non Disaster</td>\n",
       "    </tr>\n",
       "    <tr>\n",
       "      <th>5538</th>\n",
       "      <td>worst radiation exposure fukushima meltdown ha...</td>\n",
       "      <td>Disaster</td>\n",
       "    </tr>\n",
       "  </tbody>\n",
       "</table>\n",
       "</div>"
      ],
      "text/plain": [
       "                                                   text        target\n",
       "2346     delmont onion house purchased plans demolition      Disaster\n",
       "1857        minute alone crush overrated experience smh  Non Disaster\n",
       "3412                              brain id explode lmao  Non Disaster\n",
       "3581              fatal attraction common n common pain  Non Disaster\n",
       "5538  worst radiation exposure fukushima meltdown ha...      Disaster"
      ]
     },
     "execution_count": 15,
     "metadata": {},
     "output_type": "execute_result"
    }
   ],
   "source": [
    "train_data.head()"
   ]
  },
  {
   "cell_type": "code",
   "execution_count": 16,
   "id": "2d28a943",
   "metadata": {
    "execution": {
     "iopub.execute_input": "2023-08-23T07:18:35.441458Z",
     "iopub.status.busy": "2023-08-23T07:18:35.441020Z",
     "iopub.status.idle": "2023-08-23T07:18:35.602340Z",
     "shell.execute_reply": "2023-08-23T07:18:35.600727Z"
    },
    "papermill": {
     "duration": 0.182848,
     "end_time": "2023-08-23T07:18:35.605187",
     "exception": false,
     "start_time": "2023-08-23T07:18:35.422339",
     "status": "completed"
    },
    "tags": []
   },
   "outputs": [
    {
     "name": "stdout",
     "output_type": "stream",
     "text": [
      "Vocabulary Size : 13710\n"
     ]
    }
   ],
   "source": [
    "from keras.preprocessing.text import Tokenizer\n",
    "\n",
    "tokenizer = Tokenizer()\n",
    "tokenizer.fit_on_texts(train_data.text)\n",
    "\n",
    "word_index = tokenizer.word_index\n",
    "vocab_size = len(tokenizer.word_index) + 1\n",
    "print(\"Vocabulary Size :\", vocab_size)"
   ]
  },
  {
   "cell_type": "code",
   "execution_count": 17,
   "id": "8df739d0",
   "metadata": {
    "execution": {
     "iopub.execute_input": "2023-08-23T07:18:35.643450Z",
     "iopub.status.busy": "2023-08-23T07:18:35.643042Z",
     "iopub.status.idle": "2023-08-23T07:18:35.914405Z",
     "shell.execute_reply": "2023-08-23T07:18:35.912264Z"
    },
    "papermill": {
     "duration": 0.293672,
     "end_time": "2023-08-23T07:18:35.917235",
     "exception": false,
     "start_time": "2023-08-23T07:18:35.623563",
     "status": "completed"
    },
    "tags": []
   },
   "outputs": [
    {
     "name": "stdout",
     "output_type": "stream",
     "text": [
      "Training X Shape: (6090, 30)\n",
      "Testing X Shape: (1523, 30)\n",
      "Val X Shape: (3263, 30)\n"
     ]
    }
   ],
   "source": [
    "#from keras_preprocessing.sequence import pad_sequences\n",
    "from keras.utils import pad_sequences\n",
    "\n",
    "x_train = pad_sequences(tokenizer.texts_to_sequences(train_data.text),\n",
    "                        maxlen = MAX_SEQUENCE_LENGTH)\n",
    "x_test = pad_sequences(tokenizer.texts_to_sequences(test_data.text),\n",
    "                       maxlen = MAX_SEQUENCE_LENGTH)\n",
    "x_val=pad_sequences(tokenizer.texts_to_sequences(df_test.text),\n",
    "                       maxlen = MAX_SEQUENCE_LENGTH)\n",
    "\n",
    "print(\"Training X Shape:\",x_train.shape)\n",
    "print(\"Testing X Shape:\",x_test.shape)\n",
    "print(\"Val X Shape:\",x_val.shape)"
   ]
  },
  {
   "cell_type": "code",
   "execution_count": 18,
   "id": "bbd09d19",
   "metadata": {
    "execution": {
     "iopub.execute_input": "2023-08-23T07:18:35.954763Z",
     "iopub.status.busy": "2023-08-23T07:18:35.954373Z",
     "iopub.status.idle": "2023-08-23T07:18:35.962863Z",
     "shell.execute_reply": "2023-08-23T07:18:35.961632Z"
    },
    "papermill": {
     "duration": 0.030226,
     "end_time": "2023-08-23T07:18:35.965388",
     "exception": false,
     "start_time": "2023-08-23T07:18:35.935162",
     "status": "completed"
    },
    "tags": []
   },
   "outputs": [],
   "source": [
    "labels = train_data.target.unique().tolist()"
   ]
  },
  {
   "cell_type": "code",
   "execution_count": 19,
   "id": "47e52447",
   "metadata": {
    "execution": {
     "iopub.execute_input": "2023-08-23T07:18:36.004083Z",
     "iopub.status.busy": "2023-08-23T07:18:36.003638Z",
     "iopub.status.idle": "2023-08-23T07:18:36.026444Z",
     "shell.execute_reply": "2023-08-23T07:18:36.025101Z"
    },
    "papermill": {
     "duration": 0.044978,
     "end_time": "2023-08-23T07:18:36.029259",
     "exception": false,
     "start_time": "2023-08-23T07:18:35.984281",
     "status": "completed"
    },
    "tags": []
   },
   "outputs": [
    {
     "name": "stdout",
     "output_type": "stream",
     "text": [
      "y_train shape: (6090, 1)\n",
      "y_test shape: (1523, 1)\n"
     ]
    }
   ],
   "source": [
    "encoder = LabelEncoder()\n",
    "encoder.fit(train_data.target.to_list())\n",
    "\n",
    "y_train = encoder.transform(train_data.target.to_list())\n",
    "y_test = encoder.transform(test_data.target.to_list())\n",
    "\n",
    "y_train = y_train.reshape(-1,1)\n",
    "y_test = y_test.reshape(-1,1)\n",
    "\n",
    "print(\"y_train shape:\", y_train.shape)\n",
    "print(\"y_test shape:\", y_test.shape)"
   ]
  },
  {
   "cell_type": "markdown",
   "id": "f22777c1",
   "metadata": {},
   "source": [
    "# gloVe"
   ]
  },
  {
   "cell_type": "code",
   "execution_count": 20,
   "id": "f0e2911d",
   "metadata": {
    "execution": {
     "iopub.execute_input": "2023-08-23T07:18:36.067003Z",
     "iopub.status.busy": "2023-08-23T07:18:36.066528Z",
     "iopub.status.idle": "2023-08-23T07:21:42.903638Z",
     "shell.execute_reply": "2023-08-23T07:21:42.902152Z"
    },
    "papermill": {
     "duration": 186.859357,
     "end_time": "2023-08-23T07:21:42.906697",
     "exception": false,
     "start_time": "2023-08-23T07:18:36.047340",
     "status": "completed"
    },
    "tags": []
   },
   "outputs": [
    {
     "name": "stdout",
     "output_type": "stream",
     "text": [
      "--2023-08-23 07:18:37--  http://nlp.stanford.edu/data/glove.6B.zip\r\n",
      "Resolving nlp.stanford.edu (nlp.stanford.edu)... 171.64.67.140\r\n",
      "Connecting to nlp.stanford.edu (nlp.stanford.edu)|171.64.67.140|:80... connected.\r\n",
      "HTTP request sent, awaiting response... 302 Found\r\n",
      "Location: https://nlp.stanford.edu/data/glove.6B.zip [following]\r\n",
      "--2023-08-23 07:18:37--  https://nlp.stanford.edu/data/glove.6B.zip\r\n",
      "Connecting to nlp.stanford.edu (nlp.stanford.edu)|171.64.67.140|:443... connected.\r\n",
      "HTTP request sent, awaiting response... 301 Moved Permanently\r\n",
      "Location: https://downloads.cs.stanford.edu/nlp/data/glove.6B.zip [following]\r\n",
      "--2023-08-23 07:18:37--  https://downloads.cs.stanford.edu/nlp/data/glove.6B.zip\r\n",
      "Resolving downloads.cs.stanford.edu (downloads.cs.stanford.edu)... 171.64.64.22\r\n",
      "Connecting to downloads.cs.stanford.edu (downloads.cs.stanford.edu)|171.64.64.22|:443... connected.\r\n",
      "HTTP request sent, awaiting response... 200 OK\r\n",
      "Length: 862182613 (822M) [application/zip]\r\n",
      "Saving to: ‘glove.6B.zip’\r\n",
      "\r\n",
      "glove.6B.zip        100%[===================>] 822.24M  5.04MB/s    in 2m 40s  \r\n",
      "\r\n",
      "2023-08-23 07:21:17 (5.12 MB/s) - ‘glove.6B.zip’ saved [862182613/862182613]\r\n",
      "\r\n",
      "Archive:  glove.6B.zip\r\n",
      "  inflating: glove.6B.50d.txt        \r\n",
      "  inflating: glove.6B.100d.txt       \r\n",
      "  inflating: glove.6B.200d.txt       \r\n",
      "  inflating: glove.6B.300d.txt       \r\n"
     ]
    }
   ],
   "source": [
    "!wget http://nlp.stanford.edu/data/glove.6B.zip\n",
    "!unzip glove.6B.zip"
   ]
  },
  {
   "cell_type": "code",
   "execution_count": 21,
   "id": "b0983e59",
   "metadata": {
    "execution": {
     "iopub.execute_input": "2023-08-23T07:21:43.087387Z",
     "iopub.status.busy": "2023-08-23T07:21:43.086934Z",
     "iopub.status.idle": "2023-08-23T07:21:43.093662Z",
     "shell.execute_reply": "2023-08-23T07:21:43.092360Z"
    },
    "papermill": {
     "duration": 0.101581,
     "end_time": "2023-08-23T07:21:43.096372",
     "exception": false,
     "start_time": "2023-08-23T07:21:42.994791",
     "status": "completed"
    },
    "tags": []
   },
   "outputs": [],
   "source": [
    "GLOVE_EMB = 'glove.6B.300d.txt'\n",
    "EMBEDDING_DIM = 300\n",
    "LR = 1e-3\n",
    "BATCH_SIZE = 1024\n",
    "EPOCHS = 10"
   ]
  },
  {
   "cell_type": "code",
   "execution_count": 22,
   "id": "bdfd5e23",
   "metadata": {
    "execution": {
     "iopub.execute_input": "2023-08-23T07:21:43.278358Z",
     "iopub.status.busy": "2023-08-23T07:21:43.277944Z",
     "iopub.status.idle": "2023-08-23T07:21:43.283393Z",
     "shell.execute_reply": "2023-08-23T07:21:43.281806Z"
    },
    "papermill": {
     "duration": 0.098693,
     "end_time": "2023-08-23T07:21:43.285992",
     "exception": false,
     "start_time": "2023-08-23T07:21:43.187299",
     "status": "completed"
    },
    "tags": []
   },
   "outputs": [],
   "source": [
    "MODEL_PATH = r'D:\\Downloads\\best_model.hdf5'"
   ]
  },
  {
   "cell_type": "code",
   "execution_count": 23,
   "id": "4f876d33",
   "metadata": {
    "execution": {
     "iopub.execute_input": "2023-08-23T07:21:43.467811Z",
     "iopub.status.busy": "2023-08-23T07:21:43.467285Z",
     "iopub.status.idle": "2023-08-23T07:21:43.476437Z",
     "shell.execute_reply": "2023-08-23T07:21:43.475100Z"
    },
    "papermill": {
     "duration": 0.101858,
     "end_time": "2023-08-23T07:21:43.479285",
     "exception": false,
     "start_time": "2023-08-23T07:21:43.377427",
     "status": "completed"
    },
    "tags": []
   },
   "outputs": [
    {
     "data": {
      "text/plain": [
       "array([[    0,     0,     0, ...,  3724,   565,   507],\n",
       "       [    0,     0,     0, ...,  5599,  1682,  1683],\n",
       "       [    0,     0,     0, ...,  2281,   218,   732],\n",
       "       ...,\n",
       "       [    0,     0,     0, ..., 13705, 13706,  3617],\n",
       "       [    0,     0,     0, ...,  2537,    63,    17],\n",
       "       [    0,     0,     0, ...,     7, 13709,  2207]], dtype=int32)"
      ]
     },
     "execution_count": 23,
     "metadata": {},
     "output_type": "execute_result"
    }
   ],
   "source": [
    "x_train"
   ]
  },
  {
   "cell_type": "code",
   "execution_count": 24,
   "id": "971d6a9e",
   "metadata": {
    "execution": {
     "iopub.execute_input": "2023-08-23T07:21:43.663305Z",
     "iopub.status.busy": "2023-08-23T07:21:43.662835Z",
     "iopub.status.idle": "2023-08-23T07:22:22.500090Z",
     "shell.execute_reply": "2023-08-23T07:22:22.498527Z"
    },
    "papermill": {
     "duration": 39.021073,
     "end_time": "2023-08-23T07:22:22.590885",
     "exception": false,
     "start_time": "2023-08-23T07:21:43.569812",
     "status": "completed"
    },
    "tags": []
   },
   "outputs": [
    {
     "name": "stdout",
     "output_type": "stream",
     "text": [
      "Found 400000 word vectors.\n"
     ]
    }
   ],
   "source": [
    "embeddings_index = {}\n",
    "\n",
    "f = open(GLOVE_EMB,encoding='cp437')\n",
    "for line in f:\n",
    "    values = line.split()\n",
    "    word = value = values[0]\n",
    "    coefs = np.asarray(values[1:], dtype='float32')\n",
    "    embeddings_index[word] = coefs\n",
    "f.close()\n",
    "\n",
    "print('Found %s word vectors.' %len(embeddings_index))"
   ]
  },
  {
   "cell_type": "code",
   "execution_count": 25,
   "id": "c5289bb1",
   "metadata": {
    "execution": {
     "iopub.execute_input": "2023-08-23T07:22:22.771512Z",
     "iopub.status.busy": "2023-08-23T07:22:22.771124Z",
     "iopub.status.idle": "2023-08-23T07:22:22.851475Z",
     "shell.execute_reply": "2023-08-23T07:22:22.850301Z"
    },
    "papermill": {
     "duration": 0.173926,
     "end_time": "2023-08-23T07:22:22.854567",
     "exception": false,
     "start_time": "2023-08-23T07:22:22.680641",
     "status": "completed"
    },
    "tags": []
   },
   "outputs": [],
   "source": [
    "embedding_matrix = np.zeros((vocab_size, EMBEDDING_DIM))\n",
    "for word, i in word_index.items():\n",
    "    embedding_vector = embeddings_index.get(word)\n",
    "    if embedding_vector is not None:\n",
    "        embedding_matrix[i] = embedding_vector"
   ]
  },
  {
   "cell_type": "code",
   "execution_count": 26,
   "id": "be1f4891",
   "metadata": {
    "execution": {
     "iopub.execute_input": "2023-08-23T07:22:23.038657Z",
     "iopub.status.busy": "2023-08-23T07:22:23.037967Z",
     "iopub.status.idle": "2023-08-23T07:22:23.067957Z",
     "shell.execute_reply": "2023-08-23T07:22:23.066744Z"
    },
    "papermill": {
     "duration": 0.125092,
     "end_time": "2023-08-23T07:22:23.070958",
     "exception": false,
     "start_time": "2023-08-23T07:22:22.945866",
     "status": "completed"
    },
    "tags": []
   },
   "outputs": [],
   "source": [
    "embedding_layer = tf.keras.layers.Embedding(vocab_size,\n",
    "                                          EMBEDDING_DIM,\n",
    "                                          weights=[embedding_matrix],\n",
    "                                          input_length=MAX_SEQUENCE_LENGTH,\n",
    "                                          trainable=False)"
   ]
  },
  {
   "cell_type": "code",
   "execution_count": 27,
   "id": "3afabd72",
   "metadata": {
    "execution": {
     "iopub.execute_input": "2023-08-23T07:22:23.253769Z",
     "iopub.status.busy": "2023-08-23T07:22:23.252809Z",
     "iopub.status.idle": "2023-08-23T07:22:23.261552Z",
     "shell.execute_reply": "2023-08-23T07:22:23.260564Z"
    },
    "papermill": {
     "duration": 0.102005,
     "end_time": "2023-08-23T07:22:23.264104",
     "exception": false,
     "start_time": "2023-08-23T07:22:23.162099",
     "status": "completed"
    },
    "tags": []
   },
   "outputs": [],
   "source": [
    "from tensorflow.keras.layers import Conv1D, Bidirectional, LSTM, Dense, Input, Dropout\n",
    "from tensorflow.keras.layers import SpatialDropout1D\n",
    "from tensorflow.keras.callbacks import ModelCheckpoint"
   ]
  },
  {
   "cell_type": "code",
   "execution_count": 28,
   "id": "bb5a5a56",
   "metadata": {
    "execution": {
     "iopub.execute_input": "2023-08-23T07:22:23.444928Z",
     "iopub.status.busy": "2023-08-23T07:22:23.444517Z",
     "iopub.status.idle": "2023-08-23T07:22:24.207098Z",
     "shell.execute_reply": "2023-08-23T07:22:24.205735Z"
    },
    "papermill": {
     "duration": 0.857408,
     "end_time": "2023-08-23T07:22:24.210806",
     "exception": false,
     "start_time": "2023-08-23T07:22:23.353398",
     "status": "completed"
    },
    "tags": []
   },
   "outputs": [],
   "source": [
    "sequence_input = Input(shape=(MAX_SEQUENCE_LENGTH,), dtype='int32')\n",
    "embedding_sequences = embedding_layer(sequence_input)\n",
    "x = SpatialDropout1D(0.2)(embedding_sequences)\n",
    "x = Conv1D(64, 5, activation='relu')(x)\n",
    "x = Bidirectional(LSTM(64, dropout=0.2, recurrent_dropout=0.2))(x)\n",
    "x = Dense(512, activation='relu')(x)\n",
    "x = Dropout(0.5)(x)\n",
    "x = Dense(512, activation='relu')(x)\n",
    "outputs = Dense(1, activation='sigmoid')(x)\n",
    "model = tf.keras.Model(sequence_input, outputs)"
   ]
  },
  {
   "cell_type": "code",
   "execution_count": 29,
   "id": "702ea883",
   "metadata": {
    "execution": {
     "iopub.execute_input": "2023-08-23T07:22:24.392565Z",
     "iopub.status.busy": "2023-08-23T07:22:24.392129Z",
     "iopub.status.idle": "2023-08-23T07:22:24.415817Z",
     "shell.execute_reply": "2023-08-23T07:22:24.414424Z"
    },
    "papermill": {
     "duration": 0.117613,
     "end_time": "2023-08-23T07:22:24.418786",
     "exception": false,
     "start_time": "2023-08-23T07:22:24.301173",
     "status": "completed"
    },
    "tags": []
   },
   "outputs": [],
   "source": [
    "from tensorflow.keras.optimizers import Adam\n",
    "from tensorflow.keras.callbacks import ReduceLROnPlateau\n",
    "\n",
    "model.compile(optimizer=Adam(learning_rate=LR), loss='binary_crossentropy',\n",
    "              metrics=['accuracy'])\n",
    "ReduceLROnPlateau = ReduceLROnPlateau(factor=0.1,\n",
    "                                     min_lr = 0.01,\n",
    "                                     monitor = 'val_loss',\n",
    "                                     verbose = 1)"
   ]
  },
  {
   "cell_type": "code",
   "execution_count": 30,
   "id": "0f98bb97",
   "metadata": {
    "execution": {
     "iopub.execute_input": "2023-08-23T07:22:24.599757Z",
     "iopub.status.busy": "2023-08-23T07:22:24.599327Z",
     "iopub.status.idle": "2023-08-23T07:22:24.605387Z",
     "shell.execute_reply": "2023-08-23T07:22:24.604317Z"
    },
    "papermill": {
     "duration": 0.099462,
     "end_time": "2023-08-23T07:22:24.607768",
     "exception": false,
     "start_time": "2023-08-23T07:22:24.508306",
     "status": "completed"
    },
    "tags": []
   },
   "outputs": [
    {
     "name": "stdout",
     "output_type": "stream",
     "text": [
      "Training on CPU...\n"
     ]
    }
   ],
   "source": [
    "print(\"Training on GPU...\") if tf.test.is_gpu_available() else print(\"Training on CPU...\")"
   ]
  },
  {
   "cell_type": "code",
   "execution_count": 31,
   "id": "583f8ae0",
   "metadata": {
    "execution": {
     "iopub.execute_input": "2023-08-23T07:22:24.789222Z",
     "iopub.status.busy": "2023-08-23T07:22:24.788368Z",
     "iopub.status.idle": "2023-08-23T07:23:19.272973Z",
     "shell.execute_reply": "2023-08-23T07:23:19.271631Z"
    },
    "papermill": {
     "duration": 54.578642,
     "end_time": "2023-08-23T07:23:19.275854",
     "exception": false,
     "start_time": "2023-08-23T07:22:24.697212",
     "status": "completed"
    },
    "tags": []
   },
   "outputs": [
    {
     "name": "stdout",
     "output_type": "stream",
     "text": [
      "Epoch 1/10\n",
      "6/6 [==============================] - 15s 998ms/step - loss: 0.6477 - accuracy: 0.6315 - val_loss: 0.5295 - val_accuracy: 0.7735 - lr: 0.0010\n",
      "Epoch 2/10\n",
      "6/6 [==============================] - 4s 748ms/step - loss: 0.5013 - accuracy: 0.7772 - val_loss: 0.5015 - val_accuracy: 0.7912 - lr: 0.0010\n",
      "Epoch 3/10\n",
      "6/6 [==============================] - 5s 767ms/step - loss: 0.4651 - accuracy: 0.7951 - val_loss: 0.4656 - val_accuracy: 0.7984 - lr: 0.0010\n",
      "Epoch 4/10\n",
      "6/6 [==============================] - 4s 733ms/step - loss: 0.4338 - accuracy: 0.8056 - val_loss: 0.4599 - val_accuracy: 0.8037 - lr: 0.0010\n",
      "Epoch 5/10\n",
      "6/6 [==============================] - 4s 738ms/step - loss: 0.4234 - accuracy: 0.8172 - val_loss: 0.4504 - val_accuracy: 0.8030 - lr: 0.0010\n",
      "Epoch 6/10\n",
      "6/6 [==============================] - 5s 813ms/step - loss: 0.3949 - accuracy: 0.8309 - val_loss: 0.4451 - val_accuracy: 0.8076 - lr: 0.0010\n",
      "Epoch 7/10\n",
      "6/6 [==============================] - 4s 714ms/step - loss: 0.3853 - accuracy: 0.8348 - val_loss: 0.4508 - val_accuracy: 0.8070 - lr: 0.0010\n",
      "Epoch 8/10\n",
      "6/6 [==============================] - 4s 729ms/step - loss: 0.3715 - accuracy: 0.8429 - val_loss: 0.4446 - val_accuracy: 0.8102 - lr: 0.0010\n",
      "Epoch 9/10\n",
      "6/6 [==============================] - 4s 714ms/step - loss: 0.3510 - accuracy: 0.8494 - val_loss: 0.4564 - val_accuracy: 0.8089 - lr: 0.0010\n",
      "Epoch 10/10\n",
      "6/6 [==============================] - 4s 725ms/step - loss: 0.3395 - accuracy: 0.8604 - val_loss: 0.4543 - val_accuracy: 0.8135 - lr: 0.0010\n"
     ]
    }
   ],
   "source": [
    "history = model.fit(x_train, y_train, batch_size=BATCH_SIZE, epochs=EPOCHS,\n",
    "                    validation_data=(x_test, y_test), callbacks=[ReduceLROnPlateau])"
   ]
  },
  {
   "cell_type": "code",
   "execution_count": 32,
   "id": "8627c709",
   "metadata": {
    "execution": {
     "iopub.execute_input": "2023-08-23T07:23:19.473932Z",
     "iopub.status.busy": "2023-08-23T07:23:19.472856Z",
     "iopub.status.idle": "2023-08-23T07:23:20.073454Z",
     "shell.execute_reply": "2023-08-23T07:23:20.072091Z"
    },
    "papermill": {
     "duration": 0.700576,
     "end_time": "2023-08-23T07:23:20.076315",
     "exception": false,
     "start_time": "2023-08-23T07:23:19.375739",
     "status": "completed"
    },
    "tags": []
   },
   "outputs": [
    {
     "data": {
      "text/plain": [
       "<matplotlib.legend.Legend at 0x7cfc871e0100>"
      ]
     },
     "execution_count": 32,
     "metadata": {},
     "output_type": "execute_result"
    },
    {
     "data": {
      "image/png": "[encoded data removed]",
      "text/plain": [
       "<Figure size 640x480 with 2 Axes>"
      ]
     },
     "metadata": {},
     "output_type": "display_data"
    }
   ],
   "source": [
    "s, (at, al) = plt.subplots(2,1)\n",
    "at.plot(history.history['accuracy'], c= 'b')\n",
    "at.plot(history.history['val_accuracy'], c='r')\n",
    "at.set_title('model accuracy')\n",
    "at.set_ylabel('accuracy')\n",
    "at.set_xlabel('epoch')\n",
    "at.legend(['LSTM_train', 'LSTM_val'], loc='upper left')\n",
    "\n",
    "al.plot(history.history['loss'], c='m')\n",
    "al.plot(history.history['val_loss'], c='c')\n",
    "al.set_title('model loss')\n",
    "al.set_ylabel('loss')\n",
    "al.set_xlabel('epoch')\n",
    "al.legend(['train', 'val'], loc = 'upper left')"
   ]
  },
  {
   "cell_type": "code",
   "execution_count": 33,
   "id": "28cd1a12",
   "metadata": {
    "execution": {
     "iopub.execute_input": "2023-08-23T07:23:20.275034Z",
     "iopub.status.busy": "2023-08-23T07:23:20.274562Z",
     "iopub.status.idle": "2023-08-23T07:23:21.167551Z",
     "shell.execute_reply": "2023-08-23T07:23:21.166241Z"
    },
    "papermill": {
     "duration": 0.995986,
     "end_time": "2023-08-23T07:23:21.170408",
     "exception": false,
     "start_time": "2023-08-23T07:23:20.174422",
     "status": "completed"
    },
    "tags": []
   },
   "outputs": [
    {
     "name": "stdout",
     "output_type": "stream",
     "text": [
      "1/1 [==============================] - 1s 820ms/step\n"
     ]
    }
   ],
   "source": [
    "def decode_sentiment(score):\n",
    "    return \"Non Disaster\" if score>0.5 else \"Disaster\"\n",
    "\n",
    "\n",
    "scores = model.predict(x_test, verbose=1, batch_size=10000)\n",
    "y_pred_1d = [decode_sentiment(score) for score in scores]"
   ]
  },
  {
   "cell_type": "code",
   "execution_count": 34,
   "id": "6be1249f",
   "metadata": {
    "execution": {
     "iopub.execute_input": "2023-08-23T07:23:21.370745Z",
     "iopub.status.busy": "2023-08-23T07:23:21.370281Z",
     "iopub.status.idle": "2023-08-23T07:23:21.891248Z",
     "shell.execute_reply": "2023-08-23T07:23:21.890330Z"
    },
    "papermill": {
     "duration": 0.625719,
     "end_time": "2023-08-23T07:23:21.893854",
     "exception": false,
     "start_time": "2023-08-23T07:23:21.268135",
     "status": "completed"
    },
    "tags": []
   },
   "outputs": [
    {
     "name": "stdout",
     "output_type": "stream",
     "text": [
      "1/1 [==============================] - 0s 462ms/step\n"
     ]
    }
   ],
   "source": [
    "score_val=model.predict(x_val, verbose=1, batch_size=10000)"
   ]
  },
  {
   "cell_type": "code",
   "execution_count": 35,
   "id": "30a76363",
   "metadata": {
    "execution": {
     "iopub.execute_input": "2023-08-23T07:23:22.090142Z",
     "iopub.status.busy": "2023-08-23T07:23:22.089672Z",
     "iopub.status.idle": "2023-08-23T07:23:22.106768Z",
     "shell.execute_reply": "2023-08-23T07:23:22.105828Z"
    },
    "papermill": {
     "duration": 0.118748,
     "end_time": "2023-08-23T07:23:22.109322",
     "exception": false,
     "start_time": "2023-08-23T07:23:21.990574",
     "status": "completed"
    },
    "tags": []
   },
   "outputs": [],
   "source": [
    "y_val_1d = [decode_sentiment(score) for score in score_val]"
   ]
  },
  {
   "cell_type": "code",
   "execution_count": 36,
   "id": "34ec0283",
   "metadata": {
    "execution": {
     "iopub.execute_input": "2023-08-23T07:23:22.308678Z",
     "iopub.status.busy": "2023-08-23T07:23:22.307619Z",
     "iopub.status.idle": "2023-08-23T07:23:22.315121Z",
     "shell.execute_reply": "2023-08-23T07:23:22.313750Z"
    },
    "papermill": {
     "duration": 0.110598,
     "end_time": "2023-08-23T07:23:22.317669",
     "exception": false,
     "start_time": "2023-08-23T07:23:22.207071",
     "status": "completed"
    },
    "tags": []
   },
   "outputs": [
    {
     "data": {
      "text/plain": [
       "3263"
      ]
     },
     "execution_count": 36,
     "metadata": {},
     "output_type": "execute_result"
    }
   ],
   "source": [
    "len(y_val_1d)"
   ]
  },
  {
   "cell_type": "code",
   "execution_count": 37,
   "id": "35e51f5f",
   "metadata": {
    "execution": {
     "iopub.execute_input": "2023-08-23T07:23:22.516287Z",
     "iopub.status.busy": "2023-08-23T07:23:22.515841Z",
     "iopub.status.idle": "2023-08-23T07:23:22.527261Z",
     "shell.execute_reply": "2023-08-23T07:23:22.526380Z"
    },
    "papermill": {
     "duration": 0.113335,
     "end_time": "2023-08-23T07:23:22.529597",
     "exception": false,
     "start_time": "2023-08-23T07:23:22.416262",
     "status": "completed"
    },
    "tags": []
   },
   "outputs": [],
   "source": [
    "import itertools\n",
    "from sklearn.metrics import confusion_matrix, classification_report, accuracy_score\n",
    "def plot_confusion_matrix(cm, classes,\n",
    "                          title='Confusion matrix',\n",
    "                          cmap=plt.cm.Blues):\n",
    "    \"\"\"\n",
    "    This function prints and plots the confusion matrix.\n",
    "    Normalization can be applied by setting `normalize=True`.\n",
    "    \"\"\"\n",
    "\n",
    "    cm = cm.astype('float') / cm.sum(axis=1)[:, np.newaxis]\n",
    "\n",
    "    plt.imshow(cm, interpolation='nearest', cmap=cmap)\n",
    "    plt.title(title, fontsize=20)\n",
    "    plt.colorbar()\n",
    "    tick_marks = np.arange(len(classes))\n",
    "    plt.xticks(tick_marks, classes, fontsize=13)\n",
    "    plt.yticks(tick_marks, classes, fontsize=13)\n",
    "\n",
    "    fmt = '.2f'\n",
    "    thresh = cm.max() / 2.\n",
    "    for i, j in itertools.product(range(cm.shape[0]), range(cm.shape[1])):\n",
    "        plt.text(j, i, format(cm[i, j], fmt),\n",
    "                 horizontalalignment=\"center\",\n",
    "                 color=\"white\" if cm[i, j] > thresh else \"black\")\n",
    "\n",
    "    plt.ylabel('True label', fontsize=17)\n",
    "    plt.xlabel('Predicted label', fontsize=17)"
   ]
  },
  {
   "cell_type": "code",
   "execution_count": 38,
   "id": "aae3a893",
   "metadata": {
    "execution": {
     "iopub.execute_input": "2023-08-23T07:23:22.798827Z",
     "iopub.status.busy": "2023-08-23T07:23:22.797878Z",
     "iopub.status.idle": "2023-08-23T07:23:23.153463Z",
     "shell.execute_reply": "2023-08-23T07:23:23.152294Z"
    },
    "papermill": {
     "duration": 0.457688,
     "end_time": "2023-08-23T07:23:23.156421",
     "exception": false,
     "start_time": "2023-08-23T07:23:22.698733",
     "status": "completed"
    },
    "tags": []
   },
   "outputs": [
    {
     "data": {
      "image/png": "[encoded data removed]",
      "text/plain": [
       "<Figure size 600x600 with 2 Axes>"
      ]
     },
     "metadata": {},
     "output_type": "display_data"
    }
   ],
   "source": [
    "cnf_matrix = confusion_matrix(test_data.target.to_list(), y_pred_1d)\n",
    "plt.figure(figsize=(6,6))\n",
    "plot_confusion_matrix(cnf_matrix, classes=test_data.target.unique(), title=\"Confusion matrix\")\n",
    "plt.show()"
   ]
  },
  {
   "cell_type": "code",
   "execution_count": 39,
   "id": "0d886e39",
   "metadata": {
    "execution": {
     "iopub.execute_input": "2023-08-23T07:23:23.360462Z",
     "iopub.status.busy": "2023-08-23T07:23:23.359398Z",
     "iopub.status.idle": "2023-08-23T07:23:23.404080Z",
     "shell.execute_reply": "2023-08-23T07:23:23.402839Z"
    },
    "papermill": {
     "duration": 0.149557,
     "end_time": "2023-08-23T07:23:23.406803",
     "exception": false,
     "start_time": "2023-08-23T07:23:23.257246",
     "status": "completed"
    },
    "tags": []
   },
   "outputs": [
    {
     "name": "stdout",
     "output_type": "stream",
     "text": [
      "              precision    recall  f1-score   support\n",
      "\n",
      "    Disaster       0.84      0.70      0.77       662\n",
      "Non Disaster       0.80      0.90      0.85       861\n",
      "\n",
      "    accuracy                           0.81      1523\n",
      "   macro avg       0.82      0.80      0.81      1523\n",
      "weighted avg       0.82      0.81      0.81      1523\n",
      "\n"
     ]
    }
   ],
   "source": [
    "print(classification_report(list(test_data.target), y_pred_1d))"
   ]
  }
 ],
 "metadata": {
  "kernelspec": {
   "display_name": "Python 3",
   "language": "python",
   "name": "python3"
  },
  "language_info": {
   "codemirror_mode": {
    "name": "ipython",
    "version": 3
   },
   "file_extension": ".py",
   "mimetype": "text/x-python",
   "name": "python",
   "nbconvert_exporter": "python",
   "pygments_lexer": "ipython3",
   "version": "3.10.12"
  },
  "papermill": {
   "default_parameters": {},
   "duration": 320.007445,
   "end_time": "2023-08-23T07:23:29.275711",
   "environment_variables": {},
   "exception": null,
   "input_path": "__notebook__.ipynb",
   "output_path": "__notebook__.ipynb",
   "parameters": {},
   "start_time": "2023-08-23T07:18:09.268266",
   "version": "2.4.0"
  }
 },
 "nbformat": 4,
 "nbformat_minor": 5
}
