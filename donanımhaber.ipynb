{
 "cells": [
  {
   "cell_type": "code",
   "execution_count": 2,
   "id": "cff3f0ab-67b3-4baa-9ae9-00351f633c64",
   "metadata": {
    "collapsed": true,
    "jupyter": {
     "outputs_hidden": true
    },
    "tags": []
   },
   "outputs": [
    {
     "name": "stdout",
     "output_type": "stream",
     "text": [
      "Requirement already satisfied: beautifulsoup4 in c:\\users\\msina\\anaconda3\\lib\\site-packages (4.10.0)\n",
      "Requirement already satisfied: soupsieve>1.2 in c:\\users\\msina\\anaconda3\\lib\\site-packages (from beautifulsoup4) (2.2.1)\n",
      "Note: you may need to restart the kernel to use updated packages.\n"
     ]
    },
    {
     "name": "stderr",
     "output_type": "stream",
     "text": [
      "WARNING: Ignoring invalid distribution -umpy (c:\\users\\msina\\anaconda3\\lib\\site-packages)\n",
      "WARNING: Ignoring invalid distribution -umpy (c:\\users\\msina\\anaconda3\\lib\\site-packages)\n",
      "WARNING: Ignoring invalid distribution -umpy (c:\\users\\msina\\anaconda3\\lib\\site-packages)\n",
      "WARNING: Ignoring invalid distribution -umpy (c:\\users\\msina\\anaconda3\\lib\\site-packages)\n",
      "WARNING: Ignoring invalid distribution -umpy (c:\\users\\msina\\anaconda3\\lib\\site-packages)\n",
      "WARNING: Ignoring invalid distribution -umpy (c:\\users\\msina\\anaconda3\\lib\\site-packages)\n"
     ]
    }
   ],
   "source": [
    "pip install beautifulsoup4\n"
   ]
  },
  {
   "cell_type": "code",
   "execution_count": null,
   "id": "1be73e02-7dbd-4432-9ab7-c7072300eafd",
   "metadata": {},
   "outputs": [],
   "source": [
    "pip install selenium\n"
   ]
  },
  {
   "cell_type": "code",
   "execution_count": null,
   "id": "f393db51-b6e5-41d4-9d10-1e19ed7447ad",
   "metadata": {},
   "outputs": [],
   "source": [
    "from selenium import webdriver\n",
    "from selenium.webdriver.common.by import By\n",
    "from bs4 import BeautifulSoup\n",
    "\n",
    "# Web sürücüsünü başlat\n",
    "driver = webdriver.Chrome()  # veya webdriver.Firefox(), webdriver.Edge() vb. kullanabilirsiniz\n",
    "\n",
    "# Web sayfasını aç\n",
    "driver.get(\"https://forum.donanimhaber.com/apple-turkiye-den-iphone-dahil-tum-urunlere-zam-100-bin-tl-bariyeri-kirildi--158190023\")\n",
    "\n",
    "# Yorumları içeren elementi bul\n",
    "comments_element = driver.find_element(By.CSS_SELECTOR, \".post-content\")\n",
    "\n",
    "# BeautifulSoup kullanarak sayfa içeriğini analiz et\n",
    "soup = BeautifulSoup(comments_element.get_attribute(\"outerHTML\"), \"html.parser\")\n",
    "\n",
    "# En beğenilen yorumları bul\n",
    "liked_comments = soup.select(\".like-count:first-child + .message-inner\")\n",
    "\n",
    "# Her bir yorumu yazdır\n",
    "for index, comment in enumerate(liked_comments, 1):\n",
    "    print(f\"{index}. Yorum: {comment.get_text(strip=True)}\")\n",
    "\n",
    "# Web sürücüsünü kapat\n",
    "driver.quit()\n"
   ]
  },
  {
   "cell_type": "code",
   "execution_count": null,
   "id": "4cd59db9-ffe9-4228-a304-f402f90c93c7",
   "metadata": {},
   "outputs": [],
   "source": []
  }
 ],
 "metadata": {
  "kernelspec": {
   "display_name": "Python 3 (ipykernel)",
   "language": "python",
   "name": "python3"
  },
  "language_info": {
   "codemirror_mode": {
    "name": "ipython",
    "version": 3
   },
   "file_extension": ".py",
   "mimetype": "text/x-python",
   "name": "python",
   "nbconvert_exporter": "python",
   "pygments_lexer": "ipython3",
   "version": "3.9.7"
  }
 },
 "nbformat": 4,
 "nbformat_minor": 5
}
