{
 "cells": [
  {
   "cell_type": "code",
   "execution_count": 1,
   "id": "e3ab1d65-2ca0-4b2f-8706-47f42b9b6dbd",
   "metadata": {},
   "outputs": [],
   "source": [
    "# Selenium WebDriver'ı import etme\n",
    "from selenium import webdriver"
   ]
  },
  {
   "cell_type": "code",
   "execution_count": 2,
   "id": "c387d12f-06fb-4813-a502-a872f25ec15b",
   "metadata": {},
   "outputs": [],
   "source": [
    "# WebDriver nesnesi oluşturma\n",
    "driver = webdriver.Chrome()"
   ]
  },
  {
   "cell_type": "code",
   "execution_count": 3,
   "id": "e6e89de4-974a-41b6-80a8-809c1d78f418",
   "metadata": {},
   "outputs": [],
   "source": [
    "# Tarama yapmak istediğiniz web sayfasının URL'sini verme\n",
    "driver.get(\"https://www.msinan.com\")\n"
   ]
  },
  {
   "cell_type": "code",
   "execution_count": 4,
   "id": "36af846d-ee45-43ff-af5b-22a698aab896",
   "metadata": {},
   "outputs": [
    {
     "name": "stdout",
     "output_type": "stream",
     "text": [
      "Dr. Muhammet Sinan BAŞARSLAN\n"
     ]
    }
   ],
   "source": [
    "# Sayfanın başlığını yazdırma\n",
    "print(driver.title)"
   ]
  },
  {
   "cell_type": "code",
   "execution_count": 5,
   "id": "be16aab2-4bac-4f9a-b19e-00884dea3ca1",
   "metadata": {},
   "outputs": [],
   "source": [
    "\n",
    "# Tarama sonlandırma\n",
    "driver.quit()"
   ]
  },
  {
   "cell_type": "code",
   "execution_count": null,
   "id": "e2e897e0-6b29-4334-9df5-a27a06522dd5",
   "metadata": {},
   "outputs": [],
   "source": []
  }
 ],
 "metadata": {
  "kernelspec": {
   "display_name": "Python 3 (ipykernel)",
   "language": "python",
   "name": "python3"
  },
  "language_info": {
   "codemirror_mode": {
    "name": "ipython",
    "version": 3
   },
   "file_extension": ".py",
   "mimetype": "text/x-python",
   "name": "python",
   "nbconvert_exporter": "python",
   "pygments_lexer": "ipython3",
   "version": "3.9.7"
  }
 },
 "nbformat": 4,
 "nbformat_minor": 5
}
