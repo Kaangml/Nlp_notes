{
 "cells": [
  {
   "cell_type": "code",
   "execution_count": 2,
   "id": "8f3b6238-e61d-44ff-9c15-8c6c04dd7290",
   "metadata": {},
   "outputs": [
    {
     "name": "stdout",
     "output_type": "stream",
     "text": [
      "Requirement already satisfied: requests in c:\\users\\msina\\anaconda3\\lib\\site-packages (2.28.2)Note: you may need to restart the kernel to use updated packages.\n"
     ]
    },
    {
     "name": "stderr",
     "output_type": "stream",
     "text": [
      "WARNING: Ignoring invalid distribution -umpy (c:\\users\\msina\\anaconda3\\lib\\site-packages)\n",
      "WARNING: Ignoring invalid distribution -umpy (c:\\users\\msina\\anaconda3\\lib\\site-packages)\n",
      "WARNING: Ignoring invalid distribution -umpy (c:\\users\\msina\\anaconda3\\lib\\site-packages)\n",
      "    WARNING: Ignoring invalid distribution -umpy (c:\\users\\msina\\anaconda3\\lib\\site-packages)\n",
      "WARNING: Ignoring invalid distribution -umpy (c:\\users\\msina\\anaconda3\\lib\\site-packages)\n",
      "ERROR: pip's dependency resolver does not currently take into account all the packages that are installed. This behaviour is the source of the following dependency conflicts.\n",
      "conda-repo-cli 1.0.4 requires pathlib, which is not installed.\n",
      "anaconda-project 0.10.1 requires ruamel-yaml, which is not installed.\n",
      "mxnet 1.7.0.post2 requires numpy<1.17.0,>=1.8.2, but you have numpy 1.22.4 which is incompatible.\n",
      "mxnet 1.7.0.post2 requires requests<2.19.0,>=2.18.4, but you have requests 2.28.2 which is incompatible.\n",
      "mxnet-cu100 1.5.0 requires numpy<1.17.0,>=1.8.2, but you have numpy 1.22.4 which is incompatible.\n",
      "mxnet-cu100 1.5.0 requires requests<2.19.0,>=2.18.4, but you have requests 2.28.2 which is incompatible.\n",
      "mxnet-cu92 1.5.0 requires numpy<1.17.0,>=1.8.2, but you have numpy 1.22.4 which is incompatible.\n",
      "mxnet-cu92 1.5.0 requires requests<2.19.0,>=2.18.4, but you have requests 2.28.2 which is incompatible.\n",
      "huggingface-hub 0.11.1 requires packaging>=20.9, but you have packaging 20.8 which is incompatible.\n",
      "WARNING: Ignoring invalid distribution -umpy (c:\\users\\msina\\anaconda3\\lib\\site-packages)\n",
      "WARNING: Ignoring invalid distribution -umpy (c:\\users\\msina\\anaconda3\\lib\\site-packages)\n",
      "WARNING: Ignoring invalid distribution -umpy (c:\\users\\msina\\anaconda3\\lib\\site-packages)\n"
     ]
    },
    {
     "name": "stdout",
     "output_type": "stream",
     "text": [
      "\n",
      "Collecting urllib3<1.27,>=1.21.1\n",
      "  Downloading urllib3-1.26.18-py2.py3-none-any.whl (143 kB)\n",
      "Requirement already satisfied: charset-normalizer<4,>=2 in c:\\users\\msina\\anaconda3\\lib\\site-packages (from requests) (2.0.4)\n",
      "Requirement already satisfied: idna<4,>=2.5 in c:\\users\\msina\\anaconda3\\lib\\site-packages (from requests) (2.6)\n",
      "Requirement already satisfied: certifi>=2017.4.17 in c:\\users\\msina\\anaconda3\\lib\\site-packages (from requests) (2024.2.2)\n",
      "Installing collected packages: urllib3\n",
      "  Attempting uninstall: urllib3\n",
      "    Found existing installation: urllib3 2.2.1\n",
      "    Uninstalling urllib3-2.2.1:\n",
      "      Successfully uninstalled urllib3-2.2.1\n",
      "Successfully installed urllib3-1.26.18\n"
     ]
    }
   ],
   "source": [
    "pip install requests"
   ]
  },
  {
   "cell_type": "code",
   "execution_count": null,
   "id": "94c3037b-85e1-412e-8042-5642746f95b0",
   "metadata": {},
   "outputs": [],
   "source": [
    "pip install beautifulsoup4"
   ]
  },
  {
   "cell_type": "code",
   "execution_count": 4,
   "id": "616cfe06-258d-42af-a33c-e7e3995df8a1",
   "metadata": {},
   "outputs": [],
   "source": [
    "import pandas"
   ]
  },
  {
   "cell_type": "code",
   "execution_count": null,
   "id": "c546ae84-5fa1-4750-8b19-e96ddbec91e5",
   "metadata": {},
   "outputs": [],
   "source": [
    "import requests\n",
    "from bs4 import BeautifulSoup\n",
    "import pandas as pd\n",
    "\n",
    "url = \"https://eksisozluk.com/30-yasindan-sonra-yeni-dil-ogrenmeye-calisan-tip--7791132?a=popular\"\n",
    "\n",
    "# Web sayfasını indir\n",
    "response = requests.get(url)\n",
    "\n",
    "# Sayfa içeriğini kontrol et\n",
    "if response.status_code == 200:\n",
    "    # BeautifulSoup kullanarak sayfa içeriğini analiz et\n",
    "    soup = BeautifulSoup(response.content, \"html.parser\")\n",
    "\n",
    "    # Başlıkları bul\n",
    "    entries = soup.find_all(\"div\", class_=\"content\")\n",
    "\n",
    "    # Başlıkları bir liste olarak topla\n",
    "    titles = [entry.get_text(strip=True) for entry in entries]\n",
    "\n",
    "    # Verileri pandas DataFrame'e dönüştür\n",
    "    data = {\"Başlıklar\": titles}\n",
    "    df = pd.DataFrame(data)\n",
    "\n",
    "    # Veriyi Excel dosyasına kaydet\n",
    "    df.to_excel(\"eksisozluk_basliklar.xlsx\", index=False)\n",
    "\n",
    "    print(\"Veriler başarıyla Excel dosyasına kaydedildi.\")\n",
    "else:\n",
    "    print(f\"Hata: {response.status_code}\")\n"
   ]
  },
  {
   "cell_type": "code",
   "execution_count": null,
   "id": "85834a57-1f98-4bc2-a0ec-4d602b1f30f3",
   "metadata": {},
   "outputs": [],
   "source": []
  }
 ],
 "metadata": {
  "kernelspec": {
   "display_name": "Python 3 (ipykernel)",
   "language": "python",
   "name": "python3"
  },
  "language_info": {
   "codemirror_mode": {
    "name": "ipython",
    "version": 3
   },
   "file_extension": ".py",
   "mimetype": "text/x-python",
   "name": "python",
   "nbconvert_exporter": "python",
   "pygments_lexer": "ipython3",
   "version": "3.9.7"
  }
 },
 "nbformat": 4,
 "nbformat_minor": 5
}
